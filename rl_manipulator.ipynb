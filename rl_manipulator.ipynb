{
  "cells": [
    {
      "cell_type": "code",
      "execution_count": 1,
      "metadata": {
        "id": "BVsHSxOMhxps",
        "metadata": {}
      },
      "outputs": [],
      "source": [
        "# !pip install mujoco\n",
        "# !pip install mujoco_mjx\n",
        "# !pip install brax"
      ]
    },
    {
      "cell_type": "code",
      "execution_count": 2,
      "metadata": {
        "id": "T5f4w3Kq2X14",
        "metadata": {}
      },
      "outputs": [
        {
          "name": "stdout",
          "output_type": "stream",
          "text": [
            "git test\n",
            "Installing mediapy:\n"
          ]
        }
      ],
      "source": [
        "#@title Import packages for plotting and creating graphics\n",
        "import time\n",
        "import itertools\n",
        "import numpy as np\n",
        "from typing import Callable, NamedTuple, Optional, Union, List\n",
        "\n",
        "# Graphics and plotting.\n",
        "print(\"git test\")\n",
        "print('Installing mediapy:')\n",
        "# !command -v ffmpeg >/dev/null || (apt update && apt install -y ffmpeg)\n",
        "# !pip install -q mediapy\n",
        "import mediapy as media\n",
        "import matplotlib.pyplot as plt\n",
        "\n",
        "# More legible printing from numpy.\n",
        "np.set_printoptions(precision=3, suppress=True, linewidth=100)"
      ]
    },
    {
      "cell_type": "code",
      "execution_count": 3,
      "metadata": {
        "id": "IbZxYDxzoz5R",
        "metadata": {}
      },
      "outputs": [
        {
          "name": "stdout",
          "output_type": "stream",
          "text": [
            "Mon May 20 17:42:47 2024       \n",
            "+---------------------------------------------------------------------------------------+\n",
            "| NVIDIA-SMI 535.171.04             Driver Version: 535.171.04   CUDA Version: 12.2     |\n",
            "|-----------------------------------------+----------------------+----------------------+\n",
            "| GPU  Name                 Persistence-M | Bus-Id        Disp.A | Volatile Uncorr. ECC |\n",
            "| Fan  Temp   Perf          Pwr:Usage/Cap |         Memory-Usage | GPU-Util  Compute M. |\n",
            "|                                         |                      |               MIG M. |\n",
            "|=========================================+======================+======================|\n",
            "|   0  NVIDIA GeForce RTX 3080 ...    Off | 00000000:01:00.0  On |                  N/A |\n",
            "| N/A   52C    P8              14W / 150W |     97MiB / 16384MiB |     43%      Default |\n",
            "|                                         |                      |                  N/A |\n",
            "+-----------------------------------------+----------------------+----------------------+\n",
            "                                                                                         \n",
            "+---------------------------------------------------------------------------------------+\n",
            "| Processes:                                                                            |\n",
            "|  GPU   GI   CI        PID   Type   Process name                            GPU Memory |\n",
            "|        ID   ID                                                             Usage      |\n",
            "|=======================================================================================|\n",
            "|    0   N/A  N/A      2453      G   /usr/lib/xorg/Xorg                           93MiB |\n",
            "+---------------------------------------------------------------------------------------+\n",
            "Setting environment variable to use GPU rendering:\n",
            "env: MUJOCO_GL=egl\n",
            "Checking that the installation succeeded:\n",
            "Installation successful.\n"
          ]
        }
      ],
      "source": [
        "#@title Check if MuJoCo installation was successful\n",
        "\n",
        "# from google.colab import files\n",
        "\n",
        "import distutils.util\n",
        "import os\n",
        "import subprocess\n",
        "if subprocess.run('nvidia-smi').returncode:\n",
        "  raise RuntimeError(\n",
        "      'Cannot communicate with GPU. '\n",
        "      'Make sure you are using a GPU Colab runtime. '\n",
        "      'Go to the Runtime menu and select Choose runtime type.')\n",
        "\n",
        "# Add an ICD config so that glvnd can pick up the Nvidia EGL driver.\n",
        "# This is usually installed as part of an Nvidia driver package, but the Colab\n",
        "# kernel doesn't install its driver via APT, and as a result the ICD is missing.\n",
        "# (https://github.com/NVIDIA/libglvnd/blob/master/src/EGL/icd_enumeration.md)\n",
        "NVIDIA_ICD_CONFIG_PATH = '/usr/share/glvnd/egl_vendor.d/10_nvidia.json'\n",
        "if not os.path.exists(NVIDIA_ICD_CONFIG_PATH):\n",
        "  with open(NVIDIA_ICD_CONFIG_PATH, 'w') as f:\n",
        "    f.write(\"\"\"{\n",
        "    \"file_format_version\" : \"1.0.0\",\n",
        "    \"ICD\" : {\n",
        "        \"library_path\" : \"libEGL_nvidia.so.0\"\n",
        "    }\n",
        "}\n",
        "\"\"\")\n",
        "\n",
        "# Tell XLA to use Triton GEMM, this improves steps/sec by ~30% on some GPUs\n",
        "xla_flags = os.environ.get('XLA_FLAGS', '')\n",
        "xla_flags += ' --xla_gpu_triton_gemm_any=True'\n",
        "os.environ['XLA_FLAGS'] = xla_flags\n",
        "\n",
        "# Configure MuJoCo to use the EGL rendering backend (requires GPU)\n",
        "print('Setting environment variable to use GPU rendering:')\n",
        "%env MUJOCO_GL=egl\n",
        "\n",
        "try:\n",
        "  print('Checking that the installation succeeded:')\n",
        "  import mujoco\n",
        "  mujoco.MjModel.from_xml_string('<mujoco/>')\n",
        "except Exception as e:\n",
        "  raise e from RuntimeError(\n",
        "      'Something went wrong during installation. Check the shell output above '\n",
        "      'for more information.\\n'\n",
        "      'If using a hosted Colab runtime, make sure you enable GPU acceleration '\n",
        "      'by going to the Runtime menu and selecting \"Choose runtime type\".')\n",
        "\n",
        "print('Installation successful.')"
      ]
    },
    {
      "cell_type": "code",
      "execution_count": 4,
      "metadata": {
        "id": "NFOwnK6ph7cJ",
        "metadata": {}
      },
      "outputs": [],
      "source": [
        "from datetime import datetime\n",
        "import functools\n",
        "from IPython.display import HTML\n",
        "import jax\n",
        "from jax import numpy as jp\n",
        "import numpy as np\n",
        "from typing import Any, Dict, Sequence, Tuple, Union\n",
        "\n",
        "from brax import base\n",
        "from brax import envs\n",
        "from brax import math\n",
        "from brax.base import Base, Motion, Transform\n",
        "from brax.envs.base import Env, PipelineEnv, State\n",
        "from brax.mjx.base import State as MjxState\n",
        "from brax.training.agents.ppo import train as ppo\n",
        "from brax.training.agents.ppo import networks as ppo_networks\n",
        "from brax.io import html, mjcf, model\n",
        "\n",
        "from etils import epath\n",
        "from flax import struct\n",
        "from matplotlib import pyplot as plt\n",
        "import mediapy as media\n",
        "from ml_collections import config_dict\n",
        "import mujoco\n",
        "from mujoco import mjx"
      ]
    },
    {
      "cell_type": "code",
      "execution_count": 5,
      "metadata": {
        "id": "34iVTavRiB_v",
        "metadata": {}
      },
      "outputs": [],
      "source": [
        "mj_model = mujoco.MjModel.from_xml_path('unitree_z1/scene.xml')\n",
        "mj_data = mujoco.MjData(mj_model)\n",
        "renderer = mujoco.Renderer(mj_model)\n",
        "os.environ[\"XLA_PYTHON_CLIENT_PREALLOCATE\"]=\"false\"\n",
        "# os.environ[\"XLA_PYTHON_CLIENT_MEM_FRACTION\"]=\".75\"\n",
        "# os.environ[\"XLA_PYTHON_CLIENT_ALLOCATOR\"]=\"platform\""
      ]
    },
    {
      "cell_type": "code",
      "execution_count": 6,
      "metadata": {
        "id": "rHp19frlRLa9",
        "metadata": {}
      },
      "outputs": [],
      "source": [
        "import os\n",
        "\n",
        "os.environ[\"XLA_PYTHON_CLIENT_PREALLOCATE\"]=\"false\"\n",
        "os.environ[\"XLA_PYTHON_CLIENT_MEM_FRACTION\"]=\".75\"\n",
        "os.environ[\"XLA_PYTHON_CLIENT_ALLOCATOR\"]=\"platform\""
      ]
    },
    {
      "cell_type": "code",
      "execution_count": 7,
      "metadata": {
        "id": "Qwvo_EMnRLa9",
        "metadata": {}
      },
      "outputs": [
        {
          "ename": "KeyboardInterrupt",
          "evalue": "",
          "output_type": "error",
          "traceback": [
            "\u001b[0;31m---------------------------------------------------------------------------\u001b[0m",
            "\u001b[0;31mKeyboardInterrupt\u001b[0m                         Traceback (most recent call last)",
            "Cell \u001b[0;32mIn[7], line 22\u001b[0m\n\u001b[1;32m     19\u001b[0m     \u001b[38;5;28;01mreturn\u001b[39;00m pos\n\u001b[1;32m     21\u001b[0m vel \u001b[38;5;241m=\u001b[39m jax\u001b[38;5;241m.\u001b[39mnumpy\u001b[38;5;241m.\u001b[39marange(\u001b[38;5;241m0.0\u001b[39m, \u001b[38;5;241m1000.0\u001b[39m, \u001b[38;5;241m0.001\u001b[39m)\n\u001b[0;32m---> 22\u001b[0m pos \u001b[38;5;241m=\u001b[39m \u001b[43mjax\u001b[49m\u001b[38;5;241;43m.\u001b[39;49m\u001b[43mjit\u001b[49m\u001b[43m(\u001b[49m\u001b[43mbatched_step\u001b[49m\u001b[43m)\u001b[49m\u001b[43m(\u001b[49m\u001b[43mvel\u001b[49m\u001b[43m)\u001b[49m\n\u001b[1;32m     23\u001b[0m \u001b[38;5;28mprint\u001b[39m(\u001b[38;5;124m\"\u001b[39m\u001b[38;5;124mtotal step size\u001b[39m\u001b[38;5;124m\"\u001b[39m, \u001b[38;5;28mlen\u001b[39m(vel))\n\u001b[1;32m     24\u001b[0m \u001b[38;5;28mprint\u001b[39m(pos)\n",
            "    \u001b[0;31m[... skipping hidden 1 frame]\u001b[0m\n",
            "File \u001b[0;32m~/.local/lib/python3.12/site-packages/jax/_src/pjit.py:298\u001b[0m, in \u001b[0;36m_cpp_pjit.<locals>.cache_miss\u001b[0;34m(*args, **kwargs)\u001b[0m\n\u001b[1;32m    296\u001b[0m \u001b[38;5;129m@api_boundary\u001b[39m\n\u001b[1;32m    297\u001b[0m \u001b[38;5;28;01mdef\u001b[39;00m \u001b[38;5;21mcache_miss\u001b[39m(\u001b[38;5;241m*\u001b[39margs, \u001b[38;5;241m*\u001b[39m\u001b[38;5;241m*\u001b[39mkwargs):\n\u001b[0;32m--> 298\u001b[0m   outs, out_flat, out_tree, args_flat, jaxpr, attrs_tracked \u001b[38;5;241m=\u001b[39m \u001b[43m_python_pjit_helper\u001b[49m\u001b[43m(\u001b[49m\n\u001b[1;32m    299\u001b[0m \u001b[43m      \u001b[49m\u001b[43mjit_info\u001b[49m\u001b[43m,\u001b[49m\u001b[43m \u001b[49m\u001b[38;5;241;43m*\u001b[39;49m\u001b[43margs\u001b[49m\u001b[43m,\u001b[49m\u001b[43m \u001b[49m\u001b[38;5;241;43m*\u001b[39;49m\u001b[38;5;241;43m*\u001b[39;49m\u001b[43mkwargs\u001b[49m\u001b[43m)\u001b[49m\n\u001b[1;32m    300\u001b[0m   executable \u001b[38;5;241m=\u001b[39m _read_most_recent_pjit_call_executable(jaxpr)\n\u001b[1;32m    301\u001b[0m   maybe_fastpath_data \u001b[38;5;241m=\u001b[39m _get_fastpath_data(\n\u001b[1;32m    302\u001b[0m       executable, out_tree, args_flat, out_flat, attrs_tracked, jaxpr\u001b[38;5;241m.\u001b[39meffects,\n\u001b[1;32m    303\u001b[0m       jit_info\u001b[38;5;241m.\u001b[39mabstracted_axes)\n",
            "File \u001b[0;32m~/.local/lib/python3.12/site-packages/jax/_src/pjit.py:176\u001b[0m, in \u001b[0;36m_python_pjit_helper\u001b[0;34m(jit_info, *args, **kwargs)\u001b[0m\n\u001b[1;32m    173\u001b[0m   args_flat \u001b[38;5;241m=\u001b[39m [\u001b[38;5;241m*\u001b[39minit_states, \u001b[38;5;241m*\u001b[39margs_flat]\n\u001b[1;32m    175\u001b[0m \u001b[38;5;28;01mtry\u001b[39;00m:\n\u001b[0;32m--> 176\u001b[0m   out_flat \u001b[38;5;241m=\u001b[39m \u001b[43mpjit_p\u001b[49m\u001b[38;5;241;43m.\u001b[39;49m\u001b[43mbind\u001b[49m\u001b[43m(\u001b[49m\u001b[38;5;241;43m*\u001b[39;49m\u001b[43margs_flat\u001b[49m\u001b[43m,\u001b[49m\u001b[43m \u001b[49m\u001b[38;5;241;43m*\u001b[39;49m\u001b[38;5;241;43m*\u001b[39;49m\u001b[43mparams\u001b[49m\u001b[43m)\u001b[49m\n\u001b[1;32m    177\u001b[0m \u001b[38;5;28;01mexcept\u001b[39;00m pxla\u001b[38;5;241m.\u001b[39mDeviceAssignmentMismatchError \u001b[38;5;28;01mas\u001b[39;00m e:\n\u001b[1;32m    178\u001b[0m   fails, \u001b[38;5;241m=\u001b[39m e\u001b[38;5;241m.\u001b[39margs\n",
            "File \u001b[0;32m~/.local/lib/python3.12/site-packages/jax/_src/core.py:2788\u001b[0m, in \u001b[0;36mAxisPrimitive.bind\u001b[0;34m(self, *args, **params)\u001b[0m\n\u001b[1;32m   2784\u001b[0m axis_main \u001b[38;5;241m=\u001b[39m \u001b[38;5;28mmax\u001b[39m((axis_frame(a)\u001b[38;5;241m.\u001b[39mmain_trace \u001b[38;5;28;01mfor\u001b[39;00m a \u001b[38;5;129;01min\u001b[39;00m used_axis_names(\u001b[38;5;28mself\u001b[39m, params)),\n\u001b[1;32m   2785\u001b[0m                 default\u001b[38;5;241m=\u001b[39m\u001b[38;5;28;01mNone\u001b[39;00m, key\u001b[38;5;241m=\u001b[39m\u001b[38;5;28;01mlambda\u001b[39;00m t: \u001b[38;5;28mgetattr\u001b[39m(t, \u001b[38;5;124m'\u001b[39m\u001b[38;5;124mlevel\u001b[39m\u001b[38;5;124m'\u001b[39m, \u001b[38;5;241m-\u001b[39m\u001b[38;5;241m1\u001b[39m))\n\u001b[1;32m   2786\u001b[0m top_trace \u001b[38;5;241m=\u001b[39m (top_trace \u001b[38;5;28;01mif\u001b[39;00m \u001b[38;5;129;01mnot\u001b[39;00m axis_main \u001b[38;5;129;01mor\u001b[39;00m axis_main\u001b[38;5;241m.\u001b[39mlevel \u001b[38;5;241m<\u001b[39m top_trace\u001b[38;5;241m.\u001b[39mlevel\n\u001b[1;32m   2787\u001b[0m              \u001b[38;5;28;01melse\u001b[39;00m axis_main\u001b[38;5;241m.\u001b[39mwith_cur_sublevel())\n\u001b[0;32m-> 2788\u001b[0m \u001b[38;5;28;01mreturn\u001b[39;00m \u001b[38;5;28;43mself\u001b[39;49m\u001b[38;5;241;43m.\u001b[39;49m\u001b[43mbind_with_trace\u001b[49m\u001b[43m(\u001b[49m\u001b[43mtop_trace\u001b[49m\u001b[43m,\u001b[49m\u001b[43m \u001b[49m\u001b[43margs\u001b[49m\u001b[43m,\u001b[49m\u001b[43m \u001b[49m\u001b[43mparams\u001b[49m\u001b[43m)\u001b[49m\n",
            "File \u001b[0;32m~/.local/lib/python3.12/site-packages/jax/_src/core.py:425\u001b[0m, in \u001b[0;36mPrimitive.bind_with_trace\u001b[0;34m(self, trace, args, params)\u001b[0m\n\u001b[1;32m    424\u001b[0m \u001b[38;5;28;01mdef\u001b[39;00m \u001b[38;5;21mbind_with_trace\u001b[39m(\u001b[38;5;28mself\u001b[39m, trace, args, params):\n\u001b[0;32m--> 425\u001b[0m   out \u001b[38;5;241m=\u001b[39m \u001b[43mtrace\u001b[49m\u001b[38;5;241;43m.\u001b[39;49m\u001b[43mprocess_primitive\u001b[49m\u001b[43m(\u001b[49m\u001b[38;5;28;43mself\u001b[39;49m\u001b[43m,\u001b[49m\u001b[43m \u001b[49m\u001b[38;5;28;43mmap\u001b[39;49m\u001b[43m(\u001b[49m\u001b[43mtrace\u001b[49m\u001b[38;5;241;43m.\u001b[39;49m\u001b[43mfull_raise\u001b[49m\u001b[43m,\u001b[49m\u001b[43m \u001b[49m\u001b[43margs\u001b[49m\u001b[43m)\u001b[49m\u001b[43m,\u001b[49m\u001b[43m \u001b[49m\u001b[43mparams\u001b[49m\u001b[43m)\u001b[49m\n\u001b[1;32m    426\u001b[0m   \u001b[38;5;28;01mreturn\u001b[39;00m \u001b[38;5;28mmap\u001b[39m(full_lower, out) \u001b[38;5;28;01mif\u001b[39;00m \u001b[38;5;28mself\u001b[39m\u001b[38;5;241m.\u001b[39mmultiple_results \u001b[38;5;28;01melse\u001b[39;00m full_lower(out)\n",
            "File \u001b[0;32m~/.local/lib/python3.12/site-packages/jax/_src/core.py:913\u001b[0m, in \u001b[0;36mEvalTrace.process_primitive\u001b[0;34m(self, primitive, tracers, params)\u001b[0m\n\u001b[1;32m    912\u001b[0m \u001b[38;5;28;01mdef\u001b[39;00m \u001b[38;5;21mprocess_primitive\u001b[39m(\u001b[38;5;28mself\u001b[39m, primitive, tracers, params):\n\u001b[0;32m--> 913\u001b[0m   \u001b[38;5;28;01mreturn\u001b[39;00m \u001b[43mprimitive\u001b[49m\u001b[38;5;241;43m.\u001b[39;49m\u001b[43mimpl\u001b[49m\u001b[43m(\u001b[49m\u001b[38;5;241;43m*\u001b[39;49m\u001b[43mtracers\u001b[49m\u001b[43m,\u001b[49m\u001b[43m \u001b[49m\u001b[38;5;241;43m*\u001b[39;49m\u001b[38;5;241;43m*\u001b[39;49m\u001b[43mparams\u001b[49m\u001b[43m)\u001b[49m\n",
            "File \u001b[0;32m~/.local/lib/python3.12/site-packages/jax/_src/pjit.py:1488\u001b[0m, in \u001b[0;36m_pjit_call_impl\u001b[0;34m(jaxpr, in_shardings, out_shardings, resource_env, donated_invars, name, keep_unused, inline, *args)\u001b[0m\n\u001b[1;32m   1485\u001b[0m has_explicit_sharding \u001b[38;5;241m=\u001b[39m _pjit_explicit_sharding(\n\u001b[1;32m   1486\u001b[0m     in_shardings, out_shardings, \u001b[38;5;28;01mNone\u001b[39;00m, \u001b[38;5;28;01mNone\u001b[39;00m)\n\u001b[1;32m   1487\u001b[0m \u001b[38;5;28;01mif\u001b[39;00m xla_extension_version \u001b[38;5;241m>\u001b[39m\u001b[38;5;241m=\u001b[39m \u001b[38;5;241m226\u001b[39m:\n\u001b[0;32m-> 1488\u001b[0m   \u001b[38;5;28;01mreturn\u001b[39;00m \u001b[43mxc\u001b[49m\u001b[38;5;241;43m.\u001b[39;49m\u001b[43m_xla\u001b[49m\u001b[38;5;241;43m.\u001b[39;49m\u001b[43mpjit\u001b[49m\u001b[43m(\u001b[49m\n\u001b[1;32m   1489\u001b[0m \u001b[43m      \u001b[49m\u001b[43mname\u001b[49m\u001b[43m,\u001b[49m\u001b[43m \u001b[49m\u001b[43mf\u001b[49m\u001b[43m,\u001b[49m\u001b[43m \u001b[49m\u001b[43mcall_impl_cache_miss\u001b[49m\u001b[43m,\u001b[49m\u001b[43m \u001b[49m\u001b[43m[\u001b[49m\u001b[43m]\u001b[49m\u001b[43m,\u001b[49m\u001b[43m \u001b[49m\u001b[43m[\u001b[49m\u001b[43m]\u001b[49m\u001b[43m,\u001b[49m\u001b[43m \u001b[49m\u001b[43mdonated_argnums\u001b[49m\u001b[43m,\u001b[49m\n\u001b[1;32m   1490\u001b[0m \u001b[43m      \u001b[49m\u001b[43mtree_util\u001b[49m\u001b[38;5;241;43m.\u001b[39;49m\u001b[43mdispatch_registry\u001b[49m\u001b[43m,\u001b[49m\n\u001b[1;32m   1491\u001b[0m \u001b[43m      \u001b[49m\u001b[43mpxla\u001b[49m\u001b[38;5;241;43m.\u001b[39;49m\u001b[43mshard_arg\u001b[49m\u001b[43m \u001b[49m\u001b[38;5;28;43;01mif\u001b[39;49;00m\u001b[43m \u001b[49m\u001b[43mxla_extension_version\u001b[49m\u001b[43m \u001b[49m\u001b[38;5;241;43m>\u001b[39;49m\u001b[38;5;241;43m=\u001b[39;49m\u001b[43m \u001b[49m\u001b[38;5;241;43m229\u001b[39;49m\u001b[43m \u001b[49m\u001b[38;5;28;43;01melse\u001b[39;49;00m\u001b[43m \u001b[49m\u001b[43mpxla\u001b[49m\u001b[38;5;241;43m.\u001b[39;49m\u001b[43mtemp_shard_arg\u001b[49m\u001b[43m,\u001b[49m\u001b[43m  \u001b[49m\u001b[38;5;66;43;03m# type: ignore\u001b[39;49;00m\n\u001b[1;32m   1492\u001b[0m \u001b[43m      \u001b[49m\u001b[43m_get_cpp_global_cache\u001b[49m\u001b[43m(\u001b[49m\u001b[43mhas_explicit_sharding\u001b[49m\u001b[43m)\u001b[49m\u001b[43m)\u001b[49m\u001b[43m(\u001b[49m\u001b[38;5;241;43m*\u001b[39;49m\u001b[43margs\u001b[49m\u001b[43m)\u001b[49m\n\u001b[1;32m   1493\u001b[0m \u001b[38;5;28;01melse\u001b[39;00m:\n\u001b[1;32m   1494\u001b[0m   \u001b[38;5;28;01mreturn\u001b[39;00m xc\u001b[38;5;241m.\u001b[39m_xla\u001b[38;5;241m.\u001b[39mpjit(name, f, call_impl_cache_miss, [], [], donated_argnums,  \u001b[38;5;66;03m# type: ignore\u001b[39;00m\n\u001b[1;32m   1495\u001b[0m                       tree_util\u001b[38;5;241m.\u001b[39mdispatch_registry,\n\u001b[1;32m   1496\u001b[0m                       _get_cpp_global_cache(has_explicit_sharding))(\u001b[38;5;241m*\u001b[39margs)\n",
            "File \u001b[0;32m~/.local/lib/python3.12/site-packages/jax/_src/pjit.py:1471\u001b[0m, in \u001b[0;36m_pjit_call_impl.<locals>.call_impl_cache_miss\u001b[0;34m(*args_, **kwargs_)\u001b[0m\n\u001b[1;32m   1470\u001b[0m \u001b[38;5;28;01mdef\u001b[39;00m \u001b[38;5;21mcall_impl_cache_miss\u001b[39m(\u001b[38;5;241m*\u001b[39margs_, \u001b[38;5;241m*\u001b[39m\u001b[38;5;241m*\u001b[39mkwargs_):\n\u001b[0;32m-> 1471\u001b[0m   out_flat, compiled \u001b[38;5;241m=\u001b[39m \u001b[43m_pjit_call_impl_python\u001b[49m\u001b[43m(\u001b[49m\n\u001b[1;32m   1472\u001b[0m \u001b[43m      \u001b[49m\u001b[38;5;241;43m*\u001b[39;49m\u001b[43margs\u001b[49m\u001b[43m,\u001b[49m\u001b[43m \u001b[49m\u001b[43mjaxpr\u001b[49m\u001b[38;5;241;43m=\u001b[39;49m\u001b[43mjaxpr\u001b[49m\u001b[43m,\u001b[49m\u001b[43m \u001b[49m\u001b[43min_shardings\u001b[49m\u001b[38;5;241;43m=\u001b[39;49m\u001b[43min_shardings\u001b[49m\u001b[43m,\u001b[49m\n\u001b[1;32m   1473\u001b[0m \u001b[43m      \u001b[49m\u001b[43mout_shardings\u001b[49m\u001b[38;5;241;43m=\u001b[39;49m\u001b[43mout_shardings\u001b[49m\u001b[43m,\u001b[49m\u001b[43m \u001b[49m\u001b[43mresource_env\u001b[49m\u001b[38;5;241;43m=\u001b[39;49m\u001b[43mresource_env\u001b[49m\u001b[43m,\u001b[49m\n\u001b[1;32m   1474\u001b[0m \u001b[43m      \u001b[49m\u001b[43mdonated_invars\u001b[49m\u001b[38;5;241;43m=\u001b[39;49m\u001b[43mdonated_invars\u001b[49m\u001b[43m,\u001b[49m\u001b[43m \u001b[49m\u001b[43mname\u001b[49m\u001b[38;5;241;43m=\u001b[39;49m\u001b[43mname\u001b[49m\u001b[43m,\u001b[49m\u001b[43m \u001b[49m\u001b[43mkeep_unused\u001b[49m\u001b[38;5;241;43m=\u001b[39;49m\u001b[43mkeep_unused\u001b[49m\u001b[43m,\u001b[49m\n\u001b[1;32m   1475\u001b[0m \u001b[43m      \u001b[49m\u001b[43minline\u001b[49m\u001b[38;5;241;43m=\u001b[39;49m\u001b[43minline\u001b[49m\u001b[43m)\u001b[49m\n\u001b[1;32m   1476\u001b[0m   fastpath_data \u001b[38;5;241m=\u001b[39m _get_fastpath_data(\n\u001b[1;32m   1477\u001b[0m       compiled, tree_structure(out_flat), args, out_flat, [], jaxpr\u001b[38;5;241m.\u001b[39meffects,\n\u001b[1;32m   1478\u001b[0m       \u001b[38;5;28;01mNone\u001b[39;00m)\n\u001b[1;32m   1479\u001b[0m   \u001b[38;5;28;01mreturn\u001b[39;00m out_flat, fastpath_data\n",
            "File \u001b[0;32m~/.local/lib/python3.12/site-packages/jax/_src/pjit.py:1427\u001b[0m, in \u001b[0;36m_pjit_call_impl_python\u001b[0;34m(jaxpr, in_shardings, out_shardings, resource_env, donated_invars, name, keep_unused, inline, *args)\u001b[0m\n\u001b[1;32m   1421\u001b[0m   distributed_debug_log((\u001b[38;5;124m\"\u001b[39m\u001b[38;5;124mRunning pjit\u001b[39m\u001b[38;5;124m'\u001b[39m\u001b[38;5;124md function\u001b[39m\u001b[38;5;124m\"\u001b[39m, name),\n\u001b[1;32m   1422\u001b[0m                         (\u001b[38;5;124m\"\u001b[39m\u001b[38;5;124min_shardings\u001b[39m\u001b[38;5;124m\"\u001b[39m, in_shardings),\n\u001b[1;32m   1423\u001b[0m                         (\u001b[38;5;124m\"\u001b[39m\u001b[38;5;124mout_shardings\u001b[39m\u001b[38;5;124m\"\u001b[39m, out_shardings),\n\u001b[1;32m   1424\u001b[0m                         (\u001b[38;5;124m\"\u001b[39m\u001b[38;5;124mabstract args\u001b[39m\u001b[38;5;124m\"\u001b[39m, \u001b[38;5;28mmap\u001b[39m(xla\u001b[38;5;241m.\u001b[39mabstractify, args)),\n\u001b[1;32m   1425\u001b[0m                         (\u001b[38;5;124m\"\u001b[39m\u001b[38;5;124mfingerprint\u001b[39m\u001b[38;5;124m\"\u001b[39m, fingerprint))\n\u001b[1;32m   1426\u001b[0m \u001b[38;5;28;01mtry\u001b[39;00m:\n\u001b[0;32m-> 1427\u001b[0m   \u001b[38;5;28;01mreturn\u001b[39;00m \u001b[43mcompiled\u001b[49m\u001b[38;5;241;43m.\u001b[39;49m\u001b[43munsafe_call\u001b[49m\u001b[43m(\u001b[49m\u001b[38;5;241;43m*\u001b[39;49m\u001b[43margs\u001b[49m\u001b[43m)\u001b[49m, compiled\n\u001b[1;32m   1428\u001b[0m \u001b[38;5;28;01mexcept\u001b[39;00m \u001b[38;5;167;01mFloatingPointError\u001b[39;00m \u001b[38;5;28;01mas\u001b[39;00m e:\n\u001b[1;32m   1429\u001b[0m   \u001b[38;5;28;01massert\u001b[39;00m config\u001b[38;5;241m.\u001b[39mdebug_nans\u001b[38;5;241m.\u001b[39mvalue \u001b[38;5;129;01mor\u001b[39;00m config\u001b[38;5;241m.\u001b[39mdebug_infs\u001b[38;5;241m.\u001b[39mvalue  \u001b[38;5;66;03m# compiled_fun can only raise in this case\u001b[39;00m\n",
            "File \u001b[0;32m~/.local/lib/python3.12/site-packages/jax/_src/profiler.py:335\u001b[0m, in \u001b[0;36mannotate_function.<locals>.wrapper\u001b[0;34m(*args, **kwargs)\u001b[0m\n\u001b[1;32m    332\u001b[0m \u001b[38;5;129m@wraps\u001b[39m(func)\n\u001b[1;32m    333\u001b[0m \u001b[38;5;28;01mdef\u001b[39;00m \u001b[38;5;21mwrapper\u001b[39m(\u001b[38;5;241m*\u001b[39margs, \u001b[38;5;241m*\u001b[39m\u001b[38;5;241m*\u001b[39mkwargs):\n\u001b[1;32m    334\u001b[0m   \u001b[38;5;28;01mwith\u001b[39;00m TraceAnnotation(name, \u001b[38;5;241m*\u001b[39m\u001b[38;5;241m*\u001b[39mdecorator_kwargs):\n\u001b[0;32m--> 335\u001b[0m     \u001b[38;5;28;01mreturn\u001b[39;00m \u001b[43mfunc\u001b[49m\u001b[43m(\u001b[49m\u001b[38;5;241;43m*\u001b[39;49m\u001b[43margs\u001b[49m\u001b[43m,\u001b[49m\u001b[43m \u001b[49m\u001b[38;5;241;43m*\u001b[39;49m\u001b[38;5;241;43m*\u001b[39;49m\u001b[43mkwargs\u001b[49m\u001b[43m)\u001b[49m\n\u001b[1;32m    336\u001b[0m   \u001b[38;5;28;01mreturn\u001b[39;00m wrapper\n",
            "File \u001b[0;32m~/.local/lib/python3.12/site-packages/jax/_src/interpreters/pxla.py:1213\u001b[0m, in \u001b[0;36mExecuteReplicated.__call__\u001b[0;34m(self, *args)\u001b[0m\n\u001b[1;32m   1211\u001b[0m   \u001b[38;5;28mself\u001b[39m\u001b[38;5;241m.\u001b[39m_handle_token_bufs(result_token_bufs, sharded_runtime_token)\n\u001b[1;32m   1212\u001b[0m \u001b[38;5;28;01melse\u001b[39;00m:\n\u001b[0;32m-> 1213\u001b[0m   results \u001b[38;5;241m=\u001b[39m \u001b[38;5;28;43mself\u001b[39;49m\u001b[38;5;241;43m.\u001b[39;49m\u001b[43mxla_executable\u001b[49m\u001b[38;5;241;43m.\u001b[39;49m\u001b[43mexecute_sharded\u001b[49m\u001b[43m(\u001b[49m\u001b[43minput_bufs\u001b[49m\u001b[43m)\u001b[49m\n\u001b[1;32m   1214\u001b[0m \u001b[38;5;28;01mif\u001b[39;00m dispatch\u001b[38;5;241m.\u001b[39mneeds_check_special():\n\u001b[1;32m   1215\u001b[0m   out_arrays \u001b[38;5;241m=\u001b[39m results\u001b[38;5;241m.\u001b[39mdisassemble_into_single_device_arrays()\n",
            "\u001b[0;31mKeyboardInterrupt\u001b[0m: "
          ]
        }
      ],
      "source": [
        "# class TrainManipulator():\n",
        "import mujoco\n",
        "from mujoco import mjx\n",
        "import jax\n",
        "\n",
        "    # def __init(self):\n",
        "mj_model = mujoco.MjModel.from_xml_path('unitree_z1/scene.xml')\n",
        "mj_model.opt.solver = mujoco.mjtSolver.mjSOL_CG\n",
        "mj_model.opt.iterations = 6\n",
        "mj_model.opt.ls_iterations = 6\n",
        "mjx_model = mjx.device_put(mj_model)\n",
        "\n",
        "@jax.vmap\n",
        "def batched_step(vel):\n",
        "    mjx_data = mjx.make_data(mjx_model)\n",
        "    qvel = mjx_data.qvel.at[0].set(vel)\n",
        "    mjx_data = mjx_data.replace(qvel=qvel)\n",
        "    pos = mjx.step(mjx_model, mjx_data).qpos[0]\n",
        "    return pos\n",
        "\n",
        "vel = jax.numpy.arange(0.0, 1000.0, 0.001)\n",
        "pos = jax.jit(batched_step)(vel)\n",
        "print(\"total step size\", len(vel))\n",
        "print(pos)\n",
        "\n"
      ]
    },
    {
      "cell_type": "code",
      "execution_count": 8,
      "metadata": {
        "id": "4bqHd-xjmO11",
        "metadata": {}
      },
      "outputs": [],
      "source": [
        "#@title Sim Env\n",
        "\n",
        "class Manipulator(PipelineEnv):\n",
        "\n",
        "  def __init__(\n",
        "      self,\n",
        "      forward_reward_weight=1.25,\n",
        "\n",
        "\n",
        "\n",
        "\n",
        "\n",
        "      ctrl_cost_weight=0.1,\n",
        "      healthy_reward=5.0,\n",
        "      terminate_when_unhealthy=True,\n",
        "      healthy_z_range=(1.0, 2.0),\n",
        "\n",
        "      \n",
        "      reset_noise_scale=1e-2,\n",
        "      exclude_current_positions_from_observation=True,\n",
        "      **kwargs,\n",
        "  ):\n",
        "\n",
        "    mj_model = mujoco.MjModel.from_xml_path('unitree_z1/scene.xml')\n",
        "    mj_model.opt.solver = mujoco.mjtSolver.mjSOL_CG\n",
        "    mj_model.opt.iterations = 6\n",
        "    mj_model.opt.ls_iterations = 6\n",
        "\n",
        "    sys = mjcf.load_model(mj_model)\n",
        "    self.target_pos=[0.5, 0.0, 0.05]\n",
        "    physics_steps_per_control_step = 5\n",
        "    kwargs['n_frames'] = kwargs.get(\n",
        "        'n_frames', physics_steps_per_control_step)\n",
        "    kwargs['backend'] = 'mjx'\n",
        "\n",
        "    super().__init__(sys, **kwargs)\n",
        "\n",
        "    self._forward_reward_weight = forward_reward_weight\n",
        "    self._ctrl_cost_weight = ctrl_cost_weight\n",
        "    self._healthy_reward = healthy_reward\n",
        "    self._terminate_when_unhealthy = terminate_when_unhealthy\n",
        "    self._healthy_z_range = healthy_z_range\n",
        "    self._reset_noise_scale = reset_noise_scale\n",
        "    self._exclude_current_positions_from_observation = (\n",
        "        exclude_current_positions_from_observation\n",
        "    )\n",
        "\n",
        "  def reset(self, rng: jp.ndarray) -> State:\n",
        "    \"\"\"Resets the environment to an initial state.\"\"\"\n",
        "    rng, rng1, rng2 = jax.random.split(rng, 3)\n",
        "\n",
        "    low, hi = -self._reset_noise_scale, self._reset_noise_scale\n",
        "    qpos = self.sys.qpos0 + jax.random.uniform(\n",
        "        rng1, (self.sys.nq,), minval=low, maxval=hi\n",
        "    )\n",
        "    qvel = jax.random.uniform(\n",
        "        rng2, (self.sys.nv,), minval=low, maxval=hi\n",
        "    )\n",
        "\n",
        "    data = self.pipeline_init(qpos, qvel)\n",
        "\n",
        "    obs = self._get_obs(data, jp.zeros(self.sys.nu))\n",
        "    reward, done, zero = jp.zeros(3)\n",
        "    metrics = {\n",
        "        'reward_hand_pos': zero,\n",
        "        'cost_torque': zero,\n",
        "        'cost_base_disturbance': zero,\n",
        "        'j1_pos': zero,\n",
        "        'j2_pos': zero,\n",
        "        'j3_pos': zero,\n",
        "        'j4_pos': zero,\n",
        "        'j5_pos': zero,\n",
        "        'j6_pos': zero,\n",
        "        'load_pos_x': zero,\n",
        "        'load_pos_y': zero,\n",
        "        'load_pos_z': zero\n",
        "\n",
        "\n",
        "    }\n",
        "    return State(data, obs, reward, done, metrics)\n",
        "\n",
        "  def step(self, state: State, action: jp.ndarray) -> State:\n",
        "    \"\"\"Run 1 timestep of the simulation.\"\"\"\n",
        "    data0 = state.pipeline_state\n",
        "    print(state.pipeline_state)\n",
        "    data = self.pipeline_step(data0, action)\n",
        "\n",
        "    # com_before = data0.subtree_com[1]\n",
        "    # com_after = data.subtree_com[1]\n",
        "    # velocity = (com_after - com_before) / self.dt\n",
        "\n",
        "    j1_pos=data.qpos[0]\n",
        "    j2_pos=data.qpos[1]\n",
        "    j3_pos=data.qpos[2]\n",
        "    j4_pos=data.qpos[3]\n",
        "    j5_pos=data.qpos[4]\n",
        "    j6_pos=data.qpos[5]\n",
        "    reward_hand_pos=0.0\n",
        "    cost_torque=0.0\n",
        "    cost_base_disturbance=0.0\n",
        "    load_pos_x=data.qpos[6]\n",
        "    load_pos_y=data.qpos[7]\n",
        "    load_pos_z=data.qpos[8]\n",
        "    # if self._terminate_when_unhealthy:\n",
        "    #   healthy_reward = self._healthy_reward\n",
        "    # else:\n",
        "    #   healthy_reward = self._healthy_reward\n",
        "\n",
        "    # ctrl_cost = self._ctrl_cost_weight * jp.sum(jp.square(action))\n",
        "    reward_hand_pos = self._forward_reward_weight *(  (load_pos_x-self.target_pos[0])**2+(load_pos_y-self.target_pos[1])**2+(load_pos_z-self.target_pos[2])**2)\n",
        "    ctrl_cost =0.0\n",
        "    for i in range(0,len(action)):\n",
        "       ctrl_cost+=action[i]**2\n",
        "    obs = self._get_obs(data, action)\n",
        "    reward = reward_hand_pos  - ctrl_cost\n",
        "    # load_position =  state.select.,\n",
        "    done = 0.0\n",
        "    print(\"self.target_pos[0]\",self.target_pos[0])\n",
        "    print(\"load_pos_y\", load_pos_y)\n",
        "    print(\"all\", ((load_pos_x-self.target_pos[0])**2+(load_pos_y-self.target_pos[1])**2+(load_pos_z-self.target_pos[2])**2))\n",
        "    # if ( (load_pos_x-self.target_pos[0])**2+(load_pos_y-self.target_pos[1])**2+(load_pos_z-self.target_pos[2])**2)<0.01:\n",
        "    #   done=1\n",
        "    # done = 1.0  else 0.0\n",
        "    state.metrics.update(\n",
        "        reward_hand_pos=reward_hand_pos,\n",
        "        cost_torque=cost_torque,\n",
        "        cost_base_disturbance=-cost_base_disturbance,\n",
        "        j1_pos=j1_pos,\n",
        "        j2_pos=j2_pos,\n",
        "        j3_pos=j3_pos,\n",
        "        j4_pos=j4_pos,\n",
        "        j5_pos=j5_pos,\n",
        "        j6_pos=j6_pos,\n",
        "        load_pos_x=load_pos_x,\n",
        "        load_pos_y=load_pos_y,\n",
        "        load_pos_z=load_pos_z,\n",
        "    )\n",
        "\n",
        "    return state.replace(\n",
        "        pipeline_state=data, obs=obs, reward=reward, done=done\n",
        "    )\n",
        "\n",
        "  def _get_obs(\n",
        "      self, data: mjx.Data, action: jp.ndarray\n",
        "  ) -> jp.ndarray:\n",
        "    \"\"\"Observes body position, velocities, and angles.\"\"\"\n",
        "    position = data.qpos\n",
        "    # if self._exclude_current_positions_from_observation:\n",
        "    #   position = position[2:]\n",
        "\n",
        "    # external_contact_forces are excluded\n",
        "    return jp.concatenate([\n",
        "        position,\n",
        "        data.qvel,\n",
        "        data.cinert[1:].ravel(),\n",
        "        data.cvel[1:].ravel(),\n",
        "        data.qfrc_actuator,\n",
        "    ])\n",
        "\n",
        "\n",
        "envs.register_environment('manipulator', Manipulator)"
      ]
    },
    {
      "cell_type": "markdown",
      "metadata": {
        "id": "P1K6IznI2y83"
      },
      "source": [
        "## Visualize a Rollout\n",
        "\n",
        "Let's instantiate the environment and visualize a short rollout.\n",
        "\n",
        "NOTE: Since episodes terminates early if the torso is below the healthy z-range, the only relevant contacts for this task are between the feet and the plane. We turn off other contacts."
      ]
    },
    {
      "cell_type": "code",
      "execution_count": 9,
      "metadata": {
        "id": "EhKLFK54C1CH",
        "metadata": {}
      },
      "outputs": [],
      "source": [
        "# instanself.target_pos[0]tiate the environment\n",
        "env_name = 'manipulator'\n",
        "env = envs.get_environment(env_name)\n",
        "\n",
        "# define the jit reset/step functions\n",
        "jit_reset = jax.jit(env.reset)\n",
        "jit_step = jax.jit(env.step)\n"
      ]
    },
    {
      "cell_type": "code",
      "execution_count": 10,
      "metadata": {
        "id": "Ph8u-v2Q2xLS",
        "metadata": {}
      },
      "outputs": [
        {
          "name": "stdout",
          "output_type": "stream",
          "text": [
            "State(solver_niter=Traced<ShapedArray(int32[])>with<DynamicJaxprTrace(level=1/0)>, time=Traced<ShapedArray(float32[], weak_type=True)>with<DynamicJaxprTrace(level=1/0)>, qpos=Traced<ShapedArray(float32[13])>with<DynamicJaxprTrace(level=1/0)>, qvel=Traced<ShapedArray(float32[12])>with<DynamicJaxprTrace(level=1/0)>, act=Traced<ShapedArray(float32[0])>with<DynamicJaxprTrace(level=1/0)>, qacc_warmstart=Traced<ShapedArray(float32[12])>with<DynamicJaxprTrace(level=1/0)>, ctrl=Traced<ShapedArray(float32[6])>with<DynamicJaxprTrace(level=1/0)>, qfrc_applied=Traced<ShapedArray(float32[12])>with<DynamicJaxprTrace(level=1/0)>, xfrc_applied=Traced<ShapedArray(float32[9,6])>with<DynamicJaxprTrace(level=1/0)>, eq_active=Traced<ShapedArray(uint8[0])>with<DynamicJaxprTrace(level=1/0)>, qacc=Traced<ShapedArray(float32[12])>with<DynamicJaxprTrace(level=1/0)>, act_dot=Traced<ShapedArray(float32[0])>with<DynamicJaxprTrace(level=1/0)>, userdata=Traced<ShapedArray(float32[0])>with<DynamicJaxprTrace(level=1/0)>, xpos=Traced<ShapedArray(float32[9,3])>with<DynamicJaxprTrace(level=1/0)>, xquat=Traced<ShapedArray(float32[9,4])>with<DynamicJaxprTrace(level=1/0)>, xmat=Traced<ShapedArray(float32[9,3,3])>with<DynamicJaxprTrace(level=1/0)>, xipos=Traced<ShapedArray(float32[9,3])>with<DynamicJaxprTrace(level=1/0)>, ximat=Traced<ShapedArray(float32[9,3,3])>with<DynamicJaxprTrace(level=1/0)>, xanchor=Traced<ShapedArray(float32[7,3])>with<DynamicJaxprTrace(level=1/0)>, xaxis=Traced<ShapedArray(float32[7,3])>with<DynamicJaxprTrace(level=1/0)>, geom_xpos=Traced<ShapedArray(float32[17,3])>with<DynamicJaxprTrace(level=1/0)>, geom_xmat=Traced<ShapedArray(float32[17,3,3])>with<DynamicJaxprTrace(level=1/0)>, site_xpos=Traced<ShapedArray(float32[0,3])>with<DynamicJaxprTrace(level=1/0)>, site_xmat=Traced<ShapedArray(float32[0,3,3])>with<DynamicJaxprTrace(level=1/0)>, cam_xpos=Traced<ShapedArray(float32[2,3])>with<DynamicJaxprTrace(level=1/0)>, cam_xmat=Traced<ShapedArray(float32[2,3,3])>with<DynamicJaxprTrace(level=1/0)>, subtree_com=Traced<ShapedArray(float32[9,3])>with<DynamicJaxprTrace(level=1/0)>, cdof=Traced<ShapedArray(float32[12,6])>with<DynamicJaxprTrace(level=1/0)>, cinert=Traced<ShapedArray(float32[9,10])>with<DynamicJaxprTrace(level=1/0)>, crb=Traced<ShapedArray(float32[9,10])>with<DynamicJaxprTrace(level=1/0)>, actuator_length=Traced<ShapedArray(float32[6])>with<DynamicJaxprTrace(level=1/0)>, actuator_moment=Traced<ShapedArray(float32[6,12])>with<DynamicJaxprTrace(level=1/0)>, qM=Traced<ShapedArray(float32[12,12])>with<DynamicJaxprTrace(level=1/0)>, qLD=Traced<ShapedArray(float32[12,12])>with<DynamicJaxprTrace(level=1/0)>, qLDiagInv=Traced<ShapedArray(float32[0])>with<DynamicJaxprTrace(level=1/0)>, contact=Contact(dist=Traced<ShapedArray(float32[64])>with<DynamicJaxprTrace(level=1/0)>, pos=Traced<ShapedArray(float32[64,3])>with<DynamicJaxprTrace(level=1/0)>, frame=Traced<ShapedArray(float32[64,3,3])>with<DynamicJaxprTrace(level=1/0)>, includemargin=Traced<ShapedArray(float32[64])>with<DynamicJaxprTrace(level=1/0)>, friction=Traced<ShapedArray(float32[64,5])>with<DynamicJaxprTrace(level=1/0)>, solref=Traced<ShapedArray(float32[64,2])>with<DynamicJaxprTrace(level=1/0)>, solreffriction=Traced<ShapedArray(float32[64,2])>with<DynamicJaxprTrace(level=1/0)>, solimp=Traced<ShapedArray(float32[64,5])>with<DynamicJaxprTrace(level=1/0)>, geom1=Traced<ShapedArray(int32[64])>with<DynamicJaxprTrace(level=1/0)>, geom2=Traced<ShapedArray(int32[64])>with<DynamicJaxprTrace(level=1/0)>, link_idx=(Traced<ShapedArray(int32[64])>with<DynamicJaxprTrace(level=1/0)>, Traced<ShapedArray(int32[64])>with<DynamicJaxprTrace(level=1/0)>), elasticity=Traced<ShapedArray(float32[64])>with<DynamicJaxprTrace(level=1/0)>), efc_J=Traced<ShapedArray(float32[262,12])>with<DynamicJaxprTrace(level=1/0)>, efc_frictionloss=Traced<ShapedArray(float32[262])>with<DynamicJaxprTrace(level=1/0)>, efc_D=Traced<ShapedArray(float32[262])>with<DynamicJaxprTrace(level=1/0)>, actuator_velocity=Traced<ShapedArray(float32[6])>with<DynamicJaxprTrace(level=1/0)>, cvel=Traced<ShapedArray(float32[9,6])>with<DynamicJaxprTrace(level=1/0)>, cdof_dot=Traced<ShapedArray(float32[12,6])>with<DynamicJaxprTrace(level=1/0)>, qfrc_bias=Traced<ShapedArray(float32[12])>with<DynamicJaxprTrace(level=1/0)>, qfrc_passive=Traced<ShapedArray(float32[12])>with<DynamicJaxprTrace(level=1/0)>, efc_aref=Traced<ShapedArray(float32[262])>with<DynamicJaxprTrace(level=1/0)>, qfrc_actuator=Traced<ShapedArray(float32[12])>with<DynamicJaxprTrace(level=1/0)>, qfrc_smooth=Traced<ShapedArray(float32[12])>with<DynamicJaxprTrace(level=1/0)>, qacc_smooth=Traced<ShapedArray(float32[12])>with<DynamicJaxprTrace(level=1/0)>, qfrc_constraint=Traced<ShapedArray(float32[12])>with<DynamicJaxprTrace(level=1/0)>, qfrc_inverse=Traced<ShapedArray(float32[12])>with<DynamicJaxprTrace(level=1/0)>, efc_force=Traced<ShapedArray(float32[262])>with<DynamicJaxprTrace(level=1/0)>, q=Traced<ShapedArray(float32[13])>with<DynamicJaxprTrace(level=1/0)>, qd=Traced<ShapedArray(float32[12])>with<DynamicJaxprTrace(level=1/0)>, x=Transform(pos=Traced<ShapedArray(float32[8,3])>with<DynamicJaxprTrace(level=1/0)>, rot=Traced<ShapedArray(float32[8,4])>with<DynamicJaxprTrace(level=1/0)>), xd=Motion(ang=Traced<ShapedArray(float32[8,3])>with<DynamicJaxprTrace(level=1/0)>, vel=Traced<ShapedArray(float32[8,3])>with<DynamicJaxprTrace(level=1/0)>))\n",
            "self.target_pos[0] 0.5\n",
            "load_pos_y Traced<ShapedArray(float32[])>with<DynamicJaxprTrace(level=1/0)>\n",
            "all Traced<ShapedArray(float32[])>with<DynamicJaxprTrace(level=1/0)>\n",
            "State(solver_niter=Traced<ShapedArray(int32[])>with<DynamicJaxprTrace(level=1/0)>, time=Traced<ShapedArray(float32[], weak_type=True)>with<DynamicJaxprTrace(level=1/0)>, qpos=Traced<ShapedArray(float32[13])>with<DynamicJaxprTrace(level=1/0)>, qvel=Traced<ShapedArray(float32[12])>with<DynamicJaxprTrace(level=1/0)>, act=Traced<ShapedArray(float32[0])>with<DynamicJaxprTrace(level=1/0)>, qacc_warmstart=Traced<ShapedArray(float32[12])>with<DynamicJaxprTrace(level=1/0)>, ctrl=Traced<ShapedArray(float32[6])>with<DynamicJaxprTrace(level=1/0)>, qfrc_applied=Traced<ShapedArray(float32[12])>with<DynamicJaxprTrace(level=1/0)>, xfrc_applied=Traced<ShapedArray(float32[9,6])>with<DynamicJaxprTrace(level=1/0)>, eq_active=Traced<ShapedArray(uint8[0])>with<DynamicJaxprTrace(level=1/0)>, qacc=Traced<ShapedArray(float32[12])>with<DynamicJaxprTrace(level=1/0)>, act_dot=Traced<ShapedArray(float32[0])>with<DynamicJaxprTrace(level=1/0)>, userdata=Traced<ShapedArray(float32[0])>with<DynamicJaxprTrace(level=1/0)>, xpos=Traced<ShapedArray(float32[9,3])>with<DynamicJaxprTrace(level=1/0)>, xquat=Traced<ShapedArray(float32[9,4])>with<DynamicJaxprTrace(level=1/0)>, xmat=Traced<ShapedArray(float32[9,3,3])>with<DynamicJaxprTrace(level=1/0)>, xipos=Traced<ShapedArray(float32[9,3])>with<DynamicJaxprTrace(level=1/0)>, ximat=Traced<ShapedArray(float32[9,3,3])>with<DynamicJaxprTrace(level=1/0)>, xanchor=Traced<ShapedArray(float32[7,3])>with<DynamicJaxprTrace(level=1/0)>, xaxis=Traced<ShapedArray(float32[7,3])>with<DynamicJaxprTrace(level=1/0)>, geom_xpos=Traced<ShapedArray(float32[17,3])>with<DynamicJaxprTrace(level=1/0)>, geom_xmat=Traced<ShapedArray(float32[17,3,3])>with<DynamicJaxprTrace(level=1/0)>, site_xpos=Traced<ShapedArray(float32[0,3])>with<DynamicJaxprTrace(level=1/0)>, site_xmat=Traced<ShapedArray(float32[0,3,3])>with<DynamicJaxprTrace(level=1/0)>, cam_xpos=Traced<ShapedArray(float32[2,3])>with<DynamicJaxprTrace(level=1/0)>, cam_xmat=Traced<ShapedArray(float32[2,3,3])>with<DynamicJaxprTrace(level=1/0)>, subtree_com=Traced<ShapedArray(float32[9,3])>with<DynamicJaxprTrace(level=1/0)>, cdof=Traced<ShapedArray(float32[12,6])>with<DynamicJaxprTrace(level=1/0)>, cinert=Traced<ShapedArray(float32[9,10])>with<DynamicJaxprTrace(level=1/0)>, crb=Traced<ShapedArray(float32[9,10])>with<DynamicJaxprTrace(level=1/0)>, actuator_length=Traced<ShapedArray(float32[6])>with<DynamicJaxprTrace(level=1/0)>, actuator_moment=Traced<ShapedArray(float32[6,12])>with<DynamicJaxprTrace(level=1/0)>, qM=Traced<ShapedArray(float32[12,12])>with<DynamicJaxprTrace(level=1/0)>, qLD=Traced<ShapedArray(float32[12,12])>with<DynamicJaxprTrace(level=1/0)>, qLDiagInv=Traced<ShapedArray(float32[0])>with<DynamicJaxprTrace(level=1/0)>, contact=Contact(dist=Traced<ShapedArray(float32[64])>with<DynamicJaxprTrace(level=1/0)>, pos=Traced<ShapedArray(float32[64,3])>with<DynamicJaxprTrace(level=1/0)>, frame=Traced<ShapedArray(float32[64,3,3])>with<DynamicJaxprTrace(level=1/0)>, includemargin=Traced<ShapedArray(float32[64])>with<DynamicJaxprTrace(level=1/0)>, friction=Traced<ShapedArray(float32[64,5])>with<DynamicJaxprTrace(level=1/0)>, solref=Traced<ShapedArray(float32[64,2])>with<DynamicJaxprTrace(level=1/0)>, solreffriction=Traced<ShapedArray(float32[64,2])>with<DynamicJaxprTrace(level=1/0)>, solimp=Traced<ShapedArray(float32[64,5])>with<DynamicJaxprTrace(level=1/0)>, geom1=Traced<ShapedArray(int32[64])>with<DynamicJaxprTrace(level=1/0)>, geom2=Traced<ShapedArray(int32[64])>with<DynamicJaxprTrace(level=1/0)>, link_idx=(Traced<ShapedArray(int32[64])>with<DynamicJaxprTrace(level=1/0)>, Traced<ShapedArray(int32[64])>with<DynamicJaxprTrace(level=1/0)>), elasticity=Traced<ShapedArray(float32[64])>with<DynamicJaxprTrace(level=1/0)>), efc_J=Traced<ShapedArray(float32[262,12])>with<DynamicJaxprTrace(level=1/0)>, efc_frictionloss=Traced<ShapedArray(float32[262])>with<DynamicJaxprTrace(level=1/0)>, efc_D=Traced<ShapedArray(float32[262])>with<DynamicJaxprTrace(level=1/0)>, actuator_velocity=Traced<ShapedArray(float32[6])>with<DynamicJaxprTrace(level=1/0)>, cvel=Traced<ShapedArray(float32[9,6])>with<DynamicJaxprTrace(level=1/0)>, cdof_dot=Traced<ShapedArray(float32[12,6])>with<DynamicJaxprTrace(level=1/0)>, qfrc_bias=Traced<ShapedArray(float32[12])>with<DynamicJaxprTrace(level=1/0)>, qfrc_passive=Traced<ShapedArray(float32[12])>with<DynamicJaxprTrace(level=1/0)>, efc_aref=Traced<ShapedArray(float32[262])>with<DynamicJaxprTrace(level=1/0)>, qfrc_actuator=Traced<ShapedArray(float32[12])>with<DynamicJaxprTrace(level=1/0)>, qfrc_smooth=Traced<ShapedArray(float32[12])>with<DynamicJaxprTrace(level=1/0)>, qacc_smooth=Traced<ShapedArray(float32[12])>with<DynamicJaxprTrace(level=1/0)>, qfrc_constraint=Traced<ShapedArray(float32[12])>with<DynamicJaxprTrace(level=1/0)>, qfrc_inverse=Traced<ShapedArray(float32[12])>with<DynamicJaxprTrace(level=1/0)>, efc_force=Traced<ShapedArray(float32[262])>with<DynamicJaxprTrace(level=1/0)>, q=Traced<ShapedArray(float32[13])>with<DynamicJaxprTrace(level=1/0)>, qd=Traced<ShapedArray(float32[12])>with<DynamicJaxprTrace(level=1/0)>, x=Transform(pos=Traced<ShapedArray(float32[8,3])>with<DynamicJaxprTrace(level=1/0)>, rot=Traced<ShapedArray(float32[8,4])>with<DynamicJaxprTrace(level=1/0)>), xd=Motion(ang=Traced<ShapedArray(float32[8,3])>with<DynamicJaxprTrace(level=1/0)>, vel=Traced<ShapedArray(float32[8,3])>with<DynamicJaxprTrace(level=1/0)>))\n",
            "self.target_pos[0] 0.5\n",
            "load_pos_y Traced<ShapedArray(float32[])>with<DynamicJaxprTrace(level=1/0)>\n",
            "all Traced<ShapedArray(float32[])>with<DynamicJaxprTrace(level=1/0)>\n"
          ]
        },
        {
          "data": {
            "text/html": [
              "<table class=\"show_videos\" style=\"border-spacing:0px;\"><tr><td style=\"padding:1px;\"><video controls width=\"320\" height=\"240\" style=\"object-fit:cover;\" loop autoplay muted>\n",
              "      <source src=\"data:video/mp4;base64,AAAAIGZ0eXBpc29tAAACAGlzb21pc28yYXZjMW1wNDEAAAAIZnJlZQAAbIptZGF0AAACfwYF//973EXpvebZSLeWLNgg2SPu73gyNjQgLSBjb3JlIDE2NCByMzEwOCAzMWUxOWY5IC0gSC4yNjQvTVBFRy00IEFWQyBjb2RlYyAtIENvcHlsZWZ0IDIwMDMtMjAyMyAtIGh0dHA6Ly93d3cudmlkZW9sYW4ub3JnL3gyNjQuaHRtbCAtIG9wdGlvbnM6IGNhYmFjPTEgcmVmPTMgZGVibG9jaz0xOjA6MCBhbmFseXNlPTB4MzoweDExMyBtZT1oZXggc3VibWU9NyBwc3k9MSBwc3lfcmQ9MS4wMDowLjAwIG1peGVkX3JlZj0xIG1lX3JhbmdlPTE2IGNocm9tYV9tZT0xIHRyZWxsaXM9MSA4eDhkY3Q9MSBjcW09MCBkZWFkem9uZT0yMSwxMSBmYXN0X3Bza2lwPTEgY2hyb21hX3FwX29mZnNldD0tMiB0aHJlYWRzPTcgbG9va2FoZWFkX3RocmVhZHM9MSBzbGljZWRfdGhyZWFkcz0wIG5yPTAgZGVjaW1hdGU9MSBpbnRlcmxhY2VkPTAgYmx1cmF5X2NvbXBhdD0wIGNvbnN0cmFpbmVkX2ludHJhPTAgYmZyYW1lcz0zIGJfcHlyYW1pZD0yIGJfYWRhcHQ9MSBiX2JpYXM9MCBkaXJlY3Q9MSB3ZWlnaHRiPTEgb3Blbl9nb3A9MCB3ZWlnaHRwPTIga2V5aW50PTI1MCBrZXlpbnRfbWluPTIwIHNjZW5lY3V0PTQwIGludHJhX3JlZnJlc2g9MCByYz1jcXAgbWJ0cmVlPTAgcXA9MjAgaXBfcmF0aW89MS40MCBwYl9yYXRpbz0xLjMwIGFxPTAAgAAAG9NliIQA//vkHwKXPxBoX1p90QG9zOUm6c70c0kqYALTpESWb7Q3k0YGHIhedNS+x0+z81OKr0OmX2uOFoDxXGxTJORQyd0RgkV6LBQZp1AmIbdcMq9yTTSv+6eaGIlLdWvFYjCUBevHOpb+oN2QgN3djLja2Eolclcrp06AgTKAQUapCRYYyqleZTDW63OufiIQrl45GS2hD3++caP6JIv4vPiGQFyS/YjBBQSl+qrwxoxKdR/GKKimrN9dM4CcOUw+SlxtcehT1AOCdaQ16ISdQ3xRQDu/HA/+/8L9v7GWIX51qVIZlHLodBaAIBffpsfqlUvVl1dTl1ZexhL/PhEgRW0ddSnzzxTk4g/VthZxh8i3pDKWwK4oFHhzG0o57ou+XZ+kPkq7xqHytSwF/nkgKhRSItzGDnD9rgluz2jSO/u/O8lRXB1seCZDISQeQXgvrcuzNTAcaO/YsTGMdLBHWxMEcaxRehWMSqkQSZuDlOp3WaS+eVY9SLYM4RvRG4jE9Ms//6JfzZV0axRh9q9RH0A1yL/pnnm+t2+JxPLNVPUVh7p9S4NIQ5pw5SoYlAUYTkzf47FImpDmMPGqJ/4WREyea9a7RORqBFgs388mhV2zWJFCgVcPuz8mlummY2Rm0J/AAnrQ2QcPkMJhu9UNyAHxL3m033XsDDa7bQVxZ6FJgRHP3cUp4SVlNIKwC7iN0ZeDRtaXGNawDeU06pU8td6i1tmQWPvdHmTcbX29fLynMCXgBFWS6yVxjkYRrUKXr5Kpdpbq71kN1wztBuvrrykKymRk6N5RXzGpEB4hIR8RMBNf6qFryaPJ26j7SBAUS072spoB3A+pHyZQuneIuZV6GMTUo7/pJAdGGRxm63G4/pr7xrFZp1YJJ7vAy9cPHEdX2B2VhYo3w5zaRH+i6XWNXVdNvKi2Nf96ood5bFFRKszN+eJtTNtBhxqFkekuM0FXAPq6CYzTB0fzxbb3dVIdzUJd8rbiqtWZtLo106TNWU/PLOfcYqcQXwrHt/XlYtLJOWA+5FbcOefy49GL2IPuWdO2d78Aa6o4iK2crgpsFoEc4eyTP4/znHknrUOmI8D1Px0IwDg8wCJYD26euqdu36YYF8B2efgMZ6WTBdAuaFmxKkDWmztpUZtInu9VZe7MFVxDCrlTXF+auk+D9ufbUzaqmu3A+j6KwTfV9ge4mmi/XiZ4MJXUgWJcU9isEbzBBOMLI5PfggC/OU7LuoS5lPTo3jtkNT0ymOZ0DhWEs5QDIUgopiF13aVH/Ke/LfklUCehE72pZiQLBW3EImtVP9OAUitduhA2+nI6/vYzN3UW4aeo2a+ylc6kcNme5Ht9x3Ps57ISuRtIwSaOcmNkkfNxk+dez/f1m7kjSOft9ii+c4cXO0VHrQdGUFxC1qgxBBtW7qFvO9YGbE14oyLC3kfYtiUl0XPgi18fO5dM0r2zn2Gs3Oejg5lsBt0LblXOq0/O3DBC0wcfeaH8ywlPs5cphBo7GOiJG8MPuAHDqwpdvxkLwFRwEDXydQpnRVudrlwYGTX9Ns5Oc2+0maYh4nMSDQWRLI1AQfmEQo5osjTkMjr8miKJ4gkDIyN2a5sX+wPn9lPJAo48HU0PUTSR5E5bJakqSueBa92cGYpe92kDKDeeeLtE9vIUbRF9FyowoSA18ETA9GHHYLmWx4j6Tlk1sUFqTIhXzZXhRip8gMK1h4EtDg0soA1dE73D0q+5JLz3dyzon9FQIv987D5u4TQRoOcg8gfhV1rDu3YAFeOGqp9NkcBWS2Ono1gLtm24xsaLxNqLTPgIYjxr1kOcOZx/PoBLubx9oCbsz2d7P+KHFVfq5guyJUyHYMwVbw4HhkYhLET222Qo2kQgTfl3zeIYgqtGRm8Y7vUQkD/2f8RO9ipaIYWtrLfjzDBfK3dpsF+MMMW1zDM+t8WpDsaf71Gu4vi8NFDdA38lTz7JpS0ncn2q0zL0kNdkVV6XIhz53fm9hpUC2+2MJKI+RuH0fwjAjpRE5gDmgKdjkzTbmcO3np/SwJ+u+UV2iPjQTkIWSfiCaPQ2tmPeKYzFM5BRo/FC9T0LWsU+xA4jWCRtHHBjN9OPUQMPzu8A181+semjAS88cVp1bb2tDP9BoytoHYt4vbzwOSBE2VGDFKv6r4htCgKKt/wU2ZbcC4HJ7WRH3kvPTTv8jHHCtLQdT8PMJGmqIZWQGdrtkdU/wFltxP2aMI7kGTXQxN973wqLWeG7gsBrg+cXThL9oHu0vxYvPSWuZAxAyawuBnv2iu7qIdXXTj+eQYSL0Z2Vte1V/78nqmNnQ1DLi1oo6nW0nEzNuD5zENMWMDW4MXRf65Zv+OyALlrwmxfDkNrQDKOZWfJSHYTAD307dR4S4ZIF303GpCrnx3zMKR5BMtHTKaOvwSjHngmW+bBy37JVmoblusVM5EGc6J7xA5RG9yQKwpS1WHQ9+ckew7RrAMXBpQmuhpf2TWEzL4kUO9QR/ozoK9w2Q5ca2w45iy8ywOX1HxWBKKyRkiaCzHpPVQooBiL/0GYowMNPI6XG83eb2V6691wZHN5clF7nls9FlXQL3ttB7eHuBLYn+TNA3WRGPHdBmkFxJZwjWHk1MOAYGObVkAquT3jzMofhdGYSjZ0k/B/l5lg+aCvjm2mV3AlZNg0XWVQ0/vRYSFPLgQPa0Oql8HybwTkLi+EqRHKyL1ylk5s1O+Pi9NzqXehUwW5OGZqaflaGkroHMHkRdnbc55AmGREkaxuKzKtKMOYQiEk3o0XhOzUwiMQbD3AP4xleYIfUev/mX/dyJ0VF0VCFi2FQ9KwQVQk7iRGRW2nMbPIc2iXsR5qqafOMdor41gByJdZ+5UhbwHV7KdRwYXN7Ul5Y1d3tWfJxSOFdIp49lv5zgtUlamtJzKlPjSQ0QuSUBHhffcOeU+cxeEFnFwNAQDjjv3wxHWzm6/ONSsGSJjYt1GfLGdP3EUqAM0tzyQO76/yC4/3iUCbOP//c2JdG1XEHvxhxrDXIIyo8fS/RkzE5qlTc7o2qMg8S4WKZaLntcJQWIStrmq5AmmWhD4tuIsnPCZ2PWwfRCg/c1N6OmUv2fkx8Bbj6fuTt5deKoF7UyIRHaQ2zn5K6ZiSkbh+p+EaCpiRsYugIjwuqBSu6PJBOloSjiUCO7j5EEZQMmJiyFSudOUYDGNDs3PDjpaQW/slFkJdfR41dy+Hpg+9UmbddFAyVmTw0KoKXCnq9tPXhimSd6fpk9vgzmqER7kFNwKu3Lny40u+N4R+AHES0sFsRZwkpdjufVJ3ZxCbPOqGqqFYmeB7G26wXoRkDwPRFrV2thLyHCeHwRjO7bDiGVEngbOQqAKpeuzQbwKH+PYrZsiF6I2WU6Vypwbc62UxhfnC5znuo8YL583cYuoc4V1NW9MlmfF8fj2US6zxzyMwKocPDfaAtvlC5mQes7/fGDjkbXP8hF2j15Yo3nqyHItvFuEPg2A+JOxW7XHbwy2KGm7FKyLMpcUFEA2hHp4EHagz441lVCPRF1dhSZ1yA0T7n+p1AZX345HNKeC/kbXbHrPLcu600YMGeqjOSX6LeZMOD1t4z06yMsMRQrledxIedEjHCXm9fDVPZe0NvsPlHxvFegvrxa+cfXZaLX33B1fySne0rcOBgyxe/iJH/of5XJpAQYcWiZ1vMsybuqsjbD/RIw30lypslDTzaWYeKc1Ztmp8ZjeOpQhBQ7CfIW73PbLLX/lpwnDJoc5U7CPxgXDIXJMpYE2SbpetUb6yB7c/nfAtA4w1oPeSH7VP2A2QW4/xf8OgC8/jnGXgzU7HU0dBZJuB8MhIL1yfkqlhwJNyKvsQYfpzChFTSe+zxbhN//M5hJ8Q2ygJi/rEEv1/cww0ukNbht7EjJSijLu55ITZphW+fN3FgDd9Y2hy4VR1A3Zstj0swR2xocxYhmAOHSbmyiPqOavWqu+DDTWIkLe3PBJSIyWPG4HUEXb+UG22kFazUTEx57fMdqxoRUS8i1x88R6n6o6mp1HBhQhi+ZYcI/zC0jeWWfGg0N5R7xKg4itfRJX5VFFhO9GDnJEVTRydrNkK5kjgN7GoWrJAfpTE3fZhDuOwY3vgyre/OhLtODb+HAgXCjMT9fb9vvPNIHv1WVfXxlWAiLFnjhGZTnVYsTwy3by1NEGmaGhcbqFnVtw07Kc0UBQKatpUFSvytyv0AQwJxFmqntTXPgIt5kzbykXkhm77YYZq/RF3X6i9HDT6nNiUR9g7/5z22h0gRYgdTIm9C0ytsIw60t3F2eWkRGPATbztN6ZNgH6Lm6V1siuVh2xoy+F/k2E7mGQy2za5+v5CnZverFcvknLZN+Qy5qdP4Os9Wt2eMUYsB7OjOASYm3H9fdEFVnhfz3F0UDM9yEJ1mKamHZpKagcUv3gS7ZiWZquWNkgPHrpIpnTeAIgTJp7x+/axiU0x9ZlBvuEkVi5nAeKIjVh/Q5nEnUP0btjKcZxB5g47IskUvbRCsiSvQN+Y0ghBr6NS9ykmM7zW3gZS6f4JNf7MKcaE0c/p+b/wBwmj/3YTK1RNDYA1XkwDC1mDSkM+xuunYV6BKZOTLnSe+gRsZPo7U6f8A7rK77OjsoHJQpzmq+FcjVnYeGxo2u9RQEH32SLdy2tWOSat+A2m9z9X/7y1T3JpD+s0spsyeJidTJ9DJ7MUSk73QKDbuoL7A24JoX2uc499jWJTz+J6XR4o81Gj1Vsp4D+KGDzTvg1KvBdOoB8ka3q3c2TWMnw9/A2Dqx+fXG8t/4TnejlnbHsRKAzZEETwRn8Kw/YmR4aWXfLe8iSD2VE99d5vQ2InwyRfVE1agJmiSwZd5f4NNDgk4HApzQR/F1u+rCsqMuY2w7LnHIN+qcH7Rp6EWDHECym8Wxvg0Ern6obksVoEmfO2xin/xG9dVNuiVYmw4ExhAAN7rcFIohnRY5L7ww8mE+awyzO57dNbdYRnsRByW2jpjpOsnG2Zyye93uZjmnEPF1KlUCj/cVW7M18jbei8UtHh98WyzQSZZ5T1pVgyE3e7HFhmHp02dEUEjEIbZnkyWKcJ+2kCXw1cRO7aOyW+kOX8eqPBGsQ4IzTFz+NZTDppkY4pka8gFrjBBIZRzeMXWjtDzcR3qoQhA0HWpsFZhw7cU3m0qexJszhqBTdem9cpj3AEoSqlik9NDV6bHxXbhBbJMOR8pvLDi2bQ0640vcF84Vxx9Hvxy4qK9R+GT5ozt6/gOiTvP44J5tAqbvNpIPN14ONb090U1t5/UkO14gN3qvf/7mDZJLtQKoKH+pOgCszSfKo/3fZJ5ZGLpiPLca8f51xKVi8RrQ/PLiRu55bS3O/1YMrP5UMctsMjeukWPL7A1j1PCrsHsVUxQn4kVsaEgvSF7w1gWDD+MVZqoeJw/z6esCuMzienBUOjHl7PMTVsQPFKxLn0sKbMkjJqpfLWKVFa17fQOBec46ud4GNVlMmzTkYUypLIDl35BsGAZ2gUtwREcDHttoFnYSYLi7+HlbHR55vekZ4qEqYRmu1rcpdS+jChm7aYpUbTmqBFwdLXG1YdQ/Q7RMbPlqXxTYuJFB1ae9jQloU3F6lugOsxvHNiSDYaDaQNW2bN4s4t6pr9sL96icUHsvpVeVKgDi16jZyJ5bmhgEXC0o5CeTTJnRD2raC8POnFNUIfoYG8FtHW38zdA2zyAqF6xpauSIO1ro24VOGPPzhoSkBtNMo0Zyojp7SM3F3o8//8hingIrtTnCwe9Rzde7UJZt++hlri5pNlCkFUV676AGaCFhkHFTb124NElr429VMC75j7R6WwQjlI2oUI2B6dKwt6eb2553mhuxeyQIWbwY7ueSSKmn8hZ/cztLH7T57HalHFQqINxvCDKgS4CqjWYsj7pnEAyR+E4MROqdjLm9KZ+wxL/mJkAaJ5PXe5bU1TjhW0hL46hwzAG7katgHsfmalE1UH5BgA1ricHRjetUL0OD9H5gS2efs/hNsiIZYxIBXr61zKDUJWuqJ5C+jnmswkz/PH3dgC9aR1UU6/830OL5Ls4uB+AjnklWFTg1eVFr5xjJR6Js95NcfjnMZqK6Rd2YSHEMqEWLFgj2q+LGIRNCw0uIADZ4S8F6H54QhKyUFvG8A918jefiFv73T+HBO22l8kSFavT/07Hc5AqWMqeuZbzrD1C65/KvGPSR94jOYfaY2eLGLcpeQyKx4auNbLH6LLIcS+B3BIc7DobyE3qal00MtnvgiLtPUsdye839g8dD8sV8mVT793MbURS0+yTcCjImq18dp3rOxTqnVeq5q5vWS0RMCoy/QtZwi6X0KJCt1tTVTpcN9edSgo/NFBQUPHtJo9Aho9INog+d+B2Y2kGbwJ6IXtm/R0IUrJWFi1knTUD5JHcpUgr8b69C5Eb3NL17weux0EgkI0wvU5jFuW0v79ldH6LR0igUt20iPRvp8QH4pouM1sDQFLvnyhwlNNGfDbBye5NVpRmR7ZmXlKMzLSn7+y/fL2wN1kVx9kUbwXpCkSMbjAilXp9ccWbMH11AMwthmIMs3YuRf2jFbVQKSPscZANvZF/hBJ27x9mVK3eTar32Q5S0CyReArz6jvUAwxPg7OUO3EBcgKaW+kJZfTp2GGsG/xPGsYTb0oo55KZ/ljKJO3t5+MzwT9U7ZOsGuD5Z1JoChpMdhxbb+SbyIxMfbQ3qKTk7fIu0PxxD5jM261Dt6ZD9bgjnHojuSHqZ20H5T8pxj/O3BPiV5fffeiLN5O29VTqmXVYt/WH3exS8TH/sIClqQCszwIFUIPg+2mzw47PkulrZov3Rep07nNu00Vi27fQ5LrKKHXHRBWdnmaqtRJ6JKXuqvMszjOPlRAfAH0QRG3UZxGeODgolA8XElq/3tXCJWyMW5szwbpgAcSELQytgnU//0iXCwn9NnjVXYjZXYGZuQghuP95gydn8P0PmlxpYTSO2wP8vf71SnozQtF9IpaPCokTUQbg86JD58TeBhHZ5ZiwgvYstua/V8sxiYMTPpQ19mbEBtd529PbiWksFv8uk9ho50RCMpBkFEweTD8S03SvA5VgmwTuAcI9UmP7X3bN6Zop6kAsHbddNzGMDYF9VdcwK0jwR4ZeUzslfIf7NylfXPvJ4XR4OvydlsMfB+VyLLy7x0py/GPqlq4r5ILfAEC61nJEa72iVAZg/vu0e09svFvqnNy3DvcJijciZqApduhijTBo+AsJtPsF27t9CplFRnSv201D8ftKyfgbJ62tIy2LOPG+u5d+HjPpLGCYh5auNhqpQuBhPT9mPGX7yQOrpm8P71kfiYCLYWnQS8LxP5MFGCbx7D5dpYmfHdhW2fJog4td0BH904si3QH4ODHDjORBkzOJwhD91cmW8TQ2c5J5IO3h23NMydNaQqHNCb8DocuLjibInnEWoYmtcm9T5LrhYOpXrNHoTMq6pDexxZuisRwj92Mw2hylG/mXRagd9NMR3wIQof50cHL9hpNL0Os33Vac4l7TJNpXueCvtwBfmyXLD3FjWI04BO4aW0VRsG7R5xjZhpGytEEQlxl+gvV0uwtYUXhyuCSEXnqzo09vcAMFwlAoHZ1eBm+1zmy8UQogX3L//RgBaskH4+Izu0tWZFnZb6mRBXi+Yv/9AWavPyJ+QTU1iKDpxaK2T6j1pWcjhZACL49iGv+rRDBX5Nm4Lhc8Cj0u6Hs7G8Wggi0zu3aqJjCsupSTS9Q8Ky7DI/FVp4xLXioBh6F9Hf4GuUi3G/M01g/EwngcoA2hmPQ7K9TCl6IJUQzCHorx6Y+zme0h0fa488Zlwv6YDFUFFmdPjsVe1Y2yg3q6do0SsPrBZW9beYzgpuJtTp3J5EeATXW8r5Tr6KNUtr+6LMy5rj29ZD6cA1jhE8j2n0z7Vsyx6dOKxHZd7O2EeB+gKA5HzmUYK4l+xVk+HJtVssDiRikhOr9HjVKbHyXKdVEh8MfBkr3M/sS32+jBAm777B5M/pkFI2uZ1QeUDkHrLByjX9acDG9T20TLnEE6cyX2jecfe92BZFoRdO+VCCGteIHXkoNaZcugLxuza0yehJZWVk9vSGVgSXABFylz2T68t9kqy1AhRrgJsJDjB55NkGvKzE1RsSIQ8URVq0q4xnRx02bWkvKxrb/9ukMuPPX2tfdJyJT+L9hbg+/BdiVo4sYhx5bZeU8cxsIBBpOSIfz7alIRCYQO5QYnuKGq0tmqDQy9E1jTh+57MYnkO5ngp1guae8vP0qvI2iHAKXgH+VyNFzrMxhyE30Lo3aUqHft7UVbsSS14Fq+15F/9pQcAoW0evKPPn9+DnxJ99hZsScpg2eSm/KQ0ufVohJqRTu1yI4OU6p1O6ygdMnesP1oqbJdCI+hoDExby+pHgg5hZPayg+qKotwYUACZKqBYJuwT9o52p9RRIJ/9xM1Nn2ahIh1q2wPfzo6DZu5b9+LCFeAvLhZLNlg7WHCAjf5YfpQ2OL2ZZnIQpFSqj8/tz/Pl+dfX4/a8QwZzRdHVqrXHNqdQpG4dLmlnE6xN0iGv8hh6FSVMAUtDuACL7brhx4GSmWpSaI2/FPhBBi7iZ4OSIzg5iuAFnVUl3yuUQ5XovoE/q03Yh5saPlyq00K58/nQjvLMEHPLGUr2aT/U6G0NXxMDqtHTsRllKdCt1ImfXJsQOG8RMe0f9w679ZOMixmlTMdNSInru6s2yCKChxkWPdlk41RORIGg5FlwXponla9WTtNdS7icr0tFHkYhPhgGi7IKwpqSW2FnXVyS9TtBxqcq1bgN+5AbMZhVF3Za3xO6oF0gZ2tNZr1AlPVOtBBV0mJ2XjkEcpDezV0BIWRPVSXOZ4P0sG1UkqGm1mGahG8LTBtKKyDV8QFvr/gTD82FDTuevZApssTJGzbK8r0hU0frguPsFtV+h1MAXCX/C0kCY0XVmqCz91onrO9R44bkhFC9CwQ/9PEIifV8oTBTjCobI9qFefepeUYPrJCH+yWqkgDQtVfv4xfoL2r7SyL2PfsEW1JDm7z9sJQfzlrjSn2mJ/V0GM8raxFlR18I0PWsqrJfn2af46sKt5Aw1/1tjhR9DdO2oMiGbcvnnqUNb2k6QpV1dxOcXLmrcNc+TxpQixgcjPS+RoXJl4qj8h63wUOZLcRfPAk4uwoaJL6+TfvYq8SKoPEKOgzb0hk2n0FTIIzP+WBr37ud3drwyBTrAb1neTl4RdEBZudWKiMVsIoSZqW3NZ9rm1AqRaayDz+wBe+spXUxBtm/xe9m8wa/ofXKC1Vqq7JaSEDM2rRa81BJ1SCNQNV/xIlgmW+QimFiXfBRals8OdysleFDU9tBB/uVOBRp4Tnm+vUXHfPDeJ6+LHBKSSkcJOJ60nQNYwTZRjJJW/6drY7UPB30VoBBjx5J6yjX3iepCYUTCqkP2rjBqi6mien7Cga2VG4/dPKpb2POlKB7FYZ+2nCuL7Fr1OycaEnSe4Dy5/Flv+7uGiK0fvZWgp+tEsjhrgnAAAEvkGaJGx/vD6Uv+RNjcjpxHm/QGoU82EaYYvnWs8Y27HngTfyvYDqlLAEB1hlQIX5lEY8WwcOx/yzY0q8iD+ebFF/E+Kqp15gEnepcbKlw4DePCqiioAHpYyDxQ7YgX+3pZd8t09IqZausWRbPfuiOBSQfiOQfTh2RacvwmDUJfd7EyhcArPMz/HN1PWO+kd9DptiCJJZy9NaLHZd7ICADCJjc/IyT5iF3hOKAHfA3iHvU/Ak+GUidF1ZbzA8swMGmtXo5p3WeDiE4z9g/1q6yYk9jaNQaY1Ug8VWSJRE9HWW45EkxYCoGQdpvJhEbn8WXyB0Un/6ueoMlc3a9Fu+IT/UxqiIuRQqEhsR2PP1UZjahTXWpQSVmqVXC+tqGSvZb6gPQjWobwVYmNXt2VgsDuMDgtwkuZdXUIsiINYV+0WM2TAkIfnT2cXa8QHuWf6AyUdC8bUmnhOz8CX4PwraE/NI2v9FTikdod03z7AoTa5tJ9OFCbEHCFNfETowKfGbd8FRQi9FF8TPXB/Ste+WBXkDTEMPn/UrGOPrh3ymb8AEsfnlYLPmdO3qBMY1e+6dyRUz4gn94kGooRuSiwtCaoLgs6lJfyaZTRJYWOHmIlK8aeGm2dNQb1LRI1ZviRGiBsTYovp9wspGpdbEwkQPIeE0GILoIcsf+JlAjtKj5UmqMfT1MVtDbX+xC98klDvv4z6zNRDzxDnl5my++gVqBpawjaCBNM8wOvgkag/w2NuMJ9hmix286bv76V1MV/AZ5jFFrpkQpd1TxaapFriHirXrzxRc37EAG3Y0J6arVzCeRpVJK5o9jjgoUh5/oBOYLT60GhsZEpV5O+ABC0+0rvEY4bvYtnuRLRw1l7KUC/8uZQ0L2OeVlfxosra83yqstcjEJesckvJWAH2uwtHYM42uV/69/430JM/N+6+douIgWgSINzAFkqKPooEkdSemEMhAQ0LFRGLUP+cbhcHOUWJLzdjj7IdqKuH25lwIistN7a3IrAKNi+O+njpSenHU9ZwaLdU4UPNN8+DVShxOCvMFwr6qN/fNYd359c0g+jkyPe7mW4xIM8iyDGjMO8SnMSV+yT5iYNZuk6nWy8+udwUDKm5XbS7YwLAIDe1PS5kZYGfsLuXwHeehKoN5HO+g8uRRVFhiKLGtCFYpHFUKn77D2f8YdfHy5mvKpm6Aw9FIkul+ejm7TXn3zTJppppaPeVa/BbsqGRzR+Ig38DuW6r25fQibZg396kkXwieLZvk0V46Zr/BRbB6+0mab+Q/QCEFEGK/y8TtOU78AwCXVpdNEiwB/tBN0A1bgPO9pd9gYUNaA+NrM8OCKAjKI3cC91/XbOL7S8d7lOEaBhP8TR0kACQB7WpCQjVL3MLh2Cvw+qEokwtRceMy8r694S5Y51GsMqsfGbBIzqIZj4BKnzyZsGpcG10jZ1wcovoxBqctxXKp19jIAU2B+MAvdAmJcaY5iOsaXAj33PWBKMjEUdCiwx33M27jSAmxaAogJlSq9KrhgOpu7Qcub7o8ittPaToa8b+ZAiQW8q4wTnaRG+jLZabVJnGr9/JqOeVRomLlPke3fNoyE/l1yOe+EzvpMvX83DztUW/YPkZ3/4xAAAAC+0GeQnivuAwPo8guk24n2qp4uM6Feg7IqRPGz2QU3ddTyQgjFRSdWZh0kmtYxNTw420gRbG3oNaG7no/TEYHkAZx48mvLubnDNcAHwXiFh6oAslfahOCHdbs5QABIW8B1+svzwy7H8eAhTz+lURj+lC+MWq2TXDlTsSW7h0dVqNDUzlBwjt7QxR2rXP0pONexPxNnacgNdtxCO+Mi1+tAbN9kRLijti3n2pfHho86Zc1xOdZ6gapkAeQFXnSu9ryLYYF58ul2cBGG6gD4GvsDG+Ffe6os46cZkgrNEPt1ydussAtauVtwAW+ozBALblYhxDUIqJwzv9QcwfuZaleyWR45JAfp+34UQtjLBkehYZlZJGy9+vabfXAAnRz65XTmcx6bDjlkhKaebtymFBrhMR1VQvQjvz3IKLdirUMl9RKSmN7XWY1XT9d2zL0VBFl3XGTuOKpCO0qVL4ganUzIUmDbgKRtqOLNKXUGCxaGZmeroc5dFMK2uLFo+oT436qFzRbx8eCemhFQk6w8/J/Zze7kcfIdO+NSTRgLNQ4gkRFr3YKHEU30oXCd5HcYrzyKEoWfOqD4+QjqIXbRV6yQQEKwW9f1xSIF/RznO9+bGMbFiHjelYiMree3Vn9LGY4rO7ejm/9nJZVArQEIEuNwbhxXEJLEauVHb8fcCOe0d9ndktQIzcnIlnRCkxWlYwdOq2AoL7hzskfieTdufzwOOexFQK1FHRVYSBbE0mv4JiHj6j0W/4iTf7aNtwxd0UYStn53gUKVMoBIuSoV9Vyeu4hlHrEqczZJZz/xYJJByKpazZ1yfpfvLCvEitfwZutWBsHQcEC1dHd/yBw13Qp5Dcl2wjdHPvSCdCczEiVQpvE+3Hn6X8Vykt9zMqsoLOCvFZelZD+AWwxvd8/rkzvHXqgtnB3vUziyOWi7HYNrJRhS0bi9hHqMxdJh2wp04Coozv/wzhfCw9E4R1j6VqJ3X7XprrsHhkOOH17gafTTUo+X4rCjMw3ZQzHseEAAAGkAZ5hdEn/xN0t0LngKJZuWdoFuFbJY5lWkicCNkNF8OkjBrB25KmnihmU48+4K3m6yj4G+kLFInMu0k+3OSjgarIqThPNjcavMWHVd/ASqARwBeIinMCrM2gbKO0jT5B1LFiAvaI9WYNtrU30kdjFhoWDMDwCwkllr1Pq1GfoFbyShlgk8JBxAGX0ZrSdXEdImjBHzfCmiTUM4oUq1r31GS25O9e5WCw+xyYuhq+tTvZWAjCQsmn8ulujNWEw2C187649J32U6EiCOvymHo6yzjGKDbkkIbP3eQwZ3TlFTCYStn2y0YhSBNrgbtXaWjf39zxDBjMtBijl1HHQf8T3KSOqzP8BeuzKqln4TaZ0pThMlUgR84sJGPRChs9mntiz9hRTKIRzJk8LPE3iJBzodTaCaWFdyD2xOhgteyyaI1PoTzqDh7b291ASMu8IwyGUdQrLdyKg/eKxDucWYQyMw3YBAAxpibvKsZftDG0vPZFm9PwJAQQplfdP4N+BkV1NLHCkFg5Zv9og++tdx7EJtnBrteB8Whgdj4rhmRXcsaLMSraAAAABwgGeY2pJ/8PQGqDdWVBDN7Q9mPtdTSCqWEYlJyQRUI2e+98/A5b+qBsxre/3lMnP4KruOfliPFimXMcnu/DKj+yJf1/uYc9MdPkrzW7hIEg1/aIbwRCMrAlijdpBRPnckdK2gCKgHilzDAaIyOcldHjujLQ0DGK8K5dUshCsKdb4z0YfDc9E5W9lMIsS3w1sIb/9CQ1SlY70D9YuFkAR8rRr6Wuvwvy0OPha0lvbFKED+mk97d8Zk2cP+sZaoqYu7r/Y3cQnbPV6qrjINrB9GGS4vzMJO8V1yRWEFXfQREc7MQWTUQG5kRhdVJX7w4Bkqwl6+9w/+r/fnz0NoupC1/73F1wVhgjhfUICL6a+v745F8cGsCKmmievt1OX4ww4dugrLameHuZUxRrF+ZiMTaVMYPetRiLdm86Zgfn1j9CtdxNOrHUskJ1qaEXLAoeVfLP123vHtE4gvYS6U/CoDyR8Qd1ifiJyNyLBc2q0M0SwKGuzsFmS3wAbJxM/NvljakVdt1mLpfgExh/Gxvo1k/tXbDOWjkwxZ1YgNK9s9Ta1l3YkSVF0LbIRvFlpiyldvuUF+3SrkAwULPh00p6W+BJ1kQAAA6ZBmmhJqEFomUwP/2qyDZsZFzs8XzUb4xKBTiIAACsmivFfsCFSnZ+wA3jHIKdFBqKvyVjF9mpLSD4LoonzZlSWWxEuzz3M6rdjhyecVuUXwL94HSdDJ5pcV/bbEVpZYpNRrn4RFjx7MwVWfnzsCjLeHNyCcUB9oNleAZOS7R/dU7SIwgyXCqjDL0p3/lADdkBYNr+aL7tHQ8m583+SuWaTCCxpLUa7sbv6VWvrP2JYkWeZiJLaR0TY4PYi56tFO/D56qVsna9pDkWAOa2SlDDcsFLqk0vpOsyuCWMbUDcinn3Favc9soRFwwjA/JtIWHkzO/zDwu2RuNjB8+bpYNjTX6nXCewY1OHeqGBGoxtjpTW0fODuO/7m3JcssCSu5S9Aui6J9WznipuNNFJ0xl20sGaqgGSnQTEAS4dKZGkfYlRQrXO0xwC8arXgmCpkvsS+FupLSOZ/oNrBqeqlg9bz1JShm7w3jVyABfNSK0T+g6QgWQcn/qiXtDXi9upvOrLS8/WBM+8xftuYKVUPqJ2cscHC4lNnc7hG8YLfCL0xioRNvQkIJ9x5v/Jbt3Yy31vaSZ2ymtwjprdiJpw4NXxmrl1XmnA/1Prnrt6iabNQx3nKc8pZrHe6oHOhDAyo9VH+tbqQ9YDLT2FuNifXwjtwaI6QIPcNR+yIVQ0l+v10Np9KNCfL/byHkJRwZszptwXaGS6zYRSb+SEcjneCyhuygfUK1b3Eclk+i0LpKgsk0SkRPjueq9zk/QAuupUN1n5IHjj2rAkk4icghmEC/YbtfL5yG4/SqO0Ce0mIr1Z+c1RmDNjNuOMx87TQGmB4TcHyWomcdNw3q9TPs58A6InHBzwvJYIABitIrmls4emAxxngOWetpaCBIWhdUxoF/Fx/0Jcfp4/ODA+MvhyhNuKXDlr62tPyrEZDmAe4CStLv/x1gx9cOQITIr8Ofbv4Qsk7EDRSJ0tTJAvlqqhuwi56/XqVQqbaIRALM4mc+WDv44JYQr6Tlv3IHcqCZ45zGn/XHq8YycEtQL5ONUuwoGVKpEms02LFwZDbH2yfL7HMKxF8Y8oEB90onlgleqzQKywM3CLhCCvkYBD+nopuUcS/YRAe5LK5rluf3mqQC4EwZGr6lSM4ACV/DaIFfAGDDa06Tj/NEihaHGRWlxOqr7ms/Q49UcV7RMr9Hxwhc5HRivIGHShYdpg0Zri4Eg80jQc2HEUA3w/8oIUzVCmrwBFPZmkY6F6hAAAB2EGehkURLX/zOxpUlp4YLJ7geRuLOghItIu/aFf+b4vECCSWh466yQ/2uBDS8z371Fz5Uia+U+YVsorMv+XRhkC4bJw2EO7OFYBAgzZEjN76LGa7tS7ywEhEq8oZVIoUYHie1l93dXD63Ae1pXZ+lV/brFCk9YBFFhWN80+zun5QPabnyIXCPHSKqgsc/6374XNXYWmlDMEXso4PG8FIyytTUz78XQp/ga+ThvXw6mwKDbW6gbm1tKzbF8Wx5UO0JmPPMpoWTz+TFM1bGmhCr/UYRTliIw1r5bb7eBPuw3Dxnwn6RFxjTwQvGR0IeyR1tLGcpe8v8UEhJrj/QxT+v86RlmLb6mN5Na98ej48tbUzxQUeAUP0wTrPuqntm71Ktqk1K+mwIzWrvBqsJOzN6bzZK96Wh0WpJkpfaSQGY7kSYrXP/Bgy9cF1sA75ByNsblI/FSYMfv7v52Cjb00MRs7eEEFDXHv1qlrApWYfRH/me2kX4/AAtHTTP97nSR+POPoWZKwZMYKTuNh1Nu3cqtbNNYttWqAdoUYRNuwm6gdpPvfR2nVbOsjezDufLmjUMPZRCyoGsHBldqS8ZlK+I8YDE8R0B/Fr7Sh6HQLKU5+rL46NaV+PXckAAAHPAZ6ldEn/4MnVYBlizoK4vZOBzcmB3pitv0ZFW6ZEEcmlUGZ0F+aq0tbXmrZ4O7oSg5ijCAaNi6S8PPMaOUAcNQKprB8h6ulJMZnPLdoukgeh+H0i3gctAb6qTI3GUtgB/RFaK3+OnWwaJFuB2P+Yld7NEdBpgt7haWK33SHwqMjqLD4ZhaIm/PIHIUm0uJV73M10zJ19p4lqX4wOeD3Gkx2N/doj8kcqnErFJeR3voSY1r3hUkE7AfYMOD2VVfD4rdb/xNfaxAxMPvIpINFYn7PeqYZDKQwYSyPgXc44q8YxqOtHfG0Osq2TXoJRZkuAREXOlPWP7upOCPX3iWdR2tt3rEMtcd3GseqtmVmSxKomarvjAqQuVD/oBfyzbeggJ8rgMUAs7VZRV5e48HbDfDXrTXVYz7R1z0hLMOgyYs/yc2lkdE4f2PWYpyszdWjxQRvOYzjpiNQbh3KbVo0n7k6CCzfHdUhVGmRvPk3fslCKRvhqlw0Rgp9AqzgTKws9JA+xzKWD+UrPc3wa3PE11MrTCiBstYdj1bY2nNVd26qz++2Ne+ulV9zgDvHl9hhbSznSpbrASQbJzQVfya2mCvT4nCEHv7JIfmpX7YYfQQAAAbYBnqdqSf8eqVYABSx0Xps5j5FaUwm3cZqv3VCLoABJp9s/MolbgkCMWzfzzVQjVE4edvK++RZgXSqu7YL9yC9x+WKfbh0x69TyfNuBZuhietICm59uK1rQ9vEs2MJIFfe4nkzaikGW3B38W+Eb7F/8XOcCwgRxRsoJpz4wDxPLJNeKnDnmMhVAV8CZQ8rZjJfI8m86BI1Ev8elir6tQ4fDN0LXtPJWNFJtP8iF0hqKBwjSltTIqJC3IPEbZBKRujchNJgtnRwXuKIqTlz9MpDfsGEjNUebQVndbUEy8sy2Z9As6YtDlrO7idt0jsmVqeW1Z0Ri8K9RVlWdD81lfwCvRlcRjxjozHaAWmXBypvDcb011qXEELdWzcQBG9On/MUC4ony5lnzH/h/epCfIt6k+wJNWGPk1lsl9Zdl1qfn7zvnRMKdYhthL61zTYSE8y4NuuajAquVeZ7wQvk3k/GvP3rIBiXAKTsUjfRTwawF+wd0c4BE7NPEIhEsUdmHgQnkw72moj2sxGkORusMOgu+c8N4oeqnqY1NPkyfOm7emGISOT38O3fnAGKd01nba4UeNQpREQgAAAIkQZqqSahBbJlMFE//XdRkTDJpByvwF5VoAQEtwh07MGQAhwbapwP/DUMI+5ZDMQ9W9/CFbm9WINoaT/RC8qZt83gcbo/riOM6fhbRoVj9ALJmMRnhw6gH+lEMhSUOzErJZuGEW8tt9WLNXJWiRH+dotoR9VnQIkL8hgCS+Om1JS/fx+y/41A3chLLy75vLJjO6nOnRnkU1/bvwVvYm6NpIpwpF1IgsUxeVCv6Y039mAwukuwL5WuvzMXIT5ZuOYpVl9hLV11GIUjUYU0zv7DNbcRcPW00041NgHI/eFf7qi/a7opOF+OUMjzx8dsdR4DekGbZqzykIwG8z24xjzBNy+Vsa47YLmeoI6Muz1nqAtfSPYEuooj0xb0s0JbBjdnxFPNzR8clbjlKxE5v73maruxkP7OUUwXfvazfDz26y0tZ7Bb+UqTcu2gU28K6n90zF9ShXqnCKYBEDSGb22A+cR2i/xWZlwkL79F6CIBLjoZPKtTVJ3XCCCdLrBnqGKzWNvpcq9coSr9ami9dB8knZKIkSRLGkL/H7cztKR/3TvjYuPFpyFjEQ/gqeh0WJoyNxBQV99yqgvHRuW2LtNJktyI+Ldih1OWSmX3iSW/puJcfJPYidnUKDQBR5rpwFT7ANjUsUPRXs6f9/v6pzsOL1g03rmlBeZCQdQ7kmtZLYq1a6ej+ClP9BjbPJZQgRE3w5CI3G1+o/U/jlCJy1lspSXoINngAAAEWAZ7Jakn/41fv7C6JYISGCmcovfDmw9blgesx7L7Ttc6z9t/WSJlZTinHzn5+AhvsMB4sqcbBGwk/ahbr4b4myyQ1mhCgbrDvuXTfA+sb6XJEXZWmx9IADfrbEEM1qYgzYAfQlTS3xICFw0UsAm0CdLAaissEoXd0O2NRI3AcY40/EbRN469SN5DirDz8XD0dwcsxXt6y6awV3eOtOCYm/epDPre71EPbLCmzMPriITw8xcqudfAOsvG5kJ2Pgzg0eHriFuiUQ7Dt44YydR1AP7A1n33coUvN+K8D+8vIa4nGdIZfI8AuRo9SdjCvRvHsIbme03NMv5K1OY7RxQlu2E1KZ+zjRcDu7iHbu1CId7WxvEY2u9MAAAN2QZrOSeEKUmUwP+RJwmLXWzWrDfCKf2VX28EB0odMLfVa1vLV42EVd5N1Ig5lgOAoQYVjHN3GJel2SCrS/VM0N+L8PmkjWfidmnnMVC304GPy1nElNkWuWaCYwA44SXJzZmDKXHIr3z2GscpuvXvRgihmVCk/cIuUd5Xy7W1YE21Z9U4Dl1oO0ibsxJJREZfjwwN+Xaw84LrtUa5KLAFxxmKSu9wi8hXrDPjit/9jMx5Hmz2C/JGwB/Eabyg/N1a3meCafZWaKoIMS3rtZbuKtpUKYNXhpAYkWnVlZR07rC09d2VoBJNGIz3DNzI6bzC+6iyEJqBQ/YHNxe9+U6GfwmdQ+N6uizaHb6J2T7zdqu+TaQgssLCtB5hytCbMJBEysuaWmtmaQ89dISGqI9TzvArc+fZdeE8en56pj27CglZgNQvkcudl+1W3dYSHQwzhHZiSIS6dtYUXeQd44zB/OqwYH910qbeztZ05uLenXRAf4TMTvDe2++6shkRpJXgu1kAkLye6tw8XL8bDtSCMTrkgbqJegYCtGhFV/QZJCzQaEKl8VZhlaPpem7l6VcOYzI/7jHOWEzjLJ2DumZc7WDg66FI2WpdLyAsIi8N/aJ4B/CGApmz2Gpj7UgroBw4n4JHfjEEDqCYf7WM++tlmjYVmRnW0RzwXaGlpTWu3cKv5XQKm6lX6H6QDTFrfIZIbQovxaKKIHXEToQi2NXYdm+qhvEEGnrrhI3kNNbuB50bG1MSzXqj8pH8bXo/IKk9RQN1yZuiNEn6UPAeu6R21RlJCQtRIflz4Nl3zPCQ4q/3aXvhjx10ZCbpQOTY7Xc4PMbn0yLbpu0GTeKEBM0ZjMWEiZrUoeF7vimqgf4erxubet9xGQMTg6Zxe8eheXlkruRz0wnQ05kAmtIMZQ0yN5TtWA9FabcOGzTkBbzCu70JlFSaavfKeO1634DkXiJBQZz5PSiOuLnFKx9wnFjJtQR5jWQgHuLkTo5aCN7YEHc60Sdsu1prP6/Q2pgzjvsBkfqzPdXII3E4CxM57Q47YJFWPwhicY1VClGaQpnGm968fVnUEGKQyZQN5KnlPzH6oRxhldlQ9XZ4ZuR9r+27DhkIgyn0CQ2iNfxpYKaU4FFC1/u01mvM8C6mgnTqjCTD/XnhmwsUg8vsdCQX7px7sfXozngJ9KAAAAVBBnuxFNE1/XV6SBgFJ9ZEOLmTm6GB8afjKi8YRB7UGu3q/voVNP1jcIGLtBIu29AhWnXWzks8CCZNb9yLwS4qjeV3OqDYLzpB5th3RZsyhaMlQ9O8r2BV0b5VRstY6bqlFsV3TDGe2nurW9zFfV+g/+Qu3RKyEvIrOAd0KqgmQ2kUJO+QK4NaSvKE3NSWgNVPhozh2zs6fxj9n6wRzYGUh0ATC2DmTUGVqscgz11uV4tYzwQCeDWw7XtIzaG2MhZ/UHmBH1VKsRzkGdiIU458nJ420NVvOiNLdFyy7bSJis0oN69nVbFtIcqIdNf26Klx7cTIuIkeqHLBC5tILPjzR1WbXTy6dB5SquLNWXYo7Ly5cvT1tVEyOUta/PUMBR2cJkiL2208n2xME81VPWaTYghqukBsZC21NNtL/+RJIq8s6mWu7jtoavdewHnC1+YAAAAGRAZ8LdEn/D18y9WtxxJvkkYA5EkogGK6eIr2Y9LEx8B6ehonGD+3E48udw5AQN+psMhrpeyQCGeRVUCbh4U0yP5P9+/NIwF/kfsBhFarsU0JLJf93I1oM/QOBrnmHkEXg+VwC2QwC0gjWL4/8GEpVLwNvhAOjvJp3QKZO5sZTYqk/nio8na1bz2cdJTVuiJymThqu8d0IR2KqKRdXDMYumLx38juGR6yWpA05/1gSIBB9sQRbfozLfOztQwaBO68qAMZvTBQBMv+SkcNKnA+pRqIdMnWk5PXmb+2z52bE2Q+39IdgxtKAdcJshACZU6yWw/MsuzSaxzLwKk/MLkjR5ryLjLQa2oqNUBQ8Ic0rJGSpQvhS4QmKHCOjPa+NZ+gJPVFDvE4h1KnA3qZ/yZe7r5NyEKxAmYuHT4lhThUaqyyWn+2S21gd/oVnBZW4LYzhx5/9Jr8vag4gmTWmNmcuzwGZq4zgpWz1SfFcm085iNtzd4gqBNoiXbGSbZMDAxvNfnFW9vKIerEboErG+bqLRAMAAAEmAZ8Nakn/DLS5m40AArDgossdZSMx1XPCSTUw6scgk8chLrl+jD021g1jNc8tyDf5S74zONmT8lGibLlwtISP7ts9JjWMbzGDBwuWo2GaTFuyg67zO1Db5EPoBsWs31fKbBXx+7eOUcqidJQj3Y64tF04EjhSFTn6W5nzp7NHhJhz+5VNDTHoOF9S8zxb82B/+f3H5A3TtMOCv0igOT8vIT1QKYW6fvCRsrf0siZ7O7S8ncYIFDGpjK8xpDzWvn2Lc+6N67pJwjU9Xx6t2/H0wKa4zNEonKeOohuHuaaILNMV7zOjXKh6XebOGIRhPLj8r4V1bqEw7HSNkpC6PbzDvfYk78sRG6gg7GFRmi7XpFRnmlaL2ROJ6kQcvTNal5QDXSrmbk6BAAAExUGbEkmoQWiZTA//7jRkLeazV7Pb2N4r/0yXed690hoCt499HI+R4qIJhfcrFFqNUq0bfSvjjWeNFb4P5hO7sXf33w1XTGWsOFgpFleQT3p3Q4xK45NxUtAyEeE2d4ehVNcZOG4rFQ/jhE0BFSeKmPyGzt8DytDAecnAiqFhKOdiRg3zk6ML5oVJ9zJtO3sSWdMYszsfnXRnBu5Mvi0nKqVa7XJfa1eoUCmPJETQQSz6lEyraKZNaF5H1ClLZe7SFLQ8sNXVAjvxENAGPux3evlhtvOozite5QdwFO4Y3tn8st0wZ5A/fc6aNeNKNKqKXjQDi11TrLVIpjkIQvl1K8TKph42U3vav+QlDuXhauvmgDt3m2bBIWALbaD+lTCD/p7LtyoMi47Wi1rE7/wzFiDziVJxLkbtVXK6Q3TdT9BPGxTU5T/aUjtGeCSJyN3b5TI6ptZpxXR/FrXmAhk8De/CFdkN1YvH5wxajvJtg4DkFoWOMl/1jfA7hoRgCkpZh66ByXhs9yQ5OUNFYEnevDg/EHSSDOFzWTg/DYDVCiKEOwR5GZrSVskdpgy7qdno0wNqG7iKAyspyTMelcKqnDGb+s9NItdQOjKzQu7psAodrv9LtQFrnLSESHZZcGT2uadv4l4nk6zlS0OxzWtqdPV/jl7oodDcene6FOcbhR8Zl/QdxipinLa6hDv9zpsUfCTidarXvMzCUqX6PkPEZ/DySRk6wGKKkBchIBtCBHrrKdQ1PqS7xZAMXvCyVw+tk2vUIAp3wrnSrBASJe8Z7nnXRgeGljozFy5zZRl3fdCoeEpMfQTH76Gqn2r8wPf/mp70JXauezdK8HDqByaFI4I/gQGiILyRu6kgplQxD4nIdSDY5434rg8wcq0/Ne6R9l3kmLhcklnM1HIYi+Y7bt2bx3nzi/7udl0ez+1/0ZcU2vXod4IaiiVwvEPbd9f1+8UkQOwvyfYab/eXAaPc/aoU85WMMEGFrSS2AT/aNgEGevavUevDYCgjKcFgee//iwXAy0sUp9vAD8N4Wmr56Pov5Hgbbcx3XN/j976ANDPvVv6TJ0MHclQ7n35vZUZMOsCf3Re+L5etB/A2HNz5qThp9I3PSTmM9fMYygS67IVhgCkuvPw1r3oXHfzrh4ItVLDac7iH8q4nAvuV97QqNeXSNTAAqjq8eO5dRUv1hN28p/KGxRLSHqAJJ8BrCw0fT6xtKvKBO3wQWHgt19bSfaFeiCfg2pG8e0g6K6hNBVMxT3h6Z9NipllCTbyiiK6yMibvopJHN19NWQ4canhiZvbmYiDjw5hdR3qNtbnzE55IBpjwP2oGPJsqmyTzplQNrC/s8VTBMCTFLYHCo80ei9JO212JbRim2EU7QAN8lA76sarnutFuuxy9zPCcKuS3k7RoYbbQqDEDP4YugcQ3xEguprkElhgJlXBC2tNiyRvNvUPQ1UdPIxbe1ldfEbsMculj7d1/QYC5rA5vRqoNHXNAgG6P5BS0oM0tkdJ2U/pqoClXHnJLG7A3zDTIZSPYyYQF3mP211ubq/Kth2xotZvyubI6jqliNaMWy+mccdlc64+Lw0S9W4q/cUe4fRsB2z0bGQiHBxNQwrGi6BbSimRRmYPSYQAAAhtBnzBFES1/h2rXD+1jV2sSZ9qIAHvjZTgwQbzcAcwWNCbnhUaEVN59+70wB04lDKi21t3zKYxpF9me36hMkKlOctfFzQ5kvLQspHSFCN+tFixPbXkVWW6JO6xHDGACvyJce9raIP/H4vD3iuHV5tIy++heDCn8wqUy3YkBlTdByIdyoGV+Hr40FJh6EU2Rw5aLFklC4gWBTTSC5QzlFzy/eD5+ibuKW4zFkf426VrtMIGADXJpQYIni/VeO1EdsGtWOKE5FiLvyAVpM/tqI+OEIdapSp6tfgpw1vFi4NKM+Ftwg8Sxl/SVFUxLenf9lpB7UocdJkBJlaB02X/teTFllZSz6Cxtkya0KThL/FP0B0a3eXNphrifIuoYoQikWAE/weSTxOVtXE42i0UBIS4KieqnoOu7VHxaEejpL25ZpxJGmeIJtcyE1h5PH71EkyeDgkK6JkvSRsZ4U+85YULVgJp47rBYGFBDEYGrYA+Cx9SM9krYB+YVdMaCr5DpoPmxT07youwe9LtTeHIXSAXerekn4X5UugQQ1rbE+30HzhLxCh70StbBPLVOTy6tl65eA7aa2aJyNK/Mjz7lgy6SyUgCk3GYjXsvBpQ4Ynb9ibG5N9rnrXNeQqvJiHMJIkVPki8wFb2sW467UbDyAasz2Kj9HTAKTpDD8epJlV6vLwkC8CoVDRA8rSB/hW4hLOSN0XY9LyOTuC+eQAAAAWgBn090Sf9bMM2ChsRUFsB5XUievdRe2lcrt9mnW1B5BdbtDj2FNiIzhMP893n1RBcmaITbaSMnas1xxaOwsm3gn8ekk3s/IwlCDm7nEh1t9sU5kbFSrvZ6gfUWxjrj503UDnmDhxEmoOnIJ7nC0WnBEK3hGVYyhAWBkhrH5RgUHT2wOH5s1yGAhO/3MWmdiJhTANeTcM8G3M3YkuDqTWsxB/CP5v91cl0NjYHbS6/BEop/PH3E3J+PkkDh5N+bmCW7V9+sENQ3zIKMiytzPX3ur5d1U9WmHrcJFCj73sNZAQoEjYV7R0Y9yROmyMC4fY85R3ScrFFB3KFdk8nYmE/J3WttQVOzxllXH3MM4RqkHZEIn1YWbc3MFTDUeQtwXKNZ9nD6qlsdMbIfiXG3jBAOa332JMeSNxM/YRIEmwGutMo83qvkvCLW/ZxORC2kC4VC2sVF15GAd61IAiHHM0wh6tNyIFeEfiAAAAFcAZ9Rakn/Xg+A/dMcKV/Iv7rLMjcxbk92jnwbXpbfIk4GHGZAcRP9o2iKQRpbeHNsnNh+FEBQ4kMN+3OUZLX1VHks7tIQKL8LUWsV9i2S53Nsv5b44GHBbyQGaiic1MB3Jan4l3hMbej6djyi3adLrL6XzjjIOe7uXgaVngMGjGHxTYgY+TCxkV9TSvVsdjIEYhvW9isDMJWPyNfkLyLv3FzZCFSf98SFE0uIBW5ZuK++sJqje9y9GjiMOUkr/YA/8Ksbz03jGb19/f+9uwLWy0+pVPtuLQo3fEH/BLRz2fXnTdotqBMPWBeOkVB9aGGb0i+LcEV9U/er5ULp9xb5bfBvoYtyVqtx2CQVdz9y3VZpuOkHIUxGCelumyEH2Yf0153hxIPVsxPlfjuRtZj+6FQatk0nyigalUp4sn8Q5820T33yKiUKuCb9E0DYmQ0iiR2KshFqPIhS0XlhAAAGYkGbVkmoQWyZTA//5lfeC7n293FlCyNgZWG2vXU1YUwDq5v5iv0VV+8cvk7Zv3uO+olA0dVoA0HCsHXMrzs2ey3c+16HOoFskj6q99HqCBYo8GK9TzVtRYqtAnLFvRp22Nb9nUYmHSstpeyfQA/6O+l/GCYqdrNg6nNcusImcK78cG3wTSIjCk2xjbzOVkMIfa6QHhKmPUIxIuoQHjup0lGEp/2HyMLr21kl84FM1EWxZNwRWmBfxKZ7OYDanzCPwvtCDdFVDlm3FExxLQGCKEvQla5bLbOqLSmqqKAK+H8sSswvoXL6Gc2u7QmxQNqOnnXzwrQwjcKGj9XlXJORDzcrsdVhcw2LpDhstQ286p55cxb2CYq7hE3EKYh0CyH4zrdIay4lTABTE/R2lqcaSLgreyXtmLAi2A3M4IcmXLfhqgBEq+JS6GSC4CdpYwu/+W5MPcGlfQeO2sRDy8MZ2hjIX6oJ77bRvLDZp0QOQWWewzGkaV9Nu8AR8fjnyglP8GQq56/8QJbCnfPyI4jSkrLvV8XLbBJFXhh09xatQwl1wdeMDFsKJBPKENJ48ybO7rR6SZ6yWOAeMpEYnZyBO5v0N+OrKORLkBrBVR0GbdRmBE8xxV5aHsJn7Hvnv4vPz8WcHgyC4zQS5zYn8d+USvJZFz+w6mdJxvjbmmOSoPuKVkAlxYH9IeBWkHfnDwbbBv/lddwQS0Ex6Dpc1Dir4/C9R8ey1p3+CJqUv6bJXmg+SfzX61uO5DF1tIuIL87SUeQHZqXa0PzXH0CdpCc5rxw5aEi93jIOdPYzWD+UwqxG9Z9mXBJLgEUOwVvZFl9JaVuNT7hYjWqAT28hMmxc4nSp2JaBBJssLOqacKJyHDTqfYzvoPzFGOr+13u1okBv/BUkU5L+CGflzEYWzoB9ANjzZw3wJJYEElJlDCsBv4RLFPid3G4K5axjepWaci8xGszbI2LlEDY60tAZMcWodfZyPTlrkG5WMm1HRLFBzGmto2gIWYprs6MVefkYDNmpjKuC6av3ZYy7j7P1A8KEU1xSvQHzhjfnUZdC4/mJCV1jjryzQkNvZEbUS+dpdffm6B+2jicbPN6qbVZG/YrRK3yCrH6hPOWsD3j7sNcW/tak9foMjUW5v8e3S3oLSQKwu4g/3c9B2EllVlHchKVs2hiFnGLVd3ema5l12lK81A3P/V/Z7txbgkIAdJ9eUAQoTINQCX1nG/tbNHigpH07Pk1lhuBgtxSQqab/jVDT0dEK5OAZ1iNHCC3nwQUneV7f231gosmhfmdC1vusxTaTPZXrMj0l/cMgYqxpNAPkaxSKAaLNf6JHY6iAjlO8pibrzJalgbiKp4UYdvRo7EJO4cymQpIQMiYQzlSGmygQSsl3/67bqdEMCj1f/77XpsM1n2zvaOKTtV/u/vA6ogyqyx0dRqfPfbAXtKreVarpsiY2z7ZUT0FvLaETWSyRPSulNTZTmcKIclg3WmbZizDEaorevzNldj6EeqinCQadu0UbUqn+oVdoW0868S4lho4j3RnuZWlbtdogd1yp18ts2g3qh0LqIitexmbWwoLj5Czul8y/hTXak/zIw5zDeabInsOkgrfnRHvI/EbTi5n49XADA0bNCbxLOQYdRe8qjMWFs0Eyns6GzCSDGEE3o3P9Y3c19U6wVncFN3K72sbFNFP2RoCQZiOuWysFjVBI9AFrk2tHIPnusStU7apHDPOMlLL51j20j7Cgp+cKtrpZpSCoGj5Y2fFkvnLwKa83aiz7oXjhu7WnnDQQZs8NEEYpoGLROZwKiLz8xe8KPZuWkPgnhUYWXiYQJGUrG03OCaIcr/0fMWLF+5OKyXayaH6dhl99LLt7/KulBJb6qZPGxmR39OnK8tEIokPLx/5TWtn+QzUPWtQp/de/9iozgqKL/lKTeDed93rVFgfYobO/SEtHeLn5vSq1XTOWZE1g6iAbPsOgEerF7eChTChE2hueWIR93Sv1MGm2ouL0JFrOHR7+3ZcZ5hh14p9V1Hnzx0mrkPpkeNXU5bTPkzoKAhNiIQwSXGh1ZZMO/d6bqXKhTSts9i/IuHdvG7AVkXE8dvQxLumEW09PvCen0u6vSw3RXHnFQlh8K8M5ivsR6FNBEquVliTKUoyreHqwCAKECcAQBfsLaahanXil7u1YCcIeRHfAAAACwUGfdEUVLX9dXm+YRTQ2M1cqFprD6eXOKUvPnfXPoejxCW0UNDPV5IZfvOS0g4kMpiDAbJtyUy6P9W6SKOs+U0jMwXApAQNmnl0XOKX+mBOujxvd44bEJcwnLR2ILDpEnzO5Y1p0gjB3QWhBR39KA/PypXGOjEatRdoKf0DLoTRFyDvT+tmeEcKCmx64DrgmlmNfY9Gwz3ut4bHnLyBAPCFwtZrgKgNKy7lBZApgWvgo8/djBwZVpXBrtqPxc0iFaDsv55bKk/wjCGoNg7vp4t+0lcHeRVU9Sqhf1R6WA3P+1dIzorM2wW1KiB1JNuHgICSawt7yhJm5CyXd7CtlEt7Lf7m1lL+/oPJ6M2aNeF+v9+xP+ZjNhoLm1k8bo8YKvTCimE2yx5P7XrrIftWAA6xc5Uj0I5pUB8x7/nxllptaYE9iu3WbS0mdTqIlgoxCzuGJ4+GH+YN75ZAF46wVZhcmT612tPQilg78ZwwMAFjQttSPQd0IvusqEu9OdLect5yXPB134eWP035zMGDAU/wjZ82ME7j43DWZ1wcbNd6fx6zG+TJ4Lpavp7gG/udxueVWp2KZ8MX7inW38JKU8KaYHypwqVYvQCL7AK5B30uE8Wlt4EBQtWXQgUH3fRDrA9w0Cwwjn8oNbEykNJedQ5qqYn2r1CWvWfEmmzzvwctZQk2UUPknfj6a/fn+lpksDitNLEqROIuHR2Asf5jje3AuABPzsyUajigaXXRNL9syb/lbcF5hXfUIyOAp3fKcU8k8e6FMK9un5XZ9j6lGXQT8t6nhe/pOxG+S0wqCudMp0Br9YB3OQBlfOycFTKhkz8q53n+CL7UKnf39+LpPrZ0gaWQIz7d1HGXpD99u9g283ednYqphMcaXXGhkIdoIBNrL8MA6aPIuHI6I+YxWUOHQfx9zheVNJT6AuOnjXLcTwAAAAT8Bn5N0Sf9bMUDTzwFXltBDKuLWlPy8rMpXWYACSkHTk/P8AZ6k80+6pzuJqd8WuHluuuEGV4pWTobxf2yFg1JdJHXmA+2/Q9QGkb6UQntCcOe27MK7tTTcLvfuCOV735jaUcXEWtXL3pJwrtUumE+RYYcUmz5qBNx8DdzgjQpcX9J+FRqLIfmQSXspTyPL+Y+Gdb0cZwRtewtKcy7sNgJc+CkdRizoPLHYXur8fZv7mctvilADlRaVpURjjatcsSKoAbLjaONvGt3QlpzX5qT9FiYON9zX7p9PRqjATD4vrFCIql5zdeEJUMmA/iE+teSQEG6Qt8Vh+1OvJiCcsMCMFN0StyECNQgdDzAa0i9RPvbhYBN2Voe6C6woqmKtGoKJ1ugXLqhYbvls8pxaZxuGSQ7WygJy1kEYAEuX+5N5AAAB6wGflWpJ/16AJJE6CTl7isSxiGjbFnAQD/zdoHHDbZppMzte2Z9X8HNIvkBYy97FfO76OevLzQ6tRqIrxoPIgfsOQKCI7Fl34Tz7X7G/qmG9OZ8BsTOc5CdIKCOuEVh3A3uCqPKFlS1JSNojnRJyPm66Yj3AVSzSGIELYFbFnpImXUupYRAGYiakKMObyiHTqoLymXISsj3vzBOpLM9vkPsWAYWnqEmicEz8hrR5xNAoco8l0BmdtmDhLs8mPlKSUtZ9/FBqfjxun9ohMD2GUtg7ZCNVQM3NUfAlNSNn5pEWZPmEJzjOmdtsPk6YkI5yPfHhgxtkxhBJWExI3dJWmKwzIMJDV5v32YNboPePt/ToWliIdxjc1c/fsy7RNpnq87Lhr7EEo+X42Yn6RT+iv+FC2PqZctv/gCTaE+qr73nsVIEHoTu4AoItQ+xa2E0vaWbuKYdXKiFo08A14lJgxT/2btDakCwHnMywQTEMYPocnYFoi8g5s1TCWMDM5iiYfPusC6ATnE6toz1WfgxYjdeqmU0hUD4ogqW9HcXkbgUBUXj0JvR33U4+NjUGA2LwKyipE7LIZOR9EnPHmYSZXCtehDY3P6QeCiuGa5bqdfmozA67CVtBulMIYi5pKPhw3qT0U0Io3WVvbb8gAAAGMkGbmkmoQWyZTA//twA0PAQ5eChfiegyNTD/bZjG6MNykWPEdrwek4cxRmlZu0WG/1zC+P06rwFQ9x0pigGvh+gbAfvhgbH0bfqxqLy9nEJVialezqXSLFGiYn+eb3Nt7YXYMccoYeF0RABe9vf1DyAlmNqUKG856eEsNpatxjyhMdTsq6+pLuklmc3tmpchAcUpO6J3vaf7BmHclEjzzJcHigd2tbQf2KiRTYsU8kChpVpwWmalg9l4qeFoRQqUS6Ve6Hy1ufJwra8hKe0bQy0UVz4KuPjYnHQnP/VqpRj/1gUBtB85c8e8P9Nv6epWCJp0srsZI5ket+/lDrRU16RayKnZjb3p7TzbKPF333jecBn2hI+Bsk7EwadhFeCnYmdmWSCg31JfccAiQsooaykPPP2HJ1tFrsLLgsWWDT0gSc8zhIfU1Gks24i/tFktj35Vt+0V+lMOsa4bEY+w+TdZqqdzUb+wirTr/uy54x+A3L+75+aTf2xernXc+A0/f56kCkGNIX4xigQi6i/ouPVzuB8xgt9HVMHFPKD4wjtJ8UkbZwBwajFcJo552SF7o3g9wss5n9RseA0C8j+czzxTWXtFrBuJ652rz+vK0dkNXgjABstWpRdsF9JKcOPUdCEe8h2JP8Ib+K/sq8Ui/BaDjMDowtiLVgD9n9QvMq0TIgb1lCFj9xTZ9FJYtdF1Hqe6Af8ULCHnMZepJHx62WyA8vU5TW610G5jntXPxaaGSu9tBhpLgXh3jLaEMDRF2Ch6PHbFA6pvt5LjvIMfPiV8Qym1kiXReBoJYrN2kjThXfb5kA8IGsiK9iS+w8k9+jhxKYrGW2/mAuNHy1k7//0kr0vw69x/ng7AgNOSFT3qVlc4bOdMUrc/iy+ESwo6aibrfhTBtesJRCnB2onOfcpx6shtheS9n8h1XkFpTxVQT3uiL92P2FrBRGEwzY7h/NVZwrXxtZuRybeWn6d2JEjFNt1jmgR7p5/EeLWgcIgpJf1YDvocw3AGnc4VEE7qQ1gE7KFZY0sJtnmEJ8WjpPZzEGYnSI4BZnPIAD5wjg1uCf7v4L+GM2WWnxkqQDdy8zj6v8/xighzEyRhPJsi44be97CXRNMoZFN2EvOxhn+htvGE3q9QNz4eiXT/67tthId9EcIGzHd9uJz6YZy3/igRZVI/reGJ2eQq03dyPrg8dmh7qQbD+iVyaZ3SZwRMnog3LSbhGyAnX6dTfUVrp3AJ8tGbI+cf+0JBaKWyMBY6RvSr72PiKmtW9w2pLx8TF5SeJl38xAKJNYhoSlZ5MSJAvGHUe9d2IgGX2NN1Q9xHVvhTayq9T8DXx8lqNYN6swSziOlEXnWwdm3fVgKdBrk55XhqptKUlpfdYlPtjUlsA3nHD7554SOsAaCuG9DXOOQaBGxwSZgVNnfQUD2L+wbzF3SsjJy0SXigW1CqNSuB95A/ivj1YWRA/tzItx3kWA92EJZYfSFMmYhkY1ZpfZ06avg2QO5yPgMyIEaycc/97ygqUYvPiaCJnzuNnx+FjqHbLqg/j8wfRb+U47qbdF7XwKxvAnl+HBSPan73Bvo5rt4yUbsyDV9ZlriHWXxpRrE8BpbWWlqz5Totq/wAdv2sy1FTH10/VB4h2JF0XyCuzx9yluzxK92xZDWgjg5sn56+5UlLyyMTYQsUHk6bs5i+IFabh0Onp8yMhi5N5Ax9WP/sL2rkmjd6Iu9yMlnZ0UYCEse0jDaKx/jIsimhrQyPaUrWdRZ5KVmHZFi7Phx5+L4+HRJwRJgBsDUlE7N/7C0eJ95iqeCLzM8nttKlqfagGFT68vKniBJ9fyMT10BsD5H7JxShop/F7rRUuXM7a3UkIO3QLqAAH8PlHlf+Im0GQAq4s/XyEnfeiClhmJdBEagZXfMrNJ1Io/RezLqo4e+biESiPHG9dWMiUC8VaWwk2iJOdP0uqLryGELetDNSjGMkiDtOIg00YsGNy4+015F3HDVaJXhGLp19Of7b5lC8f3tDrCNaZKCgOnQ+q0Q4EizxBOBOoqYM6R6x3sikG2CGK2Mj+Q0XduADqKntjysukQJJZuVdG3ERjAeT6ZK7igNM5+Caz+JapaKYDCXfHXuXAAAC3UGfuEUVLX9oix34114gHETyW0epQhDZCesS2K2CzPPxipYxw+DdK2hKmpjBjrKr3OaT60CCrLF2NarIIW/cv21QOXz/0/9FUIn6b5YZ5n4GCM/pE0w/06a1v3K2kNrbNylfvFYF/G0IXVxwlLHjB93e48cM7qq8flHTiP/sfwrZJRBRZGM3xGeS00tZKG0B2k3bnU0yK4T0+uqwbS7YCU8Iz8ofNyEAuAXoNRMQVtttO1e7dJf0somWWbiaGs4MrDV8kpAsP9WULwFotMDIdCi+dOv+lC8JpJdIquui4BHQOLIdgFL2Tu6mWU1D+rEhoe5K+P5T8RUOdJgvtzKOxFzNnZBHDvsQ5JPwryrvnXd+NXhUMxBGgBTglcbbv7MWIDgt6lqsfH3u3NjbJin/QVDWnt6chA1hxAxDR8H18btPYRKEimgh+IDr8PmPKgIgSVuoazqI7R4qKxU5HGwIJ0AzMRQnT9pLKBu8huDA+Cm9xALRlQmtrkwkqWnfgTAauA38t3CQH9XGhSgOK2nMHDEN0xGbF7YurD13Mmty6gPxZv/jcErLO9j99YZgT2c55JJK2+Tv/77kzHo474X8TGoA7H+lZI1/3pgq8lbbFlSUIo/dZQ/wUZ3niz5+y7qnny95zB8WaUXFvbsOevTWNJzjN64UwCHPsmOrbKDskWgA5BNVWn5hP8XbBGkuuwXJ65mK7rOk9V+mhnISzpmcUX232102gCwaTPBNZ2cl6GfgU9BxM1cgniigfs7w1bz7VKe42mndAu5W7gaaHyeJ+RGYvzJLlQqjknRqaAbyz2xm5gREQiNZVEPM3hpEZHGgnVIlNeJWTShLZGER+lE4iqJ+4+DP+Qgq9dyakTlOUXobi+TkmUU+4NCIuogsVUdSYe/8ZF6npHHS1E+ms9l9B735+T5Nbr/HifSMbhgfSEiPMBWB7rs6A3C7pk9u1JT7a/fSTcCjt27J83u2V4EAAAF6AZ/XdEn/HTZK1SHq4AAEIE6q/K9bfZoozmaO7qcbiFwL7kcyalVdo2NYXXEL8lqWFcal6sEMd7yrjvBiTskeTSnNhQUzQCGNZH7EsLovTxaaAw6NVmvT8htT2C+31Ib1NmfsjUCAN0eOJqz6an0aL0mB4jO+CBC5N3COHazdT8lC4AH8vfuzutrTQiUigVzWvjh1Gia8yTr7yEO9rnOEhPfR9uItgEqFpqRooIeUfhjeSZV5Qx3eS9/sJ/MiTvykRc4qQmE0pJMEUS0oo3CpYNLeIqZg3NGNyEJkRhjRE9dau2BeRkys1wa5tn8sj2z2MAq/DVxG4EaH6HtxjJ0vCF0BoiQpwLzIo4yZY8vNmSxxCC2KvEJHCTKv4yoiYjNmfH3Y8kyYj11ZwKFAWg8Lu+egaJXI2PbRBBtY+MwHfJXJTMzMo5FxYfDER5B8gx5mWfNx0nXSACrIumk4/ylgnKvljnnitNFejqQgQK+WlhbwhzLlyKCIkMGgAAABtwGf2WpJ/5g6B2u/hmFED8MlOPRdZWKL2zWdcC82YPB7Bqs9wALv0JUDion9I8hAVbQ6N828uOjWV5uvhDDaNOJBipvqvgTahgUp+piX1ovdcpuknlKy0UplaeV2tJLanAMTVOsm7+/61JbvZHfRLH055/5FcOuniFKh05BPWZJcS3/IXOPuNqac5bYEv7D+ajH3ZQsbBMLKo+Wfcrlzf5aB4N9WAVB6E3rRaIPJWc65l9gspY4vWH4GrlxP1iRGTCPR6TLYkh5lRXnS5nhZVa86/WL0oSEyT/DSs5OKWEgs90shhnk4yfMbxiLDq4/ur3PEAe+ayfHUqnoHKGC/qvIlkntLVynyYQNxFG+5NQpfPvUCHphE76vWsLaGMWKr1GAMdqtW/PnOvsARpmqGo71GPw7FFlWh867Bezpr10TWMTY9mRZC693fMUdGcelYvVb/9ZZsxYOfmrqIxviEC/0XpDMJmMOVaca/KKEzjG6fFQMxFsq7JjOs643JpsFPNX8a+b3ZxxSBBrWZJZejrm2FO7dUMzhEE9gxYmrDPXDZ9SBhRfwbSTCMP/Hr7PjWvSSy70yE8WEAAAW+QZveSahBbJlMD/+2gN0pPN/2QVdi+6y/laJjA3a8poOwcARtU+8fNnDFw35jtQN7f7BoHoTSa9u2Fma8Yz/YnaBCOc3XjE1xMBUF7fuf5lRWXeorxNoDRKfDAJBovHKUqDrQHEGodbM8xeE/tqTkYJ2J9CXSVweLcFbYSbojlOlGxNcts8kTIS4qxGGS8iZhtK3RqGbDJWyjGH10Y1VmEwsvibe+WopoVTT6hoA3HjFPZqwMv8m5+vngQpg730HL6D1zyGg/XXSA6W5Nku7Qca3UqsRKc/rS9qpuUngz9s+0WvyoO1TEUSZMqUc4JANv7B/4SMute5sNszEpJu57voZQkLbamB6VItmm45VeCfMhjtHZmva2EU9V1gk2BFQC+0cfA08IlVMaMqVK1UGrofLsCkuC4YZ8Tq1Ch1S+uslxlPXZ/Lw5ZqAGqscYk/3saTY6xaQ4ZxygNJx0Hb9b27dHxySWh7OvbkQCpLOSb6T26gxozrCLjFd3f3UCkYglHI6Y2QUN/vFuIH3XfC6oRG4ibsq/mubeUVjt2gX/KPNd6DvgipJyMTJRjkY4y8PFWq0CfsiYxkKds4K95L2kNJPyh6osILAT25kjmGEYOfk9PHLaeyTCuVO+/dvYjzrU2xfJz8UpDr0p3QpLc0Cp9Pm8cohUlY9I5cVRRcRzsqm0lWdcusLhxJZF0Tzeu++5/FW+v6DTxya5tnraEJUtlw4H23PQ4lVrasjAyZky754WM3LbVTDoCrAcnvyxNTZJL7R8XKwYnSNlv5jT1ujuGXl7X2Aay6qCwQpd1KEvVP1wT76yY6a0qBsdH9yoylqech4ZuminAyM/86fhB/sfSiLC3kjrfmeq0xFZJ0QJbHBJL0GPcWCMjH9QGlYI9eqFqBAmVe8ziiVe+iwv//1cPFuL0OL0FXSnbXuC8cBCkdlmdGvraxhh11/KYrAw/+vAVQTALB19HMGyo7tY09X2vaX3jveWspIo8qZNBuehEolWf4pXHa9/5LGWpXOJ+6EeTN6V1ehh02h+gDd1Xl3s+K9hND5R2WTYLcH7fjGHdfosYdNm2V2Y9gUguKbf5HQb1mI6Fa2tQULeKZM5yU+Ab5QJ4hxU4fzvvirzANOvCVn0cWq+qjaHkCtm9mR3o+R0UbU6+OwgDqkeRLMj+fec/vmPXbkezV+AtbB4eX9l3EzKPvbKmsUv/50RjcL4AcqE34ZA5zs91pedSlQmQWw8A4xH4WyRF+aR0i3bWKpcXNODQgh8RewXjcQCi+NxnatjGwfYuQvuEmXbUExVJtpReOS0gLRoumvl2mGQVebUXQjdifPo4zDaGpkMh3DoKGcE3Q/Ss/htpczASCnsM2W4V86degMg62qHjbA6bwKDwCqXOlkEl6+x8xL67BomBtjXsXpE0xNecOMuXhG+Yf6FuI+Dbr5XFziiYmHULH29epNvfF8jZccPCSO6FlLAPaFpzeiQNkesmbjmL7XQBBp7vGjN++jQwrS1tDxMF4ymZJRA7zVLour7v4G2S5c8QAL3ok50obv6OXj+OAOzXjckOq2ETwI8+3z9I5V2JMVMsgKIzXZGEdY9qBjT1yuxOIU58T/g5mQSYnmRbGiH5SdJtI0sR1uYXLm0EIuUMppowylkxTq1f9jrt21OqBlHcChW3N9XlXv3+LsOIo6xKUghZUUHsNbL9FN6KT6La0p+ZuRzln5ILDFV+mSx58UqJQSnKmFe/9p9y3NokAxS1YFPFq3r6lQGdPgoJpL/jQnt4ls8wBauEF2qmO7NPUDBmYCoakY4vxTUhcaIXkF7LlLzZbhv6OLBdOdf+iuRmTVdNRdxSYyTtO2fQVy7W8kD2tdhdPFZi/bxHVbHCZP60taePdRikEomVYHSPF5CPTvM4SkJVv3DcnFeFVYTJi7T3Z8+12q9LKm5yl28MjsU+c49ceKks25a7rTASVFkCAngAAADC0Gf/EUVLX8dNuksRmE/A4XpLcrUIiONzcCpZwL0OCnmsMO6TGifZHxA5L/LKk2YxEDnmfYjiLDhZdQlUSAn5K0PCRkdvttkPm2MQ46D4ewSahZG5Sh0g7lbLznv3G/lTZ52sex3VXX8OsQqCZozIwH0Vsp+miUaCiDjuaLmPTBX1a7KBpMBvzLR5HChD4+HxfTcgvRJm1kbHzGQu/qjk42j3MSWtDfa6pNzXZR2D2vM0zEhRfre1lZfuhk1uPcnrLTVmUrAr1IYR36s6L2kIMJepPZ6V7v+bF6xSnfpUU7BKjtUuKl2ZzMSGVnxcDOzak5Xwapb9dhztG8WU2Bsf/sR57fvUfxDY7soQzBsxiODLlOI+ndDruGlFB0xhNvpS2GDiuZHi4ABcYUfzNaAYJfwVhzL2dceAtakoqEwT61Q5znnQIASkdqHNCj0PhT902L2pGYtQkcj2NFWDDfOKI9c/7DmPtmUwNz3/MtK5B3oWVpgkgJG4wCZ1i3i//s2MOKXBwprGMO05KmCSIEeopIx/iGNjjO2AGwR9v80t/MPEaTlxPJMYMs/jxXym5s7+KX1Yzw1ysUPVqUXJ9MsUvm5GiPwRjFPhfXJaWmLJ9EO3GId5L9zMAUZDRbDQs8M2ybEj+XnszCPzfcpJZeW32VUvhpWDNoMoxqK3Sfwj6uKO3FEGnF64hsgzfSPAlEugq+MOaJbwkSx8/vUCws8HIFY591I6RbYyk+noAj9NmukZn9gWPtz0ClbAWW5AdfIQ4zKj0bVVSLHBXsayvRUXVSESDTMh3NU8LZk+jTRV/iFEx+3THodeq1xK6q+ING1VIYB48ZsvJLhDzx6VYgpER8aRt5BM97LR4gw0jwVtHZFIhD3O5g2PY5vEQXJiYB7pNJl2hd3ZAVGCkT13M0fkO6yupYvSgjj06iVcPOh81L0sm0z2mmrOdcIkRlmWpLHZZFfmCtHyohcoN7hqsr9x4Jq/0GSX9uyyzdQP0QaE0N0sL8attpv0x/ogzmpysWkqRYPNgqaqI557PRBAAACAwGeG3RJ/yBcxAPiAAAGxeU8uXPbs0KxA756bWFHiK7UGjYplKduHDJf14yBYONaoD7Iaw1Sz4pnICtYoDaAQvxk827WZNusMk+KfXisKijAaCXgq+lkkL4RKo7teLCs7sBTrYhcEXGEnYmcKu1sYpEVzFJ0Y9hT8J8qu6+vZYNs9xhxfz8JnPeR58SgpF7vUE8mQbW8hiosuZot7ZpNrj6RvJt1DfG6WK0E8xuMEfB4DcvkORkV7OaHG3bIdqW5BfBsEXdFNGXe4/ET0uZuiRq0YNAMKjGvjfuuvW27iQiNJ7NZggNois6YpE92cJdwlx5lZdFrLtur70/YC4hLm5ud0CYdXcwnUbYYIKfwixszcaFSNaEleozPMy6Piq4voTjh5/GbeWSRtbUEF3Sp7OyKe7Tas7ZRqjbQ3ikYWqligV/CIMkmy0TaSqZ+0ijFYB7thOmmDbMXcBq2kcJrKjBsqH1CHpOsmd8xBu7tHcO4ALdAmZbp8Sz8F6/J79GS3rMHFPUFo774jNngtmb0vlRUz4UBGej96EZIZLOslMftHzv0r8ZKqpZTTG5KXbn39SvaGhJ3qfPL1sAN1jp8OJVHXg9KdDFypt0eGSKz6aNG/aXdX4OOq2X+kSSuL4bBfst055DSZIqi9f75YeG+lDNzc/U1coXWiphbTilVahwbvnNVAAAB2gGeHWpJ/yCyZqIQu9fFwMsAkuhVO7fldonz6M93NkcW7Fr2h9q1tr4JsrMGhDtokRYG4o16RApr4ry3IOpVNguq2lBDrYq/gtKm5RLv5p/ACOnF+a0y9lLdqgov95IhuZ0qmCpdtgkMcVTwtv3mDCB0w/Cmg0jFgqqwmvE1D/vWLPi0SV9fiB/KkZN2+g7qe8fpDy8GjTwU3zv/7uzuOLqedsuBVQiFREEMDSdeRxF8XsrKnYdvcSbyN+rH3VlnG5NPNkaKITKxaNXom4QCHd+HvjlVJteQywNFUIl1ZWqU94DWqY9V1JSEOhQuXeS+p8Imxg+jVMUk6phPM5r+7LGymL0fkw6qmXfPSNDdUMrm90EcGACrZS9W4lVqtjXCIDZj3urACZusnXvqMASfWVmWN3C7aSRkoD2SWO/crpsBps4oIvBbax872+EZvX+2WNEjkxJEKeeeldONh8T291RezLJjiDhmjNmz2YhTwOncy4iSkdBauL/5RQbmEqKhV1Bcs4sxcXVpVb+6Rq4hcm//rk4qwZMwxXTnbbOkKYzn7p4M6n0DrUlEmXOeM+zI46lAIPdrKl8X9yRRfxHEmnaBeGbJPlsBPclifIufALmsX503j2PUXmpM9AAABJ5tb292AAAAbG12aGQAAAAAAAAAAAAAAAAAAAPoAAAGDgABAAABAAAAAAAAAAAAAAAAAQAAAAAAAAAAAAAAAAAAAAEAAAAAAAAAAAAAAAAAAEAAAAAAAAAAAAAAAAAAAAAAAAAAAAAAAAAAAAAAAAACAAADyHRyYWsAAABcdGtoZAAAAAMAAAAAAAAAAAAAAAEAAAAAAAAGDgAAAAAAAAAAAAAAAAAAAAAAAQAAAAAAAAAAAAAAAAAAAAEAAAAAAAAAAAAAAAAAAEAAAAABQAAAAPAAAAAAACRlZHRzAAAAHGVsc3QAAAAAAAAAAQAABg4AAAQAAAEAAAAAA0BtZGlhAAAAIG1kaGQAAAAAAAAAAAAAAAAAACgAAAA+AFXEAAAAAAAtaGRscgAAAAAAAAAAdmlkZQAAAAAAAAAAAAAAAFZpZGVvSGFuZGxlcgAAAALrbWluZgAAABR2bWhkAAAAAQAAAAAAAAAAAAAAJGRpbmYAAAAcZHJlZgAAAAAAAAABAAAADHVybCAAAAABAAACq3N0YmwAAACvc3RzZAAAAAAAAAABAAAAn2F2YzEAAAAAAAAAAQAAAAAAAAAAAAAAAAAAAAABQADwAEgAAABIAAAAAAAAAAEVTGF2YzYwLjMxLjEwMiBsaWJ4MjY0AAAAAAAAAAAAAAAY//8AAAA1YXZjQwFkAAz/4QAYZ2QADKzZQUH6EAAAAwAQAAADAoDxQplgAQAGaOvhssiw/fj4AAAAABRidHJ0AAAAAAACMAoAAjAKAAAAGHN0dHMAAAAAAAAAAQAAAB8AAAIAAAAAFHN0c3MAAAAAAAAAAQAAAAEAAAEIY3R0cwAAAAAAAAAfAAAAAQAABAAAAAABAAAKAAAAAAEAAAQAAAAAAQAAAAAAAAABAAACAAAAAAEAAAoAAAAAAQAABAAAAAABAAAAAAAAAAEAAAIAAAAAAQAABgAAAAABAAACAAAAAAEAAAoAAAAAAQAABAAAAAABAAAAAAAAAAEAAAIAAAAAAQAACgAAAAABAAAEAAAAAAEAAAAAAAAAAQAAAgAAAAABAAAKAAAAAAEAAAQAAAAAAQAAAAAAAAABAAACAAAAAAEAAAoAAAAAAQAABAAAAAABAAAAAAAAAAEAAAIAAAAAAQAACgAAAAABAAAEAAAAAAEAAAAAAAAAAQAAAgAAAAAcc3RzYwAAAAAAAAABAAAAAQAAAB8AAAABAAAAkHN0c3oAAAAAAAAAAAAAAB8AAB5aAAAEwgAAAv8AAAGoAAABxgAAA6oAAAHcAAAB0wAAAboAAAIoAAABGgAAA3oAAAFUAAABlQAAASoAAATJAAACHwAAAWwAAAFgAAAGZgAAAsUAAAFDAAAB7wAABjYAAALhAAABfgAAAbsAAAXCAAADDwAAAgcAAAHeAAAAFHN0Y28AAAAAAAAAAQAAADAAAABidWR0YQAAAFptZXRhAAAAAAAAACFoZGxyAAAAAAAAAABtZGlyYXBwbAAAAAAAAAAAAAAAAC1pbHN0AAAAJal0b28AAAAdZGF0YQAAAAEAAAAATGF2ZjYwLjE2LjEwMA==\" type=\"video/mp4\"/>\n",
              "      This browser does not support the video tag.\n",
              "      </video></td></tr></table>"
            ],
            "text/plain": [
              "<IPython.core.display.HTML object>"
            ]
          },
          "metadata": {},
          "output_type": "display_data"
        }
      ],
      "source": [
        "# initialize the state\n",
        "state = jit_reset(jax.random.PRNGKey(0))\n",
        "rollout = [state.pipeline_state]\n",
        "\n",
        "# grab a trajectory\n",
        "for i in range(30):\n",
        "  ctrl = -0.1 * jp.ones(env.sys.nu)\n",
        "  state = jit_step(state, ctrl)\n",
        "  rollout.append(state.pipeline_state)\n",
        "\n",
        "media.show_video(env.render(rollout, camera='side'), fps=1.0 / env.dt)"
      ]
    },
    {
      "cell_type": "markdown",
      "metadata": {
        "id": "BQDG6NQ1CbZD"
      },
      "source": [
        "## Train Policy\n",
        "\n",
        "Let's now train a policy with PPO to make the sim run forwards."
      ]
    },
    {
      "cell_type": "code",
      "execution_count": null,
      "metadata": {
        "id": "xLiddQYPApBw",
        "metadata": {}
      },
      "outputs": [],
      "source": [
        "train_fn = functools.partial(\n",
        "    ppo.train, num_timesteps=30_000, num_evals=5, reward_scaling=0.1,\n",
        "    episode_length=1000, normalize_observations=True, action_repeat=1,\n",
        "    unroll_length=10, num_minibatches=32, num_updates_per_batch=8,\n",
        "    discounting=0.97, learning_rate=3e-4, entropy_cost=1e-3, num_envs=2048,\n",
        "    batch_size=1024, seed=0)\n",
        "\n",
        "\n",
        "x_data = []\n",
        "y_data = []\n",
        "ydataerr = []\n",
        "times = [datetime.now()]\n",
        "\n",
        "max_y, min_y = 13000, 0\n",
        "def progress(num_steps, metrics):\n",
        "  times.append(datetime.now())\n",
        "  x_data.append(num_steps)\n",
        "  y_data.append(metrics['eval/episode_reward'])\n",
        "  ydataerr.append(metrics['eval/episode_reward_std'])\n",
        "\n",
        "  plt.xlim([0, train_fn.keywords['num_timesteps'] * 1.25])\n",
        "  plt.ylim([min_y, max_y])\n",
        "\n",
        "  plt.xlabel('# environment steps')\n",
        "  plt.ylabel('reward per episode')\n",
        "  plt.title(f'y={y_data[-1]:.3f}')\n",
        "\n",
        "  plt.errorbar(\n",
        "      x_data, y_data, yerr=ydataerr)\n",
        "  plt.show()\n",
        "\n",
        "make_inference_fn, params, _= train_fn(environment=env, progress_fn=progress)\n",
        "\n",
        "print(f'time to jit: {times[1] - times[0]}')\n",
        "print(f'time to train: {times[-1] - times[1]}')"
      ]
    },
    {
      "cell_type": "markdown",
      "metadata": {
        "id": "YYIch0HEApBx"
      },
      "source": [
        "<!-- ## Save and Load Policy -->\n",
        "\n",
        "We can save and load the policy using the brax model API."
      ]
    },
    {
      "cell_type": "code",
      "execution_count": null,
      "metadata": {
        "id": "Z8gI6qH6ApBx"
      },
      "outputs": [],
      "source": [
        "#@title Save Model\n",
        "model_path = '/tmp/mjx_brax_policy'\n",
        "model.save_params(model_path, params)"
      ]
    },
    {
      "cell_type": "code",
      "execution_count": null,
      "metadata": {
        "id": "h4reaWgxApBx"
      },
      "outputs": [],
      "source": [
        "#@title Load Model and Define Inference Function\n",
        "params = model.load_params(model_path)\n",
        "\n",
        "inference_fn = make_inference_fn(params)\n",
        "jit_inference_fn = jax.jit(inference_fn)"
      ]
    },
    {
      "cell_type": "code",
      "execution_count": null,
      "metadata": {
        "id": "bpUgnXrsqACU"
      },
      "outputs": [],
      "source": [
        "#@title Load Model and Define Inference Function\n",
        "params = model.load_params(model_path)\n",
        "\n",
        "inference_fn = make_inference_fn(params)\n",
        "jit_inference_fn = jax.jit(inference_fn)"
      ]
    },
    {
      "cell_type": "markdown",
      "metadata": {
        "id": "0G357XIfApBy"
      },
      "source": [
        "## Visualize Policy\n",
        "\n",
        "Finally we can visualize the policy."
      ]
    },
    {
      "cell_type": "code",
      "execution_count": null,
      "metadata": {
        "id": "osYasMw4ApBy"
      },
      "outputs": [],
      "source": [
        "eval_env = envs.get_environment(env_name)\n",
        "\n",
        "jit_reset = jax.jit(eval_env.reset)\n",
        "jit_step = jax.jit(eval_env.step)"
      ]
    },
    {
      "cell_type": "code",
      "execution_count": null,
      "metadata": {
        "id": "d-UhypudApBy"
      },
      "outputs": [],
      "source": [
        "# initialize the state\n",
        "rng = jax.random.PRNGKey(0)\n",
        "state = jit_reset(rng)\n",
        "rollout = [state.pipeline_state]\n",
        "\n",
        "# grab a trajectory\n",
        "n_steps = 500\n",
        "render_every = 2\n",
        "\n",
        "for i in range(n_steps):\n",
        "  act_rng, rng = jax.random.split(rng)\n",
        "  ctrl, _ = jit_inference_fn(state.obs, act_rng)\n",
        "  state = jit_step(state, ctrl)\n",
        "  rollout.append(state.pipeline_state)\n",
        "\n",
        "  if state.done:\n",
        "    break\n",
        "\n",
        "media.show_video(env.render(rollout[::render_every], camera='side'), fps=1.0 / env.dt / render_every)"
      ]
    },
    {
      "cell_type": "markdown",
      "metadata": {
        "id": "zR-heox6LARK"
      },
      "source": [
        "# MJX Policy in MuJoCo\n",
        "\n",
        "We can also perform the physics step using the original MuJoCo python bindings to show that the policy trained in MJX works in MuJoCo."
      ]
    }
  ],
  "metadata": {
    "accelerator": "GPU",
    "colab": {
      "gpuType": "T4",
      "provenance": []
    },
    "kernelspec": {
      "display_name": "Python 3",
      "name": "python3"
    },
    "language_info": {
      "codemirror_mode": {
        "name": "ipython",
        "version": 3
      },
      "file_extension": ".py",
      "mimetype": "text/x-python",
      "name": "python",
      "nbconvert_exporter": "python",
      "pygments_lexer": "ipython3",
      "version": "3.12.3"
    }
  },
  "nbformat": 4,
  "nbformat_minor": 0
}
