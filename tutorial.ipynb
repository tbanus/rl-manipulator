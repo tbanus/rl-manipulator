{
 "cells": [
  {
   "cell_type": "markdown",
   "metadata": {
    "id": "MpkYHwCqk7W-"
   },
   "source": [
    "![MuJoCo banner](https://raw.githubusercontent.com/google-deepmind/mujoco/main/banner.png)\n",
    "\n",
    "# <h1><center>Tutorial  <a href=\"https://colab.research.google.com/github/google-deepmind/mujoco/blob/main/mjx/tutorial.ipynb\"><img src=\"https://colab.research.google.com/assets/colab-badge.svg\" width=\"140\" align=\"center\"/></a></center></h1>\n",
    "\n",
    "This notebook provides an introductory tutorial for [**MuJoCo XLA (MJX)**](https://github.com/google-deepmind/mujoco/blob/main/mjx), a JAX-based implementation of MuJoCo useful for RL training workloads.\n",
    "\n",
    "**A Colab runtime with GPU acceleration is required.** If you're using a CPU-only runtime, you can switch using the menu \"Runtime > Change runtime type\".\n",
    "\n",
    "\n",
    "\n",
    "\n",
    "\n",
    "\n",
    "\n",
    "\n"
   ]
  },
  {
   "cell_type": "markdown",
   "metadata": {
    "id": "_UbO9uhtBSX5"
   },
   "source": [
    "> <p><small><small>Copyright 2023 DeepMind Technologies Limited.</small></p>\n",
    "> <p><small><small>Licensed under the Apache License, Version 2.0 (the \"License\"); you may not use this file except in compliance with the License. You may obtain a copy of the License at <a href=\"http://www.apache.org/licenses/LICENSE-2.0\">http://www.apache.org/licenses/LICENSE-2.0</a>.</small></small></p>\n",
    "> <p><small><small>Unless required by applicable law or agreed to in writing, software distributed under the License is distributed on an \"AS IS\" BASIS, WITHOUT WARRANTIES OR CONDITIONS OF ANY KIND, either express or implied. See the License for the specific language governing permissions and limitations under the License.</small></small></p>"
   ]
  },
  {
   "cell_type": "markdown",
   "metadata": {
    "id": "xBSdkbmGN2K-"
   },
   "source": [
    "### Copyright notice"
   ]
  },
  {
   "cell_type": "markdown",
   "metadata": {
    "id": "YvyGCsgSCxHQ"
   },
   "source": [
    "# Install MuJoCo, MJX, and Brax"
   ]
  },
  {
   "cell_type": "code",
   "execution_count": null,
   "metadata": {
    "id": "Xqo7pyX-n72M"
   },
   "outputs": [],
   "source": [
    "!pip install mujoco\n",
    "!pip install mujoco_mjx\n",
    "!pip install brax"
   ]
  },
  {
   "cell_type": "code",
   "execution_count": null,
   "metadata": {
    "cellView": "form",
    "id": "IbZxYDxzoz5R"
   },
   "outputs": [],
   "source": [
    "#@title Check if MuJoCo installation was successful\n",
    "\n",
    "# from google.colab import files\n",
    "\n",
    "import distutils.util\n",
    "import os\n",
    "import subprocess\n",
    "if subprocess.run('nvidia-smi').returncode:\n",
    "  raise RuntimeError(\n",
    "      'Cannot communicate with GPU. '\n",
    "      'Make sure you are using a GPU Colab runtime. '\n",
    "      'Go to the Runtime menu and select Choose runtime type.')\n",
    "\n",
    "# Add an ICD config so that glvnd can pick up the Nvidia EGL driver.\n",
    "# This is usually installed as part of an Nvidia driver package, but the Colab\n",
    "# kernel doesn't install its driver via APT, and as a result the ICD is missing.\n",
    "# (https://github.com/NVIDIA/libglvnd/blob/master/src/EGL/icd_enumeration.md)\n",
    "NVIDIA_ICD_CONFIG_PATH = '/usr/share/glvnd/egl_vendor.d/10_nvidia.json'\n",
    "if not os.path.exists(NVIDIA_ICD_CONFIG_PATH):\n",
    "  with open(NVIDIA_ICD_CONFIG_PATH, 'w') as f:\n",
    "    f.write(\"\"\"{\n",
    "    \"file_format_version\" : \"1.0.0\",\n",
    "    \"ICD\" : {\n",
    "        \"library_path\" : \"libEGL_nvidia.so.0\"\n",
    "    }\n",
    "}\n",
    "\"\"\")\n",
    "\n",
    "# Tell XLA to use Triton GEMM, this improves steps/sec by ~30% on some GPUs\n",
    "xla_flags = os.environ.get('XLA_FLAGS', '')\n",
    "xla_flags += ' --xla_gpu_triton_gemm_any=True'\n",
    "os.environ['XLA_FLAGS'] = xla_flags\n",
    "\n",
    "# Configure MuJoCo to use the EGL rendering backend (requires GPU)\n",
    "print('Setting environment variable to use GPU rendering:')\n",
    "%env MUJOCO_GL=egl\n",
    "\n",
    "try:\n",
    "  print('Checking that the installation succeeded:')\n",
    "  import mujoco\n",
    "  mujoco.MjModel.from_xml_string('<mujoco/>')\n",
    "except Exception as e:\n",
    "  raise e from RuntimeError(\n",
    "      'Something went wrong during installation. Check the shell output above '\n",
    "      'for more information.\\n'\n",
    "      'If using a hosted Colab runtime, make sure you enable GPU acceleration '\n",
    "      'by going to the Runtime menu and selecting \"Choose runtime type\".')\n",
    "\n",
    "print('Installation successful.')"
   ]
  },
  {
   "cell_type": "code",
   "execution_count": null,
   "metadata": {
    "cellView": "form",
    "id": "T5f4w3Kq2X14"
   },
   "outputs": [],
   "source": [
    "#@title Import packages for plotting and creating graphics\n",
    "import time\n",
    "import itertools\n",
    "import numpy as np\n",
    "from typing import Callable, NamedTuple, Optional, Union, List\n",
    "\n",
    "# Graphics and plotting.\n",
    "print('Installing mediapy:')\n",
    "# !command -v ffmpeg >/dev/null || (apt update && apt install -y ffmpeg)\n",
    "# !pip install -q mediapy\n",
    "import mediapy as media\n",
    "import matplotlib.pyplot as plt\n",
    "\n",
    "# More legible printing from numpy.\n",
    "np.set_printoptions(precision=3, suppress=True, linewidth=100)"
   ]
  },
  {
   "cell_type": "code",
   "execution_count": null,
   "metadata": {
    "id": "ObF1UXrkb0Nd"
   },
   "outputs": [],
   "source": [
    "#@title Import MuJoCo, MJX, and Brax\n",
    "\n",
    "\n",
    "from datetime import datetime\n",
    "import functools\n",
    "from IPython.display import HTML\n",
    "import jax\n",
    "from jax import numpy as jp\n",
    "import numpy as np\n",
    "from typing import Any, Dict, Sequence, Tuple, Union\n",
    "\n",
    "from brax import base\n",
    "from brax import envs\n",
    "from brax import math\n",
    "from brax.base import Base, Motion, Transform\n",
    "from brax.envs.base import Env, PipelineEnv, State\n",
    "from brax.mjx.base import State as MjxState\n",
    "from brax.training.agents.ppo import train as ppo\n",
    "from brax.training.agents.ppo import networks as ppo_networks\n",
    "from brax.io import html, mjcf, model\n",
    "\n",
    "from etils import epath\n",
    "from flax import struct\n",
    "from matplotlib import pyplot as plt\n",
    "import mediapy as media\n",
    "from ml_collections import config_dict\n",
    "import mujoco\n",
    "from mujoco import mjx\n"
   ]
  },
  {
   "cell_type": "markdown",
   "metadata": {
    "id": "Nj4-Xmx4DFaq"
   },
   "source": [
    "# Introduction to MJX\n",
    "\n",
    "MJX is an implementation of MuJoCo written in [JAX](https://jax.readthedocs.io/en/latest/index.html), enabling large batch training on GPU/TPU. In this notebook, we will demonstrate how to train RL policies with MJX.\n",
    "\n",
    "Before we get into hefty RL workloads, let's get started with a simpler example! The entrypoint into MJX is through MuJoCo, so first we load a MuJoCo model:"
   ]
  },
  {
   "cell_type": "code",
   "execution_count": null,
   "metadata": {
    "id": "bNus3mbbDz6a"
   },
   "outputs": [],
   "source": [
    "xml = \"\"\"\n",
    "<mujoco>\n",
    "  <worldbody>\n",
    "    <light name=\"top\" pos=\"0 0 1\"/>\n",
    "    <body name=\"box_and_sphere\" euler=\"0 0 -30\">\n",
    "      <joint name=\"swing\" type=\"hinge\" axis=\"1 -1 0\" pos=\"-.2 -.2 -.2\"/>\n",
    "      <geom name=\"red_box\" type=\"box\" size=\".2 .2 .2\" rgba=\"1 0 0 1\"/>\n",
    "      <geom name=\"green_sphere\" pos=\".2 .2 .2\" size=\".1\" rgba=\"0 1 0 1\"/>\n",
    "    </body>\n",
    "  </worldbody>\n",
    "</mujoco>\n",
    "\"\"\"\n",
    "\n",
    "# Make model, data, and renderer\n",
    "mj_model = mujoco.MjModel.from_xml_string(xml)\n",
    "mj_data = mujoco.MjData(mj_model)\n",
    "renderer = mujoco.Renderer(mj_model)"
   ]
  },
  {
   "cell_type": "markdown",
   "metadata": {
    "id": "Po5oykJbFQbj"
   },
   "source": [
    "Next we take the MuJoCo model and data, and place them on the GPU device using MJX."
   ]
  },
  {
   "cell_type": "code",
   "execution_count": null,
   "metadata": {
    "id": "TSpoOWqeEC3P"
   },
   "outputs": [],
   "source": [
    "mjx_model = mjx.put_model(mj_model)\n",
    "mjx_data = mjx.put_data(mj_model, mj_data)"
   ]
  },
  {
   "cell_type": "markdown",
   "metadata": {
    "id": "6rxMMSs4OJJf"
   },
   "source": [
    "Below, we print the `qpos` from MuJoCo and MJX. Notice that the `qpos` for the mjData is a numpy array living on the CPU, while the `qpos` for `mjx.Data` is a JAX Array living on the GPU device."
   ]
  },
  {
   "cell_type": "code",
   "execution_count": null,
   "metadata": {
    "id": "ZOD582pfOLP-"
   },
   "outputs": [],
   "source": [
    "print(mj_data.qpos, type(mj_data.qpos))\n",
    "print(mjx_data.qpos, type(mjx_data.qpos), mjx_data.qpos.devices())"
   ]
  },
  {
   "cell_type": "markdown",
   "metadata": {
    "id": "ZShF9-o_JLm3"
   },
   "source": [
    "Let's run the simulation in MuJoCo and render the trajectory. This example is taken from the [MuJoCo tutorial](https://colab.sandbox.google.com/github/google-deepmind/mujoco/blob/main/python/tutorial.ipynb)."
   ]
  },
  {
   "cell_type": "code",
   "execution_count": null,
   "metadata": {
    "id": "HDlPlX05I3m-"
   },
   "outputs": [],
   "source": [
    "# enable joint visualization option:\n",
    "scene_option = mujoco.MjvOption()\n",
    "scene_option.flags[mujoco.mjtVisFlag.mjVIS_JOINT] = True\n",
    "\n",
    "duration = 3.8  # (seconds)\n",
    "framerate = 60  # (Hz)\n",
    "\n",
    "frames = []\n",
    "mujoco.mj_resetData(mj_model, mj_data)\n",
    "while mj_data.time < duration:\n",
    "  mujoco.mj_step(mj_model, mj_data)\n",
    "  if len(frames) < mj_data.time * framerate:\n",
    "    renderer.update_scene(mj_data, scene_option=scene_option)\n",
    "    pixels = renderer.render()\n",
    "    frames.append(pixels)\n",
    "\n",
    "# Simulate and display video.\n",
    "media.show_video(frames, fps=framerate)"
   ]
  },
  {
   "cell_type": "markdown",
   "metadata": {
    "id": "m70b_RxBJOyd"
   },
   "source": [
    "Now let's run the same exact simulation on the GPU device using MJX!\n",
    "\n",
    "In the example below, we use `mjx.step` instead of `mujoco.mj_step`, and we also [`jax.jit`](https://jax.readthedocs.io/en/latest/jax-101/02-jitting.html) the `mjx.step` so that it runs efficiently on the GPU. After each step, we convert the `mjx.Data` back to `mjData` so that we can use the MuJoCo renderer.\n"
   ]
  },
  {
   "cell_type": "code",
   "execution_count": null,
   "metadata": {
    "id": "Pr29xq0-JRQv"
   },
   "outputs": [],
   "source": [
    "\n",
    "jit_step = jax.jit(mjx.step)\n",
    "\n",
    "frames = []\n",
    "mujoco.mj_resetData(mj_model, mj_data)\n",
    "mjx_data = mjx.put_data(mj_model, mj_data)\n",
    "while mjx_data.time < duration:\n",
    "  mjx_data = jit_step(mjx_model, mjx_data)\n",
    "  if len(frames) < mjx_data.time * framerate:\n",
    "    mj_data = mjx.get_data(mj_model, mjx_data)\n",
    "    renderer.update_scene(mj_data, scene_option=scene_option)\n",
    "    pixels = renderer.render()\n",
    "    frames.append(pixels)\n",
    "\n",
    "media.show_video(frames, fps=framerate)"
   ]
  },
  {
   "cell_type": "markdown",
   "metadata": {
    "id": "wXsQ4qO2KO3Q"
   },
   "source": [
    "Running single threaded physics simulation on the GPU is not very [efficient](https://mujoco.readthedocs.io/en/stable/mjx.html#mjx-the-sharp-bits). The advantage with MJX is that we can run environments in parallel on a hardware accelerated device. Let's try it out!\n",
    "\n",
    "In the example below, we create 4096 copies of the `mjx.Data` and we run the `mjx.step` over the batched data. Since MJX is implemented in JAX, we take advantage of [`jax.vmap`](https://jax.readthedocs.io/en/latest/_autosummary/jax.vmap.html) to run the `mjx.step` in parallel over all `mjx.Data`."
   ]
  },
  {
   "cell_type": "code",
   "execution_count": null,
   "metadata": {
    "id": "rrdrcKRVK6w9"
   },
   "outputs": [],
   "source": [
    "rng = jax.random.PRNGKey(0)\n",
    "rng = jax.random.split(rng, 4096)\n",
    "batch = jax.vmap(lambda rng: mjx_data.replace(qpos=jax.random.uniform(rng, (1,))))(rng)\n",
    "\n",
    "jit_step = jax.jit(jax.vmap(mjx.step, in_axes=(None, 0)))\n",
    "batch = jit_step(mjx_model, batch)\n",
    "\n",
    "print(batch.qpos)"
   ]
  },
  {
   "cell_type": "markdown",
   "metadata": {
    "id": "x4lL220cOj0q"
   },
   "source": [
    "We can copy the batched `mjx.Data` back to MuJoCo like we did before:"
   ]
  },
  {
   "cell_type": "code",
   "execution_count": null,
   "metadata": {
    "id": "Jtz7j1PDOnw5"
   },
   "outputs": [],
   "source": [
    "batched_mj_data = mjx.get_data(mj_model, batch)\n",
    "print([d.qpos for d in batched_mj_data])"
   ]
  },
  {
   "cell_type": "markdown",
   "metadata": {
    "id": "RAv6WUVUm78k"
   },
   "source": [
    "# Training a Policy with MJX\n",
    "\n",
    "Running large batch physics simulation is useful for training RL policies. Here we demonstrate training RL policies with MJX using the RL library from [Brax](https://github.com/google/brax).\n",
    "\n",
    "Below, we implement the classic Humanoid environment using MJX and Brax. We inherit from the `MjxEnv` implementation in Brax so that we can step the physics with MJX while training with Brax RL implementations.\n"
   ]
  },
  {
   "cell_type": "code",
   "execution_count": null,
   "metadata": {
    "id": "mtGMYNLE3QJN"
   },
   "outputs": [],
   "source": [
    "#@title Humanoid Env\n",
    "\n",
    "class Humanoid(PipelineEnv):\n",
    "\n",
    "  def __init__(\n",
    "      self,\n",
    "      forward_reward_weight=1.25,\n",
    "      ctrl_cost_weight=0.1,\n",
    "      healthy_reward=5.0,\n",
    "      terminate_when_unhealthy=True,\n",
    "      healthy_z_range=(1.0, 2.0),\n",
    "      reset_noise_scale=1e-2,\n",
    "      exclude_current_positions_from_observation=True,\n",
    "      **kwargs,\n",
    "  ):\n",
    "    path = epath.Path(epath.resource_path('mujoco')) / (\n",
    "        'mjx/test_data/humanoid'\n",
    "    )\n",
    "    mj_model = mujoco.MjModel.from_xml_path(\n",
    "        (path / 'humanoid.xml').as_posix())\n",
    "    mj_model.opt.solver = mujoco.mjtSolver.mjSOL_CG\n",
    "    mj_model.opt.iterations = 6\n",
    "    mj_model.opt.ls_iterations = 6\n",
    "\n",
    "    sys = mjcf.load_model(mj_model)\n",
    "\n",
    "    physics_steps_per_control_step = 5\n",
    "    kwargs['n_frames'] = kwargs.get(\n",
    "        'n_frames', physics_steps_per_control_step)\n",
    "    kwargs['backend'] = 'mjx'\n",
    "\n",
    "    super().__init__(sys, **kwargs)\n",
    "\n",
    "    self._forward_reward_weight = forward_reward_weight\n",
    "    self._ctrl_cost_weight = ctrl_cost_weight\n",
    "    self._healthy_reward = healthy_reward\n",
    "    self._terminate_when_unhealthy = terminate_when_unhealthy\n",
    "    self._healthy_z_range = healthy_z_range\n",
    "    self._reset_noise_scale = reset_noise_scale\n",
    "    self._exclude_current_positions_from_observation = (\n",
    "        exclude_current_positions_from_observation\n",
    "    )\n",
    "\n",
    "  def reset(self, rng: jp.ndarray) -> State:\n",
    "    \"\"\"Resets the environment to an initial state.\"\"\"\n",
    "    rng, rng1, rng2 = jax.random.split(rng, 3)\n",
    "\n",
    "    low, hi = -self._reset_noise_scale, self._reset_noise_scale\n",
    "    qpos = self.sys.qpos0 + jax.random.uniform(\n",
    "        rng1, (self.sys.nq,), minval=low, maxval=hi\n",
    "    )\n",
    "    qvel = jax.random.uniform(\n",
    "        rng2, (self.sys.nv,), minval=low, maxval=hi\n",
    "    )\n",
    "\n",
    "    data = self.pipeline_init(qpos, qvel)\n",
    "\n",
    "    obs = self._get_obs(data, jp.zeros(self.sys.nu))\n",
    "    reward, done, zero = jp.zeros(3)\n",
    "    metrics = {\n",
    "        'forward_reward': zero,\n",
    "        'reward_linvel': zero,\n",
    "        'reward_quadctrl': zero,\n",
    "        'reward_alive': zero,\n",
    "        'x_position': zero,\n",
    "        'y_position': zero,\n",
    "        'distance_from_origin': zero,\n",
    "        'x_velocity': zero,\n",
    "        'y_velocity': zero,\n",
    "    }\n",
    "    return State(data, obs, reward, done, metrics)\n",
    "\n",
    "  def step(self, state: State, action: jp.ndarray) -> State:\n",
    "    \"\"\"Runs one timestep of the environment's dynamics.\"\"\"\n",
    "    data0 = state.pipeline_state\n",
    "    data = self.pipeline_step(data0, action)\n",
    "\n",
    "    com_before = data0.subtree_com[1]\n",
    "    com_after = data.subtree_com[1]\n",
    "    velocity = (com_after - com_before) / self.dt\n",
    "    forward_reward = self._forward_reward_weight * velocity[0]\n",
    "\n",
    "    min_z, max_z = self._healthy_z_range\n",
    "    is_healthy = jp.where(data.q[2] < min_z, 0.0, 1.0)\n",
    "    is_healthy = jp.where(data.q[2] > max_z, 0.0, is_healthy)\n",
    "    if self._terminate_when_unhealthy:\n",
    "      healthy_reward = self._healthy_reward\n",
    "    else:\n",
    "      healthy_reward = self._healthy_reward * is_healthy\n",
    "\n",
    "    ctrl_cost = self._ctrl_cost_weight * jp.sum(jp.square(action))\n",
    "\n",
    "    obs = self._get_obs(data, action)\n",
    "    reward = forward_reward + healthy_reward - ctrl_cost\n",
    "    done = 1.0 - is_healthy if self._terminate_when_unhealthy else 0.0\n",
    "    state.metrics.update(\n",
    "        forward_reward=forward_reward,\n",
    "        reward_linvel=forward_reward,\n",
    "        reward_quadctrl=-ctrl_cost,\n",
    "        reward_alive=healthy_reward,\n",
    "        x_position=com_after[0],\n",
    "        y_position=com_after[1],\n",
    "        distance_from_origin=jp.linalg.norm(com_after),\n",
    "        x_velocity=velocity[0],\n",
    "        y_velocity=velocity[1],\n",
    "    )\n",
    "\n",
    "    return state.replace(\n",
    "        pipeline_state=data, obs=obs, reward=reward, done=done\n",
    "    )\n",
    "\n",
    "  def _get_obs(\n",
    "      self, data: mjx.Data, action: jp.ndarray\n",
    "  ) -> jp.ndarray:\n",
    "    \"\"\"Observes humanoid body position, velocities, and angles.\"\"\"\n",
    "    position = data.qpos\n",
    "    if self._exclude_current_positions_from_observation:\n",
    "      position = position[2:]\n",
    "\n",
    "    # external_contact_forces are excluded\n",
    "    return jp.concatenate([\n",
    "        position,\n",
    "        data.qvel,\n",
    "        data.cinert[1:].ravel(),\n",
    "        data.cvel[1:].ravel(),\n",
    "        data.qfrc_actuator,\n",
    "    ])\n",
    "\n",
    "\n",
    "envs.register_environment('humanoid', Humanoid)"
   ]
  },
  {
   "cell_type": "markdown",
   "metadata": {
    "id": "P1K6IznI2y83"
   },
   "source": [
    "## Visualize a Rollout\n",
    "\n",
    "Let's instantiate the environment and visualize a short rollout.\n",
    "\n",
    "NOTE: Since episodes terminates early if the torso is below the healthy z-range, the only relevant contacts for this task are between the feet and the plane. We turn off other contacts."
   ]
  },
  {
   "cell_type": "code",
   "execution_count": null,
   "metadata": {
    "id": "EhKLFK54C1CH"
   },
   "outputs": [],
   "source": [
    "# instantiate the environment\n",
    "env_name = 'humanoid'\n",
    "env = envs.get_environment(env_name)\n",
    "\n",
    "# define the jit reset/step functions\n",
    "jit_reset = jax.jit(env.reset)\n",
    "jit_step = jax.jit(env.step)\n"
   ]
  },
  {
   "cell_type": "code",
   "execution_count": 15,
   "metadata": {
    "id": "Ph8u-v2Q2xLS"
   },
   "outputs": [
    {
     "data": {
      "text/html": [
       "<table class=\"show_videos\" style=\"border-spacing:0px;\"><tr><td style=\"padding:1px;\"><video controls width=\"320\" height=\"240\" style=\"object-fit:cover;\" loop autoplay muted>\n",
       "      <source src=\"data:video/mp4;base64,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\" type=\"video/mp4\"/>\n",
       "      This browser does not support the video tag.\n",
       "      </video></td></tr></table>"
      ],
      "text/plain": [
       "<IPython.core.display.HTML object>"
      ]
     },
     "metadata": {},
     "output_type": "display_data"
    }
   ],
   "source": [
    "# initialize the state\n",
    "state = jit_reset(jax.random.PRNGKey(0))\n",
    "rollout = [state.pipeline_state]\n",
    "\n",
    "# grab a trajectory\n",
    "for i in range(10):\n",
    "  ctrl = -0.1 * jp.ones(env.sys.nu)\n",
    "  state = jit_step(state, ctrl)\n",
    "  rollout.append(state.pipeline_state)\n",
    "\n",
    "media.show_video(env.render(rollout, camera='side'), fps=1.0 / env.dt)"
   ]
  },
  {
   "cell_type": "markdown",
   "metadata": {
    "id": "BQDG6NQ1CbZD"
   },
   "source": []
  },
  {
   "cell_type": "markdown",
   "metadata": {},
   "source": [
    "## Train Humanoid Policy\n",
    "\n",
    "Let's now train a policy with PPO to make the Humanoid run forwards. Training takes about 6 minutes on a Tesla A100 GPU."
   ]
  },
  {
   "cell_type": "code",
   "execution_count": 19,
   "metadata": {
    "id": "xLiddQYPApBw"
   },
   "outputs": [
    {
     "data": {
      "image/png": "[encoded data removed]",
      "text/plain": [
       "<Figure size 640x480 with 1 Axes>"
      ]
     },
     "metadata": {},
     "output_type": "display_data"
    },
    {
     "data": {
      "image/png": "[encoded data removed]",
      "text/plain": [
       "<Figure size 640x480 with 1 Axes>"
      ]
     },
     "metadata": {},
     "output_type": "display_data"
    },
    {
     "data": {
      "image/png": "[encoded data removed]",
      "text/plain": [
       "<Figure size 640x480 with 1 Axes>"
      ]
     },
     "metadata": {},
     "output_type": "display_data"
    },
    {
     "data": {
      "image/png": "[encoded data removed]",
      "text/plain": [
       "<Figure size 640x480 with 1 Axes>"
      ]
     },
     "metadata": {},
     "output_type": "display_data"
    },
    {
     "data": {
      "image/png": "[encoded data removed]",
      "text/plain": [
       "<Figure size 640x480 with 1 Axes>"
      ]
     },
     "metadata": {},
     "output_type": "display_data"
    },
    {
     "name": "stdout",
     "output_type": "stream",
     "text": [
      "time to jit: 0:00:31.934107\n",
      "time to train: 0:00:59.359550\n"
     ]
    }
   ],
   "source": [
    "train_fn = functools.partial(\n",
    "    ppo.train, num_timesteps=30_000, num_evals=5, reward_scaling=0.1,\n",
    "    episode_length=1000, normalize_observations=True, action_repeat=1,\n",
    "    unroll_length=10, num_minibatches=32, num_updates_per_batch=8,\n",
    "    discounting=0.97, learning_rate=3e-4, entropy_cost=1e-3, num_envs=2048,\n",
    "    batch_size=1024, seed=0)\n",
    "\n",
    "\n",
    "x_data = []\n",
    "y_data = []\n",
    "ydataerr = []\n",
    "times = [datetime.now()]\n",
    "\n",
    "max_y, min_y = 13000, 0\n",
    "def progress(num_steps, metrics):\n",
    "  times.append(datetime.now())\n",
    "  x_data.append(num_steps)\n",
    "  y_data.append(metrics['eval/episode_reward'])\n",
    "  ydataerr.append(metrics['eval/episode_reward_std'])\n",
    "\n",
    "  plt.xlim([0, train_fn.keywords['num_timesteps'] * 1.25])\n",
    "  plt.ylim([min_y, max_y])\n",
    "\n",
    "  plt.xlabel('# environment steps')\n",
    "  plt.ylabel('reward per episode')\n",
    "  plt.title(f'y={y_data[-1]:.3f}')\n",
    "\n",
    "  plt.errorbar(\n",
    "      x_data, y_data, yerr=ydataerr)\n",
    "  plt.show()\n",
    "\n",
    "\n",
    "\n",
    "make_inference_fn, params, _= train_fn(environment=env, progress_fn=progress)\n",
    "\n",
    "print(f'time to jit: {times[1] - times[0]}')\n",
    "print(f'time to train: {times[-1] - times[1]}')"
   ]
  },
  {
   "cell_type": "markdown",
   "metadata": {
    "id": "YYIch0HEApBx"
   },
   "source": [
    "<!-- ## Save and Load Policy -->\n",
    "\n",
    "We can save and load the policy using the brax model API."
   ]
  },
  {
   "cell_type": "code",
   "execution_count": 20,
   "metadata": {
    "id": "Z8gI6qH6ApBx"
   },
   "outputs": [],
   "source": [
    "#@title Save Model\n",
    "model_path = '/tmp/mjx_brax_policy'\n",
    "model.save_params(model_path, params)"
   ]
  },
  {
   "cell_type": "code",
   "execution_count": 21,
   "metadata": {
    "id": "h4reaWgxApBx"
   },
   "outputs": [],
   "source": [
    "#@title Load Model and Define Inference Function\n",
    "params = model.load_params(model_path)\n",
    "\n",
    "inference_fn = make_inference_fn(params)\n",
    "jit_inference_fn = jax.jit(inference_fn)"
   ]
  },
  {
   "cell_type": "markdown",
   "metadata": {
    "id": "0G357XIfApBy"
   },
   "source": [
    "## Visualize Policy\n",
    "\n",
    "Finally we can visualize the policy."
   ]
  },
  {
   "cell_type": "code",
   "execution_count": 22,
   "metadata": {
    "id": "osYasMw4ApBy"
   },
   "outputs": [],
   "source": [
    "eval_env = envs.get_environment(env_name)\n",
    "\n",
    "jit_reset = jax.jit(eval_env.reset)\n",
    "jit_step = jax.jit(eval_env.step)"
   ]
  },
  {
   "cell_type": "code",
   "execution_count": 23,
   "metadata": {
    "id": "d-UhypudApBy"
   },
   "outputs": [
    {
     "data": {
      "text/html": [
       "<table class=\"show_videos\" style=\"border-spacing:0px;\"><tr><td style=\"padding:1px;\"><video controls width=\"320\" height=\"240\" style=\"object-fit:cover;\" loop autoplay muted>\n",
       "      <source src=\"data:video/mp4;base64,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\" type=\"video/mp4\"/>\n",
       "      This browser does not support the video tag.\n",
       "      </video></td></tr></table>"
      ],
      "text/plain": [
       "<IPython.core.display.HTML object>"
      ]
     },
     "metadata": {},
     "output_type": "display_data"
    }
   ],
   "source": [
    "# initialize the state\n",
    "rng = jax.random.PRNGKey(0)\n",
    "state = jit_reset(rng)\n",
    "rollout = [state.pipeline_state]\n",
    "\n",
    "# grab a trajectory\n",
    "n_steps = 500\n",
    "render_every = 2\n",
    "\n",
    "for i in range(n_steps):\n",
    "  act_rng, rng = jax.random.split(rng)\n",
    "  ctrl, _ = jit_inference_fn(state.obs, act_rng)\n",
    "  state = jit_step(state, ctrl)\n",
    "  rollout.append(state.pipeline_state)\n",
    "\n",
    "  if state.done:\n",
    "    break\n",
    "\n",
    "media.show_video(env.render(rollout[::render_every], camera='side'), fps=1.0 / env.dt / render_every)"
   ]
  },
  {
   "cell_type": "markdown",
   "metadata": {
    "id": "zR-heox6LARK"
   },
   "source": [
    "# MJX Policy in MuJoCo\n",
    "\n",
    "We can also perform the physics step using the original MuJoCo python bindings to show that the policy trained in MJX works in MuJoCo."
   ]
  },
  {
   "cell_type": "code",
   "execution_count": null,
   "metadata": {
    "id": "w6ixFi4dApBy"
   },
   "outputs": [],
   "source": [
    "mj_model = eval_env.sys.mj_model\n",
    "mj_data = mujoco.MjData(mj_model)\n",
    "\n",
    "renderer = mujoco.Renderer(mj_model)\n",
    "ctrl = jp.zeros(mj_model.nu)\n",
    "\n",
    "images = []\n",
    "for i in range(n_steps):\n",
    "  act_rng, rng = jax.random.split(rng)\n",
    "\n",
    "  obs = eval_env._get_obs(mjx.put_data(mj_model, mj_data), ctrl)\n",
    "  ctrl, _ = jit_inference_fn(obs, act_rng)\n",
    "\n",
    "  mj_data.ctrl = ctrl\n",
    "  for _ in range(eval_env._n_frames):\n",
    "    mujoco.mj_step(mj_model, mj_data)  # Physics step using MuJoCo mj_step.\n",
    "\n",
    "  if i % render_every == 0:\n",
    "    renderer.update_scene(mj_data, camera='side')\n",
    "    images.append(renderer.render())\n",
    "\n",
    "media.show_video(images, fps=1.0 / eval_env.dt / render_every)"
   ]
  },
  {
   "cell_type": "markdown",
   "metadata": {
    "id": "65mIPj6DQNNa"
   },
   "source": [
    "# Training a Policy with Domain Randomization\n",
    "\n",
    "We might also want to include randomization over certain `mjModel` parameters while training a policy. In MJX, we can easily create a batch of environments with randomized values populated in `mjx.Model`. Below, we show a function that randomizes friction and actuator gain/bias."
   ]
  },
  {
   "cell_type": "code",
   "execution_count": null,
   "metadata": {
    "id": "h8mhzKjHQuoL"
   },
   "outputs": [],
   "source": [
    "def domain_randomize(sys, rng):\n",
    "  \"\"\"Randomizes the mjx.Model.\"\"\"\n",
    "  @jax.vmap\n",
    "  def rand(rng):\n",
    "    _, key = jax.random.split(rng, 2)\n",
    "    # friction\n",
    "    friction = jax.random.uniform(key, (1,), minval=0.6, maxval=1.4)\n",
    "    friction = sys.geom_friction.at[:, 0].set(friction)\n",
    "    # actuator\n",
    "    _, key = jax.random.split(key, 2)\n",
    "    gain_range = (-5, 5)\n",
    "    param = jax.random.uniform(\n",
    "        key, (1,), minval=gain_range[0], maxval=gain_range[1]\n",
    "    ) + sys.actuator_gainprm[:, 0]\n",
    "    gain = sys.actuator_gainprm.at[:, 0].set(param)\n",
    "    bias = sys.actuator_biasprm.at[:, 1].set(-param)\n",
    "    return friction, gain, bias\n",
    "\n",
    "  friction, gain, bias = rand(rng)\n",
    "\n",
    "  in_axes = jax.tree_util.tree_map(lambda x: None, sys)\n",
    "  in_axes = in_axes.tree_replace({\n",
    "      'geom_friction': 0,\n",
    "      'actuator_gainprm': 0,\n",
    "      'actuator_biasprm': 0,\n",
    "  })\n",
    "\n",
    "  sys = sys.tree_replace({\n",
    "      'geom_friction': friction,\n",
    "      'actuator_gainprm': gain,\n",
    "      'actuator_biasprm': bias,\n",
    "  })\n",
    "\n",
    "  return sys, in_axes"
   ]
  },
  {
   "cell_type": "markdown",
   "metadata": {
    "id": "gnsZo-GWSYYj"
   },
   "source": [
    "If we wanted 10 environments with randomized friction and actuator params, we can call `domain_randomize`, which returns a batched `mjx.Model` along with a dictionary specifying the axes that are batched."
   ]
  },
  {
   "cell_type": "code",
   "execution_count": null,
   "metadata": {
    "id": "1K45Kp2ASV9s"
   },
   "outputs": [],
   "source": [
    "rng = jax.random.PRNGKey(0)\n",
    "rng = jax.random.split(rng, 10)\n",
    "batched_sys, _ = domain_randomize(env.sys, rng)\n",
    "\n",
    "print('Single env friction shape: ', env.sys.geom_friction.shape)\n",
    "print('Batched env friction shape: ', batched_sys.geom_friction.shape)\n",
    "\n",
    "print('Friction on geom 0: ', env.sys.geom_friction[0, 0])\n",
    "print('Random frictions on geom 0: ', batched_sys.geom_friction[:, 0, 0])"
   ]
  },
  {
   "cell_type": "markdown",
   "metadata": {
    "id": "efnxNOnpQFuC"
   },
   "source": [
    "## Quadruped Env\n",
    "\n",
    "Let's define a quadruped environment that takes advantage of the domain randomization function. Here we use the [Barkour vb Quadruped](https://github.com/google-deepmind/mujoco_menagerie/tree/main/google_barkour_vb) from [MuJoCo Menagerie](https://github.com/google-deepmind/mujoco_menagerie). We implement an environment that trains a joystick policy with Brax."
   ]
  },
  {
   "cell_type": "code",
   "execution_count": null,
   "metadata": {
    "id": "VfyK73gtRXid"
   },
   "outputs": [],
   "source": [
    "!git clone https://github.com/google-deepmind/mujoco_menagerie"
   ]
  },
  {
   "cell_type": "code",
   "execution_count": null,
   "metadata": {
    "id": "y79PoJOCIl-O"
   },
   "outputs": [],
   "source": [
    "#@title Barkour vb Quadruped Env\n",
    "\n",
    "def get_config():\n",
    "  \"\"\"Returns reward config for barkour quadruped environment.\"\"\"\n",
    "\n",
    "  def get_default_rewards_config():\n",
    "    default_config = config_dict.ConfigDict(\n",
    "        dict(\n",
    "            # The coefficients for all reward terms used for training. All\n",
    "            # physical quantities are in SI units, if no otherwise specified,\n",
    "            # i.e. joint positions are in rad, positions are measured in meters,\n",
    "            # torques in Nm, and time in seconds, and forces in Newtons.\n",
    "            scales=config_dict.ConfigDict(\n",
    "                dict(\n",
    "                    # Tracking rewards are computed using exp(-delta^2/sigma)\n",
    "                    # sigma can be a hyperparameters to tune.\n",
    "                    # Track the base x-y velocity (no z-velocity tracking.)\n",
    "                    tracking_lin_vel=1.5,\n",
    "                    # Track the angular velocity along z-axis, i.e. yaw rate.\n",
    "                    tracking_ang_vel=0.8,\n",
    "                    # Below are regularization terms, we roughly divide the\n",
    "                    # terms to base state regularizations, joint\n",
    "                    # regularizations, and other behavior regularizations.\n",
    "                    # Penalize the base velocity in z direction, L2 penalty.\n",
    "                    lin_vel_z=-2.0,\n",
    "                    # Penalize the base roll and pitch rate. L2 penalty.\n",
    "                    ang_vel_xy=-0.05,\n",
    "                    # Penalize non-zero roll and pitch angles. L2 penalty.\n",
    "                    orientation=-5.0,\n",
    "                    # L2 regularization of joint torques, |tau|^2.\n",
    "                    torques=-0.0002,\n",
    "                    # Penalize the change in the action and encourage smooth\n",
    "                    # actions. L2 regularization |action - last_action|^2\n",
    "                    action_rate=-0.01,\n",
    "                    # Encourage long swing steps.  However, it does not\n",
    "                    # encourage high clearances.\n",
    "                    feet_air_time=0.2,\n",
    "                    # Encourage no motion at zero command, L2 regularization\n",
    "                    # |q - q_default|^2.\n",
    "                    stand_still=-0.5,\n",
    "                    # Early termination penalty.\n",
    "                    termination=-1.0,\n",
    "                    # Penalizing foot slipping on the ground.\n",
    "                    foot_slip=-0.1,\n",
    "                )\n",
    "            ),\n",
    "            # Tracking reward = exp(-error^2/sigma).\n",
    "            tracking_sigma=0.25,\n",
    "        )\n",
    "    )\n",
    "    return default_config\n",
    "\n",
    "  default_config = config_dict.ConfigDict(\n",
    "      dict(\n",
    "          rewards=get_default_rewards_config(),\n",
    "      )\n",
    "  )\n",
    "\n",
    "  return default_config\n",
    "\n",
    "\n",
    "class BarkourEnv(PipelineEnv):\n",
    "  \"\"\"Environment for training the barkour quadruped joystick policy in MJX.\"\"\"\n",
    "\n",
    "  def __init__(\n",
    "      self,\n",
    "      obs_noise: float = 0.05,\n",
    "      action_scale: float = 0.3,\n",
    "      kick_vel: float = 0.05,\n",
    "      **kwargs,\n",
    "  ):\n",
    "    path = epath.Path('mujoco_menagerie/google_barkour_vb/scene_mjx.xml')\n",
    "    sys = mjcf.load(path.as_posix())\n",
    "    self._dt = 0.02  # this environment is 50 fps\n",
    "    sys = sys.tree_replace({'opt.timestep': 0.004, 'dt': 0.004})\n",
    "\n",
    "    # override menagerie params for smoother policy\n",
    "    sys = sys.replace(\n",
    "        dof_damping=sys.dof_damping.at[6:].set(0.5239),\n",
    "        actuator_gainprm=sys.actuator_gainprm.at[:, 0].set(35.0),\n",
    "        actuator_biasprm=sys.actuator_biasprm.at[:, 1].set(-35.0),\n",
    "    )\n",
    "\n",
    "    n_frames = kwargs.pop('n_frames', int(self._dt / sys.opt.timestep))\n",
    "    super().__init__(sys, backend='mjx', n_frames=n_frames)\n",
    "\n",
    "    self.reward_config = get_config()\n",
    "    # set custom from kwargs\n",
    "    for k, v in kwargs.items():\n",
    "      if k.endswith('_scale'):\n",
    "        self.reward_config.rewards.scales[k[:-6]] = v\n",
    "\n",
    "    self._torso_idx = mujoco.mj_name2id(\n",
    "        sys.mj_model, mujoco.mjtObj.mjOBJ_BODY.value, 'torso'\n",
    "    )\n",
    "    self._action_scale = action_scale\n",
    "    self._obs_noise = obs_noise\n",
    "    self._kick_vel = kick_vel\n",
    "    self._init_q = jp.array(sys.mj_model.keyframe('home').qpos)\n",
    "    self._default_pose = sys.mj_model.keyframe('home').qpos[7:]\n",
    "    self.lowers = jp.array([-0.7, -1.0, 0.05] * 4)\n",
    "    self.uppers = jp.array([0.52, 2.1, 2.1] * 4)\n",
    "    feet_site = [\n",
    "        'foot_front_left',\n",
    "        'foot_hind_left',\n",
    "        'foot_front_right',\n",
    "        'foot_hind_right',\n",
    "    ]\n",
    "    feet_site_id = [\n",
    "        mujoco.mj_name2id(sys.mj_model, mujoco.mjtObj.mjOBJ_SITE.value, f)\n",
    "        for f in feet_site\n",
    "    ]\n",
    "    assert not any(id_ == -1 for id_ in feet_site_id), 'Site not found.'\n",
    "    self._feet_site_id = np.array(feet_site_id)\n",
    "    lower_leg_body = [\n",
    "        'lower_leg_front_left',\n",
    "        'lower_leg_hind_left',\n",
    "        'lower_leg_front_right',\n",
    "        'lower_leg_hind_right',\n",
    "    ]\n",
    "    lower_leg_body_id = [\n",
    "        mujoco.mj_name2id(sys.mj_model, mujoco.mjtObj.mjOBJ_BODY.value, l)\n",
    "        for l in lower_leg_body\n",
    "    ]\n",
    "    assert not any(id_ == -1 for id_ in lower_leg_body_id), 'Body not found.'\n",
    "    self._lower_leg_body_id = np.array(lower_leg_body_id)\n",
    "    self._foot_radius = 0.0175\n",
    "    self._nv = sys.nv\n",
    "\n",
    "  def sample_command(self, rng: jax.Array) -> jax.Array:\n",
    "    lin_vel_x = [-0.6, 1.5]  # min max [m/s]\n",
    "    lin_vel_y = [-0.8, 0.8]  # min max [m/s]\n",
    "    ang_vel_yaw = [-0.7, 0.7]  # min max [rad/s]\n",
    "\n",
    "    _, key1, key2, key3 = jax.random.split(rng, 4)\n",
    "    lin_vel_x = jax.random.uniform(\n",
    "        key1, (1,), minval=lin_vel_x[0], maxval=lin_vel_x[1]\n",
    "    )\n",
    "    lin_vel_y = jax.random.uniform(\n",
    "        key2, (1,), minval=lin_vel_y[0], maxval=lin_vel_y[1]\n",
    "    )\n",
    "    ang_vel_yaw = jax.random.uniform(\n",
    "        key3, (1,), minval=ang_vel_yaw[0], maxval=ang_vel_yaw[1]\n",
    "    )\n",
    "    new_cmd = jp.array([lin_vel_x[0], lin_vel_y[0], ang_vel_yaw[0]])\n",
    "    return new_cmd\n",
    "\n",
    "  def reset(self, rng: jax.Array) -> State:  # pytype: disable=signature-mismatch\n",
    "    rng, key = jax.random.split(rng)\n",
    "\n",
    "    pipeline_state = self.pipeline_init(self._init_q, jp.zeros(self._nv))\n",
    "\n",
    "    state_info = {\n",
    "        'rng': rng,\n",
    "        'last_act': jp.zeros(12),\n",
    "        'last_vel': jp.zeros(12),\n",
    "        'command': self.sample_command(key),\n",
    "        'last_contact': jp.zeros(4, dtype=bool),\n",
    "        'feet_air_time': jp.zeros(4),\n",
    "        'rewards': {k: 0.0 for k in self.reward_config.rewards.scales.keys()},\n",
    "        'kick': jp.array([0.0, 0.0]),\n",
    "        'step': 0,\n",
    "    }\n",
    "\n",
    "    obs_history = jp.zeros(15 * 31)  # store 15 steps of history\n",
    "    obs = self._get_obs(pipeline_state, state_info, obs_history)\n",
    "    reward, done = jp.zeros(2)\n",
    "    metrics = {'total_dist': 0.0}\n",
    "    for k in state_info['rewards']:\n",
    "      metrics[k] = state_info['rewards'][k]\n",
    "    state = State(pipeline_state, obs, reward, done, metrics, state_info)  # pytype: disable=wrong-arg-types\n",
    "    return state\n",
    "\n",
    "  def step(self, state: State, action: jax.Array) -> State:  # pytype: disable=signature-mismatch\n",
    "    rng, cmd_rng, kick_noise_2 = jax.random.split(state.info['rng'], 3)\n",
    "\n",
    "    # kick\n",
    "    push_interval = 10\n",
    "    kick_theta = jax.random.uniform(kick_noise_2, maxval=2 * jp.pi)\n",
    "    kick = jp.array([jp.cos(kick_theta), jp.sin(kick_theta)])\n",
    "    kick *= jp.mod(state.info['step'], push_interval) == 0\n",
    "    qvel = state.pipeline_state.qvel  # pytype: disable=attribute-error\n",
    "    qvel = qvel.at[:2].set(kick * self._kick_vel + qvel[:2])\n",
    "    state = state.tree_replace({'pipeline_state.qvel': qvel})\n",
    "\n",
    "    # physics step\n",
    "    motor_targets = self._default_pose + action * self._action_scale\n",
    "    motor_targets = jp.clip(motor_targets, self.lowers, self.uppers)\n",
    "    pipeline_state = self.pipeline_step(state.pipeline_state, motor_targets)\n",
    "    x, xd = pipeline_state.x, pipeline_state.xd\n",
    "\n",
    "    # observation data\n",
    "    obs = self._get_obs(pipeline_state, state.info, state.obs)\n",
    "    joint_angles = pipeline_state.q[7:]\n",
    "    joint_vel = pipeline_state.qd[6:]\n",
    "\n",
    "    # foot contact data based on z-position\n",
    "    foot_pos = pipeline_state.site_xpos[self._feet_site_id]  # pytype: disable=attribute-error\n",
    "    foot_contact_z = foot_pos[:, 2] - self._foot_radius\n",
    "    contact = foot_contact_z < 1e-3  # a mm or less off the floor\n",
    "    contact_filt_mm = contact | state.info['last_contact']\n",
    "    contact_filt_cm = (foot_contact_z < 3e-2) | state.info['last_contact']\n",
    "    first_contact = (state.info['feet_air_time'] > 0) * contact_filt_mm\n",
    "    state.info['feet_air_time'] += self.dt\n",
    "\n",
    "    # done if joint limits are reached or robot is falling\n",
    "    up = jp.array([0.0, 0.0, 1.0])\n",
    "    done = jp.dot(math.rotate(up, x.rot[self._torso_idx - 1]), up) < 0\n",
    "    done |= jp.any(joint_angles < self.lowers)\n",
    "    done |= jp.any(joint_angles > self.uppers)\n",
    "    done |= pipeline_state.x.pos[self._torso_idx - 1, 2] < 0.18\n",
    "\n",
    "    # reward\n",
    "    rewards = {\n",
    "        'tracking_lin_vel': (\n",
    "            self._reward_tracking_lin_vel(state.info['command'], x, xd)\n",
    "        ),\n",
    "        'tracking_ang_vel': (\n",
    "            self._reward_tracking_ang_vel(state.info['command'], x, xd)\n",
    "        ),\n",
    "        'lin_vel_z': self._reward_lin_vel_z(xd),\n",
    "        'ang_vel_xy': self._reward_ang_vel_xy(xd),\n",
    "        'orientation': self._reward_orientation(x),\n",
    "        'torques': self._reward_torques(pipeline_state.qfrc_actuator),  # pytype: disable=attribute-error\n",
    "        'action_rate': self._reward_action_rate(action, state.info['last_act']),\n",
    "        'stand_still': self._reward_stand_still(\n",
    "            state.info['command'], joint_angles,\n",
    "        ),\n",
    "        'feet_air_time': self._reward_feet_air_time(\n",
    "            state.info['feet_air_time'],\n",
    "            first_contact,\n",
    "            state.info['command'],\n",
    "        ),\n",
    "        'foot_slip': self._reward_foot_slip(pipeline_state, contact_filt_cm),\n",
    "        'termination': self._reward_termination(done, state.info['step']),\n",
    "    }\n",
    "    rewards = {\n",
    "        k: v * self.reward_config.rewards.scales[k] for k, v in rewards.items()\n",
    "    }\n",
    "    reward = jp.clip(sum(rewards.values()) * self.dt, 0.0, 10000.0)\n",
    "\n",
    "    # state management\n",
    "    state.info['kick'] = kick\n",
    "    state.info['last_act'] = action\n",
    "    state.info['last_vel'] = joint_vel\n",
    "    state.info['feet_air_time'] *= ~contact_filt_mm\n",
    "    state.info['last_contact'] = contact\n",
    "    state.info['rewards'] = rewards\n",
    "    state.info['step'] += 1\n",
    "    state.info['rng'] = rng\n",
    "\n",
    "    # sample new command if more than 500 timesteps achieved\n",
    "    state.info['command'] = jp.where(\n",
    "        state.info['step'] > 500,\n",
    "        self.sample_command(cmd_rng),\n",
    "        state.info['command'],\n",
    "    )\n",
    "    # reset the step counter when done\n",
    "    state.info['step'] = jp.where(\n",
    "        done | (state.info['step'] > 500), 0, state.info['step']\n",
    "    )\n",
    "\n",
    "    # log total displacement as a proxy metric\n",
    "    state.metrics['total_dist'] = math.normalize(x.pos[self._torso_idx - 1])[1]\n",
    "    state.metrics.update(state.info['rewards'])\n",
    "\n",
    "    done = jp.float32(done)\n",
    "    state = state.replace(\n",
    "        pipeline_state=pipeline_state, obs=obs, reward=reward, done=done\n",
    "    )\n",
    "    return state\n",
    "\n",
    "  def _get_obs(\n",
    "      self,\n",
    "      pipeline_state: base.State,\n",
    "      state_info: dict[str, Any],\n",
    "      obs_history: jax.Array,\n",
    "  ) -> jax.Array:\n",
    "    inv_torso_rot = math.quat_inv(pipeline_state.x.rot[0])\n",
    "    local_rpyrate = math.rotate(pipeline_state.xd.ang[0], inv_torso_rot)\n",
    "\n",
    "    obs = jp.concatenate([\n",
    "        jp.array([local_rpyrate[2]]) * 0.25,                 # yaw rate\n",
    "        math.rotate(jp.array([0, 0, -1]), inv_torso_rot),    # projected gravity\n",
    "        state_info['command'] * jp.array([2.0, 2.0, 0.25]),  # command\n",
    "        pipeline_state.q[7:] - self._default_pose,           # motor angles\n",
    "        state_info['last_act'],                              # last action\n",
    "    ])\n",
    "\n",
    "    # clip, noise\n",
    "    obs = jp.clip(obs, -100.0, 100.0) + self._obs_noise * jax.random.uniform(\n",
    "        state_info['rng'], obs.shape, minval=-1, maxval=1\n",
    "    )\n",
    "    # stack observations through time\n",
    "    obs = jp.roll(obs_history, obs.size).at[:obs.size].set(obs)\n",
    "\n",
    "    return obs\n",
    "\n",
    "  # ------------ reward functions----------------\n",
    "  def _reward_lin_vel_z(self, xd: Motion) -> jax.Array:\n",
    "    # Penalize z axis base linear velocity\n",
    "    return jp.square(xd.vel[0, 2])\n",
    "\n",
    "  def _reward_ang_vel_xy(self, xd: Motion) -> jax.Array:\n",
    "    # Penalize xy axes base angular velocity\n",
    "    return jp.sum(jp.square(xd.ang[0, :2]))\n",
    "\n",
    "  def _reward_orientation(self, x: Transform) -> jax.Array:\n",
    "    # Penalize non flat base orientation\n",
    "    up = jp.array([0.0, 0.0, 1.0])\n",
    "    rot_up = math.rotate(up, x.rot[0])\n",
    "    return jp.sum(jp.square(rot_up[:2]))\n",
    "\n",
    "  def _reward_torques(self, torques: jax.Array) -> jax.Array:\n",
    "    # Penalize torques\n",
    "    return jp.sqrt(jp.sum(jp.square(torques))) + jp.sum(jp.abs(torques))\n",
    "\n",
    "  def _reward_action_rate(\n",
    "      self, act: jax.Array, last_act: jax.Array\n",
    "  ) -> jax.Array:\n",
    "    # Penalize changes in actions\n",
    "    return jp.sum(jp.square(act - last_act))\n",
    "\n",
    "  def _reward_tracking_lin_vel(\n",
    "      self, commands: jax.Array, x: Transform, xd: Motion\n",
    "  ) -> jax.Array:\n",
    "    # Tracking of linear velocity commands (xy axes)\n",
    "    local_vel = math.rotate(xd.vel[0], math.quat_inv(x.rot[0]))\n",
    "    lin_vel_error = jp.sum(jp.square(commands[:2] - local_vel[:2]))\n",
    "    lin_vel_reward = jp.exp(\n",
    "        -lin_vel_error / self.reward_config.rewards.tracking_sigma\n",
    "    )\n",
    "    return lin_vel_reward\n",
    "\n",
    "  def _reward_tracking_ang_vel(\n",
    "      self, commands: jax.Array, x: Transform, xd: Motion\n",
    "  ) -> jax.Array:\n",
    "    # Tracking of angular velocity commands (yaw)\n",
    "    base_ang_vel = math.rotate(xd.ang[0], math.quat_inv(x.rot[0]))\n",
    "    ang_vel_error = jp.square(commands[2] - base_ang_vel[2])\n",
    "    return jp.exp(-ang_vel_error / self.reward_config.rewards.tracking_sigma)\n",
    "\n",
    "  def _reward_feet_air_time(\n",
    "      self, air_time: jax.Array, first_contact: jax.Array, commands: jax.Array\n",
    "  ) -> jax.Array:\n",
    "    # Reward air time.\n",
    "    rew_air_time = jp.sum((air_time - 0.1) * first_contact)\n",
    "    rew_air_time *= (\n",
    "        math.normalize(commands[:2])[1] > 0.05\n",
    "    )  # no reward for zero command\n",
    "    return rew_air_time\n",
    "\n",
    "  def _reward_stand_still(\n",
    "      self,\n",
    "      commands: jax.Array,\n",
    "      joint_angles: jax.Array,\n",
    "  ) -> jax.Array:\n",
    "    # Penalize motion at zero commands\n",
    "    return jp.sum(jp.abs(joint_angles - self._default_pose)) * (\n",
    "        math.normalize(commands[:2])[1] < 0.1\n",
    "    )\n",
    "\n",
    "  def _reward_foot_slip(\n",
    "      self, pipeline_state: base.State, contact_filt: jax.Array\n",
    "  ) -> jax.Array:\n",
    "    # get velocities at feet which are offset from lower legs\n",
    "    # pytype: disable=attribute-error\n",
    "    pos = pipeline_state.site_xpos[self._feet_site_id]  # feet position\n",
    "    feet_offset = pos - pipeline_state.xpos[self._lower_leg_body_id]\n",
    "    # pytype: enable=attribute-error\n",
    "    offset = base.Transform.create(pos=feet_offset)\n",
    "    foot_indices = self._lower_leg_body_id - 1  # we got rid of the world body\n",
    "    foot_vel = offset.vmap().do(pipeline_state.xd.take(foot_indices)).vel\n",
    "\n",
    "    # Penalize large feet velocity for feet that are in contact with the ground.\n",
    "    return jp.sum(jp.square(foot_vel[:, :2]) * contact_filt.reshape((-1, 1)))\n",
    "\n",
    "  def _reward_termination(self, done: jax.Array, step: jax.Array) -> jax.Array:\n",
    "    return done & (step < 500)\n",
    "\n",
    "  def render(\n",
    "      self, trajectory: List[base.State], camera: str | None = None\n",
    "  ) -> Sequence[np.ndarray]:\n",
    "    camera = camera or 'track'\n",
    "    return super().render(trajectory, camera=camera)\n",
    "\n",
    "envs.register_environment('barkour', BarkourEnv)"
   ]
  },
  {
   "cell_type": "code",
   "execution_count": null,
   "metadata": {
    "id": "pi_yrcz-Qp3W"
   },
   "outputs": [],
   "source": [
    "env_name = 'barkour'\n",
    "env = envs.get_environment(env_name)"
   ]
  },
  {
   "cell_type": "markdown",
   "metadata": {
    "id": "nxaNFP9mA23H"
   },
   "source": [
    "## Train Policy\n",
    "\n",
    "To train a policy with domain randomization, we pass in the domain randomization function into the brax train function; brax will call the domain randomization function when rolling out episodes. Training the quadruped takes 6 minutes on a Tesla A100 GPU."
   ]
  },
  {
   "cell_type": "code",
   "execution_count": null,
   "metadata": {
    "id": "cHJCbESGA7Rk"
   },
   "outputs": [],
   "source": [
    "make_networks_factory = functools.partial(\n",
    "    ppo_networks.make_ppo_networks,\n",
    "        policy_hidden_layer_sizes=(128, 128, 128, 128))\n",
    "train_fn = functools.partial(\n",
    "      ppo.train, num_timesteps=100_000_000, num_evals=10,\n",
    "      reward_scaling=1, episode_length=1000, normalize_observations=True,\n",
    "      action_repeat=1, unroll_length=20, num_minibatches=32,\n",
    "      num_updates_per_batch=4, discounting=0.97, learning_rate=3.0e-4,\n",
    "      entropy_cost=1e-2, num_envs=8192, batch_size=256,\n",
    "      network_factory=make_networks_factory,\n",
    "      randomization_fn=domain_randomize, seed=0)\n",
    "\n",
    "x_data = []\n",
    "y_data = []\n",
    "ydataerr = []\n",
    "times = [datetime.now()]\n",
    "max_y, min_y = 40, 0\n",
    "\n",
    "# Reset environments since internals may be overwritten by tracers from the\n",
    "# domain randomization function.\n",
    "env = envs.get_environment(env_name)\n",
    "eval_env = envs.get_environment(env_name)\n",
    "make_inference_fn, params, _= train_fn(environment=env,\n",
    "                                       progress_fn=progress,\n",
    "                                       eval_env=eval_env)\n",
    "\n",
    "print(f'time to jit: {times[1] - times[0]}')\n",
    "print(f'time to train: {times[-1] - times[1]}')"
   ]
  },
  {
   "cell_type": "code",
   "execution_count": null,
   "metadata": {
    "id": "8Yge-CGP5JoO"
   },
   "outputs": [],
   "source": [
    "# Save and reload params.\n",
    "model_path = '/tmp/mjx_brax_quadruped_policy'\n",
    "model.save_params(model_path, params)\n",
    "params = model.load_params(model_path)\n",
    "\n",
    "inference_fn = make_inference_fn(params)\n",
    "jit_inference_fn = jax.jit(inference_fn)"
   ]
  },
  {
   "cell_type": "markdown",
   "metadata": {
    "id": "L01IrN4oCIkC"
   },
   "source": [
    "## Visualize Policy\n",
    "\n",
    "For the Barkour Quadruped, the joystick commands can be set through `x_vel`, `y_vel`, and `ang_vel`. `x_vel` and `y_vel` define the linear forward and sideways velocities with respect to the quadruped torso. `ang_vel` defines the angular velocity of the torso in the z direction."
   ]
  },
  {
   "cell_type": "code",
   "execution_count": null,
   "metadata": {
    "id": "VTbpEtXnEecd"
   },
   "outputs": [],
   "source": [
    "eval_env = envs.get_environment(env_name)\n",
    "\n",
    "jit_reset = jax.jit(eval_env.reset)\n",
    "jit_step = jax.jit(eval_env.step)"
   ]
  },
  {
   "cell_type": "code",
   "execution_count": null,
   "metadata": {
    "id": "HRRN-8L-BivZ"
   },
   "outputs": [],
   "source": [
    "# @markdown Commands **only used for Barkour Env**:\n",
    "x_vel = 1.0  #@param {type: \"number\"}\n",
    "y_vel = 0.0  #@param {type: \"number\"}\n",
    "ang_vel = -0.5  #@param {type: \"number\"}\n",
    "\n",
    "the_command = jp.array([x_vel, y_vel, ang_vel])\n",
    "\n",
    "# initialize the state\n",
    "rng = jax.random.PRNGKey(0)\n",
    "state = jit_reset(rng)\n",
    "state.info['command'] = the_command\n",
    "rollout = [state.pipeline_state]\n",
    "\n",
    "# grab a trajectory\n",
    "n_steps = 500\n",
    "render_every = 2\n",
    "\n",
    "for i in range(n_steps):\n",
    "  act_rng, rng = jax.random.split(rng)\n",
    "  ctrl, _ = jit_inference_fn(state.obs, act_rng)\n",
    "  state = jit_step(state, ctrl)\n",
    "  rollout.append(state.pipeline_state)\n",
    "\n",
    "media.show_video(\n",
    "    eval_env.render(rollout[::render_every], camera='track'),\n",
    "    fps=1.0 / eval_env.dt / render_every)"
   ]
  },
  {
   "cell_type": "markdown",
   "metadata": {
    "id": "aD6H6WD0915X"
   },
   "source": [
    "We can also render the rollout using the Brax renderer."
   ]
  },
  {
   "cell_type": "code",
   "execution_count": null,
   "metadata": {
    "id": "V7jqv08X95u4"
   },
   "outputs": [],
   "source": [
    "HTML(html.render(eval_env.sys.replace(dt=eval_env.dt), rollout))"
   ]
  }
 ],
 "metadata": {
  "accelerator": "GPU",
  "colab": {
   "gpuClass": "premium",
   "gpuType": "V100",
   "machine_shape": "hm",
   "private_outputs": true,
   "toc_visible": true
  },
  "kernelspec": {
   "display_name": "Python 3",
   "name": "python3"
  },
  "language_info": {
   "codemirror_mode": {
    "name": "ipython",
    "version": 3
   },
   "file_extension": ".py",
   "mimetype": "text/x-python",
   "name": "python",
   "nbconvert_exporter": "python",
   "pygments_lexer": "ipython3",
   "version": "3.12.3"
  }
 },
 "nbformat": 4,
 "nbformat_minor": 0
}
