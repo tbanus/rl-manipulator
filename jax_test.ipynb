{
 "cells": [
  {
   "cell_type": "code",
   "execution_count": 1,
   "metadata": {},
   "outputs": [],
   "source": [
    "import mujoco\n",
    "from mujoco import mjx\n",
    "import jax\n",
    "import mediapy as media\n",
    "\n",
    "\n",
    "\n",
    "# Make model, data, and renderer\n",
    "mj_model = mujoco.MjModel.from_xml_path('aloha/scene.xml')\n",
    "mj_data = mujoco.MjData(mj_model)\n",
    "renderer = mujoco.Renderer(mj_model)\n",
    "\n",
    "\n",
    "\n",
    "mjx_model = mjx.put_model(mj_model)\n",
    "mjx_data = mjx.put_data(mj_model, mj_data)\n",
    "\n",
    "# print(mj_data.qpos, type(mj_data.qpos))\n",
    "# print(mjx_data.qpos, type(mjx_data.qpos), mjx_data.qpos.devices())\n",
    "\n",
    "\n",
    "# enable joint visualization option:\n",
    "scene_option = mujoco.MjvOption()\n",
    "scene_option.flags[mujoco.mjtVisFlag.mjVIS_JOINT] = True\n",
    "\n",
    "duration = 3.8  # (seconds)\n",
    "framerate = 30  # (Hz)\n",
    "\n",
    "frames = []\n",
    "mujoco.mj_resetData(mj_model, mj_data)\n",
    "# while mj_data.time < duration:\n",
    "#   mujoco.mj_step(mj_model, mj_data)\n",
    "#   if len(frames) < mj_data.time * framerate:\n",
    "#     renderer.update_scene(mj_data, scene_option=scene_option)\n",
    "#     pixels = renderer.render()\n",
    "#     frames.append(pixels)\n",
    "\n",
    "# # Simulate and display video.\n",
    "# media.show_video(frames, fps=framerate)"
   ]
  },
  {
   "cell_type": "code",
   "execution_count": 2,
   "metadata": {},
   "outputs": [],
   "source": [
    "\n",
    "\n",
    "rng = jax.random.PRNGKey(0)\n",
    "rng = jax.random.split(rng, 24)\n",
    "\n",
    "\n",
    "fun=lambda rng: mjx_data.replace(qpos=jax.random.uniform(rng, (15,)))\n",
    "fun_vmapped = jax.vmap(fun)\n",
    "batch=fun_vmapped(rng)\n",
    "\n",
    "\n",
    "jit_step = jax.jit(jax.vmap(mjx.step, in_axes=(None, 0)))\n",
    "batch = jit_step(mjx_model, batch)\n",
    "\n",
    "\n",
    "print(batch.qpos)"
   ]
  }
 ],
 "metadata": {
  "kernelspec": {
   "display_name": "Python 3",
   "language": "python",
   "name": "python3"
  },
  "language_info": {
   "codemirror_mode": {
    "name": "ipython",
    "version": 3
   },
   "file_extension": ".py",
   "mimetype": "text/x-python",
   "name": "python",
   "nbconvert_exporter": "python",
   "pygments_lexer": "ipython3",
   "version": "3.10.12"
  }
 },
 "nbformat": 4,
 "nbformat_minor": 2
}
