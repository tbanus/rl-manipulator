{
 "cells": [
  {
   "cell_type": "code",
   "execution_count": 5,
   "metadata": {},
   "outputs": [
    {
     "name": "stdout",
     "output_type": "stream",
     "text": [
      "ss (27,)\n",
      "rlist\n",
      "[Traced<ShapedArray(float32[])>with<BatchTrace(level=2/0)> with\n",
      "  val = Traced<ShapedArray(float32[32])>with<DynamicJaxprTrace(level=1/0)>\n",
      "  batch_dim = 0, Traced<ShapedArray(float32[])>with<BatchTrace(level=2/0)> with\n",
      "  val = Traced<ShapedArray(float32[32])>with<DynamicJaxprTrace(level=1/0)>\n",
      "  batch_dim = 0, Traced<ShapedArray(float32[])>with<BatchTrace(level=2/0)> with\n",
      "  val = Traced<ShapedArray(float32[32])>with<DynamicJaxprTrace(level=1/0)>\n",
      "  batch_dim = 0, Traced<ShapedArray(float32[])>with<BatchTrace(level=2/0)> with\n",
      "  val = Traced<ShapedArray(float32[32])>with<DynamicJaxprTrace(level=1/0)>\n",
      "  batch_dim = 0, Traced<ShapedArray(int32[])>with<DynamicJaxprTrace(level=1/0)>]\n",
      "['state_0', 'state_1', 'state_2', 'state_3', 'state_4', 'state_5', 'state_6', 'state_7', 'state_8', 'state_9', 'state_10', 'state_11', 'state_12', 'state_13', 'state_14', 'state_15', 'state_16', 'state_17', 'state_18', 'state_19', 'state_20', 'state_21', 'state_22', 'state_23', 'state_24', 'state_25', 'state_26', 'action_0', 'action_1', 'action_2', 'action_3', 'action_4', 'action_5', 'action_6', 'reward']\n",
      "ep 0\n",
      "ss (27,)\n",
      "rlist\n",
      "[Traced<ShapedArray(float32[])>with<BatchTrace(level=2/0)> with\n",
      "  val = Traced<ShapedArray(float32[32])>with<DynamicJaxprTrace(level=1/0)>\n",
      "  batch_dim = 0, Traced<ShapedArray(float32[])>with<BatchTrace(level=2/0)> with\n",
      "  val = Traced<ShapedArray(float32[32])>with<DynamicJaxprTrace(level=1/0)>\n",
      "  batch_dim = 0, Traced<ShapedArray(float32[])>with<BatchTrace(level=2/0)> with\n",
      "  val = Traced<ShapedArray(float32[32])>with<DynamicJaxprTrace(level=1/0)>\n",
      "  batch_dim = 0, Traced<ShapedArray(float32[])>with<BatchTrace(level=2/0)> with\n",
      "  val = Traced<ShapedArray(float32[32])>with<DynamicJaxprTrace(level=1/0)>\n",
      "  batch_dim = 0, Traced<ShapedArray(int32[])>with<DynamicJaxprTrace(level=1/0)>]\n",
      "['state_0', 'state_1', 'state_2', 'state_3', 'state_4', 'state_5', 'state_6', 'state_7', 'state_8', 'state_9', 'state_10', 'state_11', 'state_12', 'state_13', 'state_14', 'state_15', 'state_16', 'state_17', 'state_18', 'state_19', 'state_20', 'state_21', 'state_22', 'state_23', 'state_24', 'state_25', 'state_26', 'action_0', 'action_1', 'action_2', 'action_3', 'action_4', 'action_5', 'action_6', 'reward']\n",
      "ep 0\n"
     ]
    }
   ],
   "source": [
    "\n",
    "from ActorCritic import *\n",
    "from MujocoSim import *\n",
    "\n",
    "# Instantiate your environment\n",
    "env = MujocoSim()\n",
    "\n",
    "# Create ActorCritic instance\n",
    "ac = ActorCritic(env, actor_params, critic_params)\n",
    "\n",
    "# # Train the model\n",
    "# ac.train(episodes=1000)\n",
    "\n",
    "\n",
    "\n",
    "# Add this method to the ActorCritic class\n",
    "# ActorCritic.train_batch = train_batch\n",
    "# ActorCritic.batch_update = batch_update\n",
    "# ActorCritic.batch_select_action = batch_select_action\n",
    "\n",
    "# Train the model with batches\n",
    "# ac.train_batch(batch_size=32, episodes=1000)\n",
    "ac.train()"
   ]
  },
  {
   "cell_type": "code",
   "execution_count": 6,
   "metadata": {},
   "outputs": [
    {
     "name": "stdout",
     "output_type": "stream",
     "text": [
      "<MujocoSim.MujocoSim object at 0x7bd0ff718e00>\n"
     ]
    }
   ],
   "source": [
    "print(ac.actor_params)"
   ]
  },
  {
   "cell_type": "code",
   "execution_count": 2,
   "metadata": {},
   "outputs": [],
   "source": [
    "import mujoco\n",
    "from mujoco import mjx\n",
    "import jax\n",
    "import mediapy as media\n",
    "\n",
    "\n",
    "\n",
    "# Make model, data, and renderer\n",
    "mj_model = mujoco.MjModel.from_xml_path('aloha/scene.xml')\n",
    "mj_data = mujoco.MjData(mj_model)\n",
    "renderer = mujoco.Renderer(mj_model)\n",
    "\n",
    "\n",
    "\n",
    "mjx_model = mjx.put_model(mj_model)\n",
    "mjx_data = mjx.put_data(mj_model, mj_data)\n",
    "\n",
    "# print(mj_data.qpos, type(mj_data.qpos))\n",
    "# print(mjx_data.qpos, type(mjx_data.qpos), mjx_data.qpos.devices())\n",
    "\n",
    "\n",
    "# enable joint visualization option:\n",
    "scene_option = mujoco.MjvOption()\n",
    "scene_option.flags[mujoco.mjtVisFlag.mjVIS_JOINT] = True\n",
    "\n",
    "duration = 3.8  # (seconds)\n",
    "framerate = 30  # (Hz)\n",
    "\n",
    "frames = []\n",
    "mujoco.mj_resetData(mj_model, mj_data)\n",
    "# while mj_data.time < duration:\n",
    "#   mujoco.mj_step(mj_model, mj_data)\n",
    "#   if len(frames) < mj_data.time * framerate:\n",
    "#     renderer.update_scene(mj_data, scene_option=scene_option)\n",
    "#     pixels = renderer.render()\n",
    "#     frames.append(pixels)\n",
    "\n",
    "# # Simulate and display video.\n",
    "# media.show_video(frames, fps=framerate)"
   ]
  },
  {
   "cell_type": "code",
   "execution_count": 3,
   "metadata": {},
   "outputs": [
    {
     "ename": "",
     "evalue": "",
     "output_type": "error",
     "traceback": [
      "\u001b[1;31mThe Kernel crashed while executing code in the current cell or a previous cell. \n",
      "\u001b[1;31mPlease review the code in the cell(s) to identify a possible cause of the failure. \n",
      "\u001b[1;31mClick <a href='https://aka.ms/vscodeJupyterKernelCrash'>here</a> for more info. \n",
      "\u001b[1;31mView Jupyter <a href='command:jupyter.viewOutput'>log</a> for further details."
     ]
    }
   ],
   "source": [
    "\n",
    "\n",
    "rng = jax.random.PRNGKey(0)\n",
    "rng = jax.random.split(rng, 24)\n",
    "\n",
    "\n",
    "fun=lambda rng: mjx_data.replace(qpos=jax.random.uniform(rng, (15,)))\n",
    "fun_vmapped = jax.vmap(fun)\n",
    "batch=fun_vmapped(rng)\n",
    "\n",
    "\n",
    "jit_step = jax.jit(jax.vmap(mjx.step, in_axes=(None, 0)))\n",
    "batch = jit_step(mjx_model, batch)\n",
    "\n",
    "\n",
    "print(batch.qpos)"
   ]
  }
 ],
 "metadata": {
  "kernelspec": {
   "display_name": "Python 3",
   "language": "python",
   "name": "python3"
  },
  "language_info": {
   "codemirror_mode": {
    "name": "ipython",
    "version": 3
   },
   "file_extension": ".py",
   "mimetype": "text/x-python",
   "name": "python",
   "nbconvert_exporter": "python",
   "pygments_lexer": "ipython3",
   "version": "3.12.3"
  }
 },
 "nbformat": 4,
 "nbformat_minor": 2
}
